{
 "cells": [
  {
   "cell_type": "code",
   "execution_count": 1,
   "metadata": {},
   "outputs": [],
   "source": [
    "import foodwebs as fw\n",
    "\n",
    "# from pylab import rcParams\n",
    "# rcParams['figure.figsize'] = 12, 8"
   ]
  },
  {
   "cell_type": "code",
   "execution_count": 14,
   "metadata": {},
   "outputs": [
    {
     "name": "stdout",
     "output_type": "stream",
     "text": [
      "Alaska, Prince William Sound _ 2 ,   bay/fjord ,  WetWeight ,  BOX(-148.917602345144 59.8326977714434,-145.354763425498 61.3886291588734) ,  Dalsgaard J.,Pauly D.,Okey T.A.(1997). Preliminary mass-balance model of Prince William Sound, Alaska, for the pre-spill period, 1980-1989 Fisheries Centre Research Reports\n",
      "\n",
      "Number of nodes: 19\n",
      "Number of living nodes: 18\n"
     ]
    }
   ],
   "source": [
    "foodweb = fw.read_from_SCOR('examples/Alaska_Prince_William_Sound_2.dat')\n",
    "print(f'{foodweb.title}\\n')\n",
    "print(f'Number of nodes: {foodweb.n}')\n",
    "print(f'Number of living nodes: {foodweb.n_living}')"
   ]
  },
  {
   "cell_type": "markdown",
   "metadata": {},
   "source": [
    "# Trophic Levels visualizations:"
   ]
  },
  {
   "cell_type": "markdown",
   "metadata": {},
   "source": [
    "Show heatmap of flows between trophic levels:"
   ]
  },
  {
   "cell_type": "code",
   "execution_count": 15,
   "metadata": {},
   "outputs": [
    {
     "data": {
      "application/vnd.plotly.v1+json": {
       "config": {
        "plotlyServerURL": "https://plot.ly"
       },
       "data": [
        {
         "colorbar": {
          "tick0": 0,
          "tickmode": "array",
          "ticktext": [
           1,
           10,
           100,
           1000,
           10000
          ],
          "tickvals": [
           -1,
           0,
           1,
           2,
           3,
           4
          ]
         },
         "colorscale": [
          [
           0,
           "rgb(211, 242, 163)"
          ],
          [
           0.16666666666666666,
           "rgb(151, 225, 150)"
          ],
          [
           0.3333333333333333,
           "rgb(108, 192, 139)"
          ],
          [
           0.5,
           "rgb(76, 155, 130)"
          ],
          [
           0.6666666666666666,
           "rgb(33, 122, 121)"
          ],
          [
           0.8333333333333334,
           "rgb(16, 89, 101)"
          ],
          [
           1,
           "rgb(7, 64, 80)"
          ]
         ],
         "customdata": [
          11.4682098,
          11.356667999999999,
          1581.204,
          935.3244499999998,
          2944.52029,
          264.9698735,
          34.353016000000004,
          9.208877,
          12209.436,
          245.66,
          107.91774999999998,
          2546.125,
          0.004326
         ],
         "hoverongaps": false,
         "hovertemplate": "%{y} --> %{x}: %{customdata:.3f}<extra></extra>",
         "type": "heatmap",
         "x": [
          1,
          4,
          2,
          3,
          1,
          1,
          4,
          4,
          2,
          3,
          3,
          1,
          4
         ],
         "xgap": 0.2,
         "y": [
          4,
          2,
          2,
          2,
          2,
          3,
          3,
          4,
          1,
          1,
          3,
          1,
          1
         ],
         "ygap": 0.2,
         "z": [
          1.0594956293519553,
          1.055250929836704,
          3.1989879043148304,
          2.970962287238928,
          3.4690145512876036,
          2.423196498402924,
          1.5359648716621725,
          0.964206672277234,
          4.086695602704497,
          2.3903344475118518,
          2.033092882060709,
          3.405879721186306,
          -2.363913484896927
         ]
        }
       ],
       "layout": {
        "autosize": true,
        "height": 900,
        "template": {
         "data": {
          "bar": [
           {
            "error_x": {
             "color": "#2a3f5f"
            },
            "error_y": {
             "color": "#2a3f5f"
            },
            "marker": {
             "line": {
              "color": "#E5ECF6",
              "width": 0.5
             }
            },
            "type": "bar"
           }
          ],
          "barpolar": [
           {
            "marker": {
             "line": {
              "color": "#E5ECF6",
              "width": 0.5
             }
            },
            "type": "barpolar"
           }
          ],
          "carpet": [
           {
            "aaxis": {
             "endlinecolor": "#2a3f5f",
             "gridcolor": "white",
             "linecolor": "white",
             "minorgridcolor": "white",
             "startlinecolor": "#2a3f5f"
            },
            "baxis": {
             "endlinecolor": "#2a3f5f",
             "gridcolor": "white",
             "linecolor": "white",
             "minorgridcolor": "white",
             "startlinecolor": "#2a3f5f"
            },
            "type": "carpet"
           }
          ],
          "choropleth": [
           {
            "colorbar": {
             "outlinewidth": 0,
             "ticks": ""
            },
            "type": "choropleth"
           }
          ],
          "contour": [
           {
            "colorbar": {
             "outlinewidth": 0,
             "ticks": ""
            },
            "colorscale": [
             [
              0,
              "#0d0887"
             ],
             [
              0.1111111111111111,
              "#46039f"
             ],
             [
              0.2222222222222222,
              "#7201a8"
             ],
             [
              0.3333333333333333,
              "#9c179e"
             ],
             [
              0.4444444444444444,
              "#bd3786"
             ],
             [
              0.5555555555555556,
              "#d8576b"
             ],
             [
              0.6666666666666666,
              "#ed7953"
             ],
             [
              0.7777777777777778,
              "#fb9f3a"
             ],
             [
              0.8888888888888888,
              "#fdca26"
             ],
             [
              1,
              "#f0f921"
             ]
            ],
            "type": "contour"
           }
          ],
          "contourcarpet": [
           {
            "colorbar": {
             "outlinewidth": 0,
             "ticks": ""
            },
            "type": "contourcarpet"
           }
          ],
          "heatmap": [
           {
            "colorbar": {
             "outlinewidth": 0,
             "ticks": ""
            },
            "colorscale": [
             [
              0,
              "#0d0887"
             ],
             [
              0.1111111111111111,
              "#46039f"
             ],
             [
              0.2222222222222222,
              "#7201a8"
             ],
             [
              0.3333333333333333,
              "#9c179e"
             ],
             [
              0.4444444444444444,
              "#bd3786"
             ],
             [
              0.5555555555555556,
              "#d8576b"
             ],
             [
              0.6666666666666666,
              "#ed7953"
             ],
             [
              0.7777777777777778,
              "#fb9f3a"
             ],
             [
              0.8888888888888888,
              "#fdca26"
             ],
             [
              1,
              "#f0f921"
             ]
            ],
            "type": "heatmap"
           }
          ],
          "heatmapgl": [
           {
            "colorbar": {
             "outlinewidth": 0,
             "ticks": ""
            },
            "colorscale": [
             [
              0,
              "#0d0887"
             ],
             [
              0.1111111111111111,
              "#46039f"
             ],
             [
              0.2222222222222222,
              "#7201a8"
             ],
             [
              0.3333333333333333,
              "#9c179e"
             ],
             [
              0.4444444444444444,
              "#bd3786"
             ],
             [
              0.5555555555555556,
              "#d8576b"
             ],
             [
              0.6666666666666666,
              "#ed7953"
             ],
             [
              0.7777777777777778,
              "#fb9f3a"
             ],
             [
              0.8888888888888888,
              "#fdca26"
             ],
             [
              1,
              "#f0f921"
             ]
            ],
            "type": "heatmapgl"
           }
          ],
          "histogram": [
           {
            "marker": {
             "colorbar": {
              "outlinewidth": 0,
              "ticks": ""
             }
            },
            "type": "histogram"
           }
          ],
          "histogram2d": [
           {
            "colorbar": {
             "outlinewidth": 0,
             "ticks": ""
            },
            "colorscale": [
             [
              0,
              "#0d0887"
             ],
             [
              0.1111111111111111,
              "#46039f"
             ],
             [
              0.2222222222222222,
              "#7201a8"
             ],
             [
              0.3333333333333333,
              "#9c179e"
             ],
             [
              0.4444444444444444,
              "#bd3786"
             ],
             [
              0.5555555555555556,
              "#d8576b"
             ],
             [
              0.6666666666666666,
              "#ed7953"
             ],
             [
              0.7777777777777778,
              "#fb9f3a"
             ],
             [
              0.8888888888888888,
              "#fdca26"
             ],
             [
              1,
              "#f0f921"
             ]
            ],
            "type": "histogram2d"
           }
          ],
          "histogram2dcontour": [
           {
            "colorbar": {
             "outlinewidth": 0,
             "ticks": ""
            },
            "colorscale": [
             [
              0,
              "#0d0887"
             ],
             [
              0.1111111111111111,
              "#46039f"
             ],
             [
              0.2222222222222222,
              "#7201a8"
             ],
             [
              0.3333333333333333,
              "#9c179e"
             ],
             [
              0.4444444444444444,
              "#bd3786"
             ],
             [
              0.5555555555555556,
              "#d8576b"
             ],
             [
              0.6666666666666666,
              "#ed7953"
             ],
             [
              0.7777777777777778,
              "#fb9f3a"
             ],
             [
              0.8888888888888888,
              "#fdca26"
             ],
             [
              1,
              "#f0f921"
             ]
            ],
            "type": "histogram2dcontour"
           }
          ],
          "mesh3d": [
           {
            "colorbar": {
             "outlinewidth": 0,
             "ticks": ""
            },
            "type": "mesh3d"
           }
          ],
          "parcoords": [
           {
            "line": {
             "colorbar": {
              "outlinewidth": 0,
              "ticks": ""
             }
            },
            "type": "parcoords"
           }
          ],
          "pie": [
           {
            "automargin": true,
            "type": "pie"
           }
          ],
          "scatter": [
           {
            "marker": {
             "colorbar": {
              "outlinewidth": 0,
              "ticks": ""
             }
            },
            "type": "scatter"
           }
          ],
          "scatter3d": [
           {
            "line": {
             "colorbar": {
              "outlinewidth": 0,
              "ticks": ""
             }
            },
            "marker": {
             "colorbar": {
              "outlinewidth": 0,
              "ticks": ""
             }
            },
            "type": "scatter3d"
           }
          ],
          "scattercarpet": [
           {
            "marker": {
             "colorbar": {
              "outlinewidth": 0,
              "ticks": ""
             }
            },
            "type": "scattercarpet"
           }
          ],
          "scattergeo": [
           {
            "marker": {
             "colorbar": {
              "outlinewidth": 0,
              "ticks": ""
             }
            },
            "type": "scattergeo"
           }
          ],
          "scattergl": [
           {
            "marker": {
             "colorbar": {
              "outlinewidth": 0,
              "ticks": ""
             }
            },
            "type": "scattergl"
           }
          ],
          "scattermapbox": [
           {
            "marker": {
             "colorbar": {
              "outlinewidth": 0,
              "ticks": ""
             }
            },
            "type": "scattermapbox"
           }
          ],
          "scatterpolar": [
           {
            "marker": {
             "colorbar": {
              "outlinewidth": 0,
              "ticks": ""
             }
            },
            "type": "scatterpolar"
           }
          ],
          "scatterpolargl": [
           {
            "marker": {
             "colorbar": {
              "outlinewidth": 0,
              "ticks": ""
             }
            },
            "type": "scatterpolargl"
           }
          ],
          "scatterternary": [
           {
            "marker": {
             "colorbar": {
              "outlinewidth": 0,
              "ticks": ""
             }
            },
            "type": "scatterternary"
           }
          ],
          "surface": [
           {
            "colorbar": {
             "outlinewidth": 0,
             "ticks": ""
            },
            "colorscale": [
             [
              0,
              "#0d0887"
             ],
             [
              0.1111111111111111,
              "#46039f"
             ],
             [
              0.2222222222222222,
              "#7201a8"
             ],
             [
              0.3333333333333333,
              "#9c179e"
             ],
             [
              0.4444444444444444,
              "#bd3786"
             ],
             [
              0.5555555555555556,
              "#d8576b"
             ],
             [
              0.6666666666666666,
              "#ed7953"
             ],
             [
              0.7777777777777778,
              "#fb9f3a"
             ],
             [
              0.8888888888888888,
              "#fdca26"
             ],
             [
              1,
              "#f0f921"
             ]
            ],
            "type": "surface"
           }
          ],
          "table": [
           {
            "cells": {
             "fill": {
              "color": "#EBF0F8"
             },
             "line": {
              "color": "white"
             }
            },
            "header": {
             "fill": {
              "color": "#C8D4E3"
             },
             "line": {
              "color": "white"
             }
            },
            "type": "table"
           }
          ]
         },
         "layout": {
          "annotationdefaults": {
           "arrowcolor": "#2a3f5f",
           "arrowhead": 0,
           "arrowwidth": 1
          },
          "coloraxis": {
           "colorbar": {
            "outlinewidth": 0,
            "ticks": ""
           }
          },
          "colorscale": {
           "diverging": [
            [
             0,
             "#8e0152"
            ],
            [
             0.1,
             "#c51b7d"
            ],
            [
             0.2,
             "#de77ae"
            ],
            [
             0.3,
             "#f1b6da"
            ],
            [
             0.4,
             "#fde0ef"
            ],
            [
             0.5,
             "#f7f7f7"
            ],
            [
             0.6,
             "#e6f5d0"
            ],
            [
             0.7,
             "#b8e186"
            ],
            [
             0.8,
             "#7fbc41"
            ],
            [
             0.9,
             "#4d9221"
            ],
            [
             1,
             "#276419"
            ]
           ],
           "sequential": [
            [
             0,
             "#0d0887"
            ],
            [
             0.1111111111111111,
             "#46039f"
            ],
            [
             0.2222222222222222,
             "#7201a8"
            ],
            [
             0.3333333333333333,
             "#9c179e"
            ],
            [
             0.4444444444444444,
             "#bd3786"
            ],
            [
             0.5555555555555556,
             "#d8576b"
            ],
            [
             0.6666666666666666,
             "#ed7953"
            ],
            [
             0.7777777777777778,
             "#fb9f3a"
            ],
            [
             0.8888888888888888,
             "#fdca26"
            ],
            [
             1,
             "#f0f921"
            ]
           ],
           "sequentialminus": [
            [
             0,
             "#0d0887"
            ],
            [
             0.1111111111111111,
             "#46039f"
            ],
            [
             0.2222222222222222,
             "#7201a8"
            ],
            [
             0.3333333333333333,
             "#9c179e"
            ],
            [
             0.4444444444444444,
             "#bd3786"
            ],
            [
             0.5555555555555556,
             "#d8576b"
            ],
            [
             0.6666666666666666,
             "#ed7953"
            ],
            [
             0.7777777777777778,
             "#fb9f3a"
            ],
            [
             0.8888888888888888,
             "#fdca26"
            ],
            [
             1,
             "#f0f921"
            ]
           ]
          },
          "colorway": [
           "#636efa",
           "#EF553B",
           "#00cc96",
           "#ab63fa",
           "#FFA15A",
           "#19d3f3",
           "#FF6692",
           "#B6E880",
           "#FF97FF",
           "#FECB52"
          ],
          "font": {
           "color": "#2a3f5f"
          },
          "geo": {
           "bgcolor": "white",
           "lakecolor": "white",
           "landcolor": "#E5ECF6",
           "showlakes": true,
           "showland": true,
           "subunitcolor": "white"
          },
          "hoverlabel": {
           "align": "left"
          },
          "hovermode": "closest",
          "mapbox": {
           "style": "light"
          },
          "paper_bgcolor": "white",
          "plot_bgcolor": "#E5ECF6",
          "polar": {
           "angularaxis": {
            "gridcolor": "white",
            "linecolor": "white",
            "ticks": ""
           },
           "bgcolor": "#E5ECF6",
           "radialaxis": {
            "gridcolor": "white",
            "linecolor": "white",
            "ticks": ""
           }
          },
          "scene": {
           "xaxis": {
            "backgroundcolor": "#E5ECF6",
            "gridcolor": "white",
            "gridwidth": 2,
            "linecolor": "white",
            "showbackground": true,
            "ticks": "",
            "zerolinecolor": "white"
           },
           "yaxis": {
            "backgroundcolor": "#E5ECF6",
            "gridcolor": "white",
            "gridwidth": 2,
            "linecolor": "white",
            "showbackground": true,
            "ticks": "",
            "zerolinecolor": "white"
           },
           "zaxis": {
            "backgroundcolor": "#E5ECF6",
            "gridcolor": "white",
            "gridwidth": 2,
            "linecolor": "white",
            "showbackground": true,
            "ticks": "",
            "zerolinecolor": "white"
           }
          },
          "shapedefaults": {
           "line": {
            "color": "#2a3f5f"
           }
          },
          "ternary": {
           "aaxis": {
            "gridcolor": "white",
            "linecolor": "white",
            "ticks": ""
           },
           "baxis": {
            "gridcolor": "white",
            "linecolor": "white",
            "ticks": ""
           },
           "bgcolor": "#E5ECF6",
           "caxis": {
            "gridcolor": "white",
            "linecolor": "white",
            "ticks": ""
           }
          },
          "title": {
           "x": 0.05
          },
          "xaxis": {
           "automargin": true,
           "gridcolor": "white",
           "linecolor": "white",
           "ticks": "",
           "title": {
            "standoff": 15
           },
           "zerolinecolor": "white",
           "zerolinewidth": 2
          },
          "yaxis": {
           "automargin": true,
           "gridcolor": "white",
           "linecolor": "white",
           "ticks": "",
           "title": {
            "standoff": 15
           },
           "zerolinecolor": "white",
           "zerolinewidth": 2
          }
         }
        },
        "title": {
         "text": "Alaska, Prince William Sound _ 2 ,   bay/fjord ,  WetWeight ,  BOX(-148.917602345144 59.8326977714434,-145.354763425498 61.3886291588734) ,  Dalsgaard J.,Pauly D.,Okey T.A.(1997). Preliminary mass-balance model of Prince William Sound, Alaska, for the pre-spill period, 1980-1989 Fisheries Centre Research Reports"
        },
        "width": 1200,
        "xaxis": {
         "autorange": true,
         "dtick": 1,
         "range": [
          0.5,
          4.5
         ],
         "title": {
          "text": "To"
         },
         "type": "linear"
        },
        "yaxis": {
         "autorange": true,
         "dtick": 1,
         "range": [
          0.5,
          4.5
         ],
         "title": {
          "text": "From"
         },
         "type": "linear"
        }
       }
      },
      "image/png": "[encoded data removed]",
      "text/html": [
       "<div>\n",
       "        \n",
       "        \n",
       "            <div id=\"526d7f00-48a1-436e-a393-efbc2036ce91\" class=\"plotly-graph-div\" style=\"height:900px; width:1200px;\"></div>\n",
       "            <script type=\"text/javascript\">\n",
       "                require([\"plotly\"], function(Plotly) {\n",
       "                    window.PLOTLYENV=window.PLOTLYENV || {};\n",
       "                    \n",
       "                if (document.getElementById(\"526d7f00-48a1-436e-a393-efbc2036ce91\")) {\n",
       "                    Plotly.newPlot(\n",
       "                        '526d7f00-48a1-436e-a393-efbc2036ce91',\n",
       "                        [{\"colorbar\": {\"tick0\": 0, \"tickmode\": \"array\", \"ticktext\": [1, 10, 100, 1000, 10000], \"tickvals\": [-1, 0, 1, 2, 3, 4]}, \"colorscale\": [[0.0, \"rgb(211, 242, 163)\"], [0.16666666666666666, \"rgb(151, 225, 150)\"], [0.3333333333333333, \"rgb(108, 192, 139)\"], [0.5, \"rgb(76, 155, 130)\"], [0.6666666666666666, \"rgb(33, 122, 121)\"], [0.8333333333333334, \"rgb(16, 89, 101)\"], [1.0, \"rgb(7, 64, 80)\"]], \"customdata\": [11.4682098, 11.356667999999999, 1581.204, 935.3244499999998, 2944.52029, 264.9698735, 34.353016000000004, 9.208877, 12209.436, 245.66, 107.91774999999998, 2546.125, 0.004326], \"hoverongaps\": false, \"hovertemplate\": \"%{y} --> %{x}: %{customdata:.3f}<extra></extra>\", \"type\": \"heatmap\", \"x\": [1, 4, 2, 3, 1, 1, 4, 4, 2, 3, 3, 1, 4], \"xgap\": 0.2, \"y\": [4, 2, 2, 2, 2, 3, 3, 4, 1, 1, 3, 1, 1], \"ygap\": 0.2, \"z\": [1.0594956293519553, 1.055250929836704, 3.1989879043148304, 2.970962287238928, 3.4690145512876036, 2.423196498402924, 1.5359648716621725, 0.964206672277234, 4.086695602704497, 2.3903344475118518, 2.033092882060709, 3.405879721186306, -2.363913484896927]}],\n",
       "                        {\"autosize\": true, \"height\": 900, \"template\": {\"data\": {\"bar\": [{\"error_x\": {\"color\": \"#2a3f5f\"}, \"error_y\": {\"color\": \"#2a3f5f\"}, \"marker\": {\"line\": {\"color\": \"#E5ECF6\", \"width\": 0.5}}, \"type\": \"bar\"}], \"barpolar\": [{\"marker\": {\"line\": {\"color\": \"#E5ECF6\", \"width\": 0.5}}, \"type\": \"barpolar\"}], \"carpet\": [{\"aaxis\": {\"endlinecolor\": \"#2a3f5f\", \"gridcolor\": \"white\", \"linecolor\": \"white\", \"minorgridcolor\": \"white\", \"startlinecolor\": \"#2a3f5f\"}, \"baxis\": {\"endlinecolor\": \"#2a3f5f\", \"gridcolor\": \"white\", \"linecolor\": \"white\", \"minorgridcolor\": \"white\", \"startlinecolor\": \"#2a3f5f\"}, \"type\": \"carpet\"}], \"choropleth\": [{\"colorbar\": {\"outlinewidth\": 0, \"ticks\": \"\"}, \"type\": \"choropleth\"}], \"contour\": [{\"colorbar\": {\"outlinewidth\": 0, \"ticks\": \"\"}, \"colorscale\": [[0.0, \"#0d0887\"], [0.1111111111111111, \"#46039f\"], [0.2222222222222222, \"#7201a8\"], [0.3333333333333333, \"#9c179e\"], [0.4444444444444444, \"#bd3786\"], [0.5555555555555556, \"#d8576b\"], [0.6666666666666666, \"#ed7953\"], [0.7777777777777778, \"#fb9f3a\"], [0.8888888888888888, \"#fdca26\"], [1.0, \"#f0f921\"]], \"type\": \"contour\"}], \"contourcarpet\": [{\"colorbar\": {\"outlinewidth\": 0, \"ticks\": \"\"}, \"type\": \"contourcarpet\"}], \"heatmap\": [{\"colorbar\": {\"outlinewidth\": 0, \"ticks\": \"\"}, \"colorscale\": [[0.0, \"#0d0887\"], [0.1111111111111111, \"#46039f\"], [0.2222222222222222, \"#7201a8\"], [0.3333333333333333, \"#9c179e\"], [0.4444444444444444, \"#bd3786\"], [0.5555555555555556, \"#d8576b\"], [0.6666666666666666, \"#ed7953\"], [0.7777777777777778, \"#fb9f3a\"], [0.8888888888888888, \"#fdca26\"], [1.0, \"#f0f921\"]], \"type\": \"heatmap\"}], \"heatmapgl\": [{\"colorbar\": {\"outlinewidth\": 0, \"ticks\": \"\"}, \"colorscale\": [[0.0, \"#0d0887\"], [0.1111111111111111, \"#46039f\"], [0.2222222222222222, \"#7201a8\"], [0.3333333333333333, \"#9c179e\"], [0.4444444444444444, \"#bd3786\"], [0.5555555555555556, \"#d8576b\"], [0.6666666666666666, \"#ed7953\"], [0.7777777777777778, \"#fb9f3a\"], [0.8888888888888888, \"#fdca26\"], [1.0, \"#f0f921\"]], \"type\": \"heatmapgl\"}], \"histogram\": [{\"marker\": {\"colorbar\": {\"outlinewidth\": 0, \"ticks\": \"\"}}, \"type\": \"histogram\"}], \"histogram2d\": [{\"colorbar\": {\"outlinewidth\": 0, \"ticks\": \"\"}, \"colorscale\": [[0.0, \"#0d0887\"], [0.1111111111111111, \"#46039f\"], [0.2222222222222222, \"#7201a8\"], [0.3333333333333333, \"#9c179e\"], [0.4444444444444444, \"#bd3786\"], [0.5555555555555556, \"#d8576b\"], [0.6666666666666666, \"#ed7953\"], [0.7777777777777778, \"#fb9f3a\"], [0.8888888888888888, \"#fdca26\"], [1.0, \"#f0f921\"]], \"type\": \"histogram2d\"}], \"histogram2dcontour\": [{\"colorbar\": {\"outlinewidth\": 0, \"ticks\": \"\"}, \"colorscale\": [[0.0, \"#0d0887\"], [0.1111111111111111, \"#46039f\"], [0.2222222222222222, \"#7201a8\"], [0.3333333333333333, \"#9c179e\"], [0.4444444444444444, \"#bd3786\"], [0.5555555555555556, \"#d8576b\"], [0.6666666666666666, \"#ed7953\"], [0.7777777777777778, \"#fb9f3a\"], [0.8888888888888888, \"#fdca26\"], [1.0, \"#f0f921\"]], \"type\": \"histogram2dcontour\"}], \"mesh3d\": [{\"colorbar\": {\"outlinewidth\": 0, \"ticks\": \"\"}, \"type\": \"mesh3d\"}], \"parcoords\": [{\"line\": {\"colorbar\": {\"outlinewidth\": 0, \"ticks\": \"\"}}, \"type\": \"parcoords\"}], \"pie\": [{\"automargin\": true, \"type\": \"pie\"}], \"scatter\": [{\"marker\": {\"colorbar\": {\"outlinewidth\": 0, \"ticks\": \"\"}}, \"type\": \"scatter\"}], \"scatter3d\": [{\"line\": {\"colorbar\": {\"outlinewidth\": 0, \"ticks\": \"\"}}, \"marker\": {\"colorbar\": {\"outlinewidth\": 0, \"ticks\": \"\"}}, \"type\": \"scatter3d\"}], \"scattercarpet\": [{\"marker\": {\"colorbar\": {\"outlinewidth\": 0, \"ticks\": \"\"}}, \"type\": \"scattercarpet\"}], \"scattergeo\": [{\"marker\": {\"colorbar\": {\"outlinewidth\": 0, \"ticks\": \"\"}}, \"type\": \"scattergeo\"}], \"scattergl\": [{\"marker\": {\"colorbar\": {\"outlinewidth\": 0, \"ticks\": \"\"}}, \"type\": \"scattergl\"}], \"scattermapbox\": [{\"marker\": {\"colorbar\": {\"outlinewidth\": 0, \"ticks\": \"\"}}, \"type\": \"scattermapbox\"}], \"scatterpolar\": [{\"marker\": {\"colorbar\": {\"outlinewidth\": 0, \"ticks\": \"\"}}, \"type\": \"scatterpolar\"}], \"scatterpolargl\": [{\"marker\": {\"colorbar\": {\"outlinewidth\": 0, \"ticks\": \"\"}}, \"type\": \"scatterpolargl\"}], \"scatterternary\": [{\"marker\": {\"colorbar\": {\"outlinewidth\": 0, \"ticks\": \"\"}}, \"type\": \"scatterternary\"}], \"surface\": [{\"colorbar\": {\"outlinewidth\": 0, \"ticks\": \"\"}, \"colorscale\": [[0.0, \"#0d0887\"], [0.1111111111111111, \"#46039f\"], [0.2222222222222222, \"#7201a8\"], [0.3333333333333333, \"#9c179e\"], [0.4444444444444444, \"#bd3786\"], [0.5555555555555556, \"#d8576b\"], [0.6666666666666666, \"#ed7953\"], [0.7777777777777778, \"#fb9f3a\"], [0.8888888888888888, \"#fdca26\"], [1.0, \"#f0f921\"]], \"type\": \"surface\"}], \"table\": [{\"cells\": {\"fill\": {\"color\": \"#EBF0F8\"}, \"line\": {\"color\": \"white\"}}, \"header\": {\"fill\": {\"color\": \"#C8D4E3\"}, \"line\": {\"color\": \"white\"}}, \"type\": \"table\"}]}, \"layout\": {\"annotationdefaults\": {\"arrowcolor\": \"#2a3f5f\", \"arrowhead\": 0, \"arrowwidth\": 1}, \"coloraxis\": {\"colorbar\": {\"outlinewidth\": 0, \"ticks\": \"\"}}, \"colorscale\": {\"diverging\": [[0, \"#8e0152\"], [0.1, \"#c51b7d\"], [0.2, \"#de77ae\"], [0.3, \"#f1b6da\"], [0.4, \"#fde0ef\"], [0.5, \"#f7f7f7\"], [0.6, \"#e6f5d0\"], [0.7, \"#b8e186\"], [0.8, \"#7fbc41\"], [0.9, \"#4d9221\"], [1, \"#276419\"]], \"sequential\": [[0.0, \"#0d0887\"], [0.1111111111111111, \"#46039f\"], [0.2222222222222222, \"#7201a8\"], [0.3333333333333333, \"#9c179e\"], [0.4444444444444444, \"#bd3786\"], [0.5555555555555556, \"#d8576b\"], [0.6666666666666666, \"#ed7953\"], [0.7777777777777778, \"#fb9f3a\"], [0.8888888888888888, \"#fdca26\"], [1.0, \"#f0f921\"]], \"sequentialminus\": [[0.0, \"#0d0887\"], [0.1111111111111111, \"#46039f\"], [0.2222222222222222, \"#7201a8\"], [0.3333333333333333, \"#9c179e\"], [0.4444444444444444, \"#bd3786\"], [0.5555555555555556, \"#d8576b\"], [0.6666666666666666, \"#ed7953\"], [0.7777777777777778, \"#fb9f3a\"], [0.8888888888888888, \"#fdca26\"], [1.0, \"#f0f921\"]]}, \"colorway\": [\"#636efa\", \"#EF553B\", \"#00cc96\", \"#ab63fa\", \"#FFA15A\", \"#19d3f3\", \"#FF6692\", \"#B6E880\", \"#FF97FF\", \"#FECB52\"], \"font\": {\"color\": \"#2a3f5f\"}, \"geo\": {\"bgcolor\": \"white\", \"lakecolor\": \"white\", \"landcolor\": \"#E5ECF6\", \"showlakes\": true, \"showland\": true, \"subunitcolor\": \"white\"}, \"hoverlabel\": {\"align\": \"left\"}, \"hovermode\": \"closest\", \"mapbox\": {\"style\": \"light\"}, \"paper_bgcolor\": \"white\", \"plot_bgcolor\": \"#E5ECF6\", \"polar\": {\"angularaxis\": {\"gridcolor\": \"white\", \"linecolor\": \"white\", \"ticks\": \"\"}, \"bgcolor\": \"#E5ECF6\", \"radialaxis\": {\"gridcolor\": \"white\", \"linecolor\": \"white\", \"ticks\": \"\"}}, \"scene\": {\"xaxis\": {\"backgroundcolor\": \"#E5ECF6\", \"gridcolor\": \"white\", \"gridwidth\": 2, \"linecolor\": \"white\", \"showbackground\": true, \"ticks\": \"\", \"zerolinecolor\": \"white\"}, \"yaxis\": {\"backgroundcolor\": \"#E5ECF6\", \"gridcolor\": \"white\", \"gridwidth\": 2, \"linecolor\": \"white\", \"showbackground\": true, \"ticks\": \"\", \"zerolinecolor\": \"white\"}, \"zaxis\": {\"backgroundcolor\": \"#E5ECF6\", \"gridcolor\": \"white\", \"gridwidth\": 2, \"linecolor\": \"white\", \"showbackground\": true, \"ticks\": \"\", \"zerolinecolor\": \"white\"}}, \"shapedefaults\": {\"line\": {\"color\": \"#2a3f5f\"}}, \"ternary\": {\"aaxis\": {\"gridcolor\": \"white\", \"linecolor\": \"white\", \"ticks\": \"\"}, \"baxis\": {\"gridcolor\": \"white\", \"linecolor\": \"white\", \"ticks\": \"\"}, \"bgcolor\": \"#E5ECF6\", \"caxis\": {\"gridcolor\": \"white\", \"linecolor\": \"white\", \"ticks\": \"\"}}, \"title\": {\"x\": 0.05}, \"xaxis\": {\"automargin\": true, \"gridcolor\": \"white\", \"linecolor\": \"white\", \"ticks\": \"\", \"title\": {\"standoff\": 15}, \"zerolinecolor\": \"white\", \"zerolinewidth\": 2}, \"yaxis\": {\"automargin\": true, \"gridcolor\": \"white\", \"linecolor\": \"white\", \"ticks\": \"\", \"title\": {\"standoff\": 15}, \"zerolinecolor\": \"white\", \"zerolinewidth\": 2}}}, \"title\": {\"text\": \"Alaska, Prince William Sound _ 2 ,   bay/fjord ,  WetWeight ,  BOX(-148.917602345144 59.8326977714434,-145.354763425498 61.3886291588734) ,  Dalsgaard J.,Pauly D.,Okey T.A.(1997). Preliminary mass-balance model of Prince William Sound, Alaska, for the pre-spill period, 1980-1989 Fisheries Centre Research Reports\"}, \"width\": 1200, \"xaxis\": {\"dtick\": 1, \"title\": {\"text\": \"To\"}}, \"yaxis\": {\"dtick\": 1, \"title\": {\"text\": \"From\"}}},\n",
       "                        {\"responsive\": true}\n",
       "                    ).then(function(){\n",
       "                            \n",
       "var gd = document.getElementById('526d7f00-48a1-436e-a393-efbc2036ce91');\n",
       "var x = new MutationObserver(function (mutations, observer) {{\n",
       "        var display = window.getComputedStyle(gd).display;\n",
       "        if (!display || display === 'none') {{\n",
       "            console.log([gd, 'removed!']);\n",
       "            Plotly.purge(gd);\n",
       "            observer.disconnect();\n",
       "        }}\n",
       "}});\n",
       "\n",
       "// Listen for the removal of the full notebook cells\n",
       "var notebookContainer = gd.closest('#notebook-container');\n",
       "if (notebookContainer) {{\n",
       "    x.observe(notebookContainer, {childList: true});\n",
       "}}\n",
       "\n",
       "// Listen for the clearing of the current output cell\n",
       "var outputEl = gd.closest('.output');\n",
       "if (outputEl) {{\n",
       "    x.observe(outputEl, {childList: true});\n",
       "}}\n",
       "\n",
       "                        })\n",
       "                };\n",
       "                });\n",
       "            </script>\n",
       "        </div>"
      ]
     },
     "metadata": {},
     "output_type": "display_data"
    }
   ],
   "source": [
    "fw.draw_trophic_flows_heatmap(foodweb, log_scale=True)"
   ]
  },
  {
   "cell_type": "markdown",
   "metadata": {},
   "source": [
    "Show distribution of flows between trophic levels:"
   ]
  },
  {
   "cell_type": "code",
   "execution_count": 16,
   "metadata": {},
   "outputs": [
    {
     "data": {
      "application/vnd.plotly.v1+json": {
       "config": {
        "plotlyServerURL": "https://plot.ly"
       },
       "data": [
        {
         "alignmentgroup": "True",
         "hovertemplate": "to=1<br>percentage=%{x}<br>from=%{y}<extra></extra>",
         "legendgroup": "1",
         "marker": {
          "color": "#1F77B4"
         },
         "name": "1",
         "offsetgroup": "1",
         "orientation": "h",
         "showlegend": true,
         "textposition": "auto",
         "type": "bar",
         "x": [
          0.5546337310921382,
          0.5380669139927873,
          0.6506469340224086,
          0.16972780187409606
         ],
         "xaxis": "x",
         "y": [
          4,
          2,
          3,
          1
         ],
         "yaxis": "y"
        },
        {
         "alignmentgroup": "True",
         "hovertemplate": "to=4<br>percentage=%{x}<br>from=%{y}<extra></extra>",
         "legendgroup": "4",
         "marker": {
          "color": "#FF7F0E"
         },
         "name": "4",
         "offsetgroup": "4",
         "orientation": "h",
         "showlegend": true,
         "textposition": "auto",
         "type": "bar",
         "x": [
          0.0020752607223503425,
          0.084355569331631,
          0.44536626890786185,
          2.8837644298977447e-07
         ],
         "xaxis": "x",
         "y": [
          2,
          3,
          4,
          1
         ],
         "yaxis": "y"
        },
        {
         "alignmentgroup": "True",
         "hovertemplate": "to=2<br>percentage=%{x}<br>from=%{y}<extra></extra>",
         "legendgroup": "2",
         "marker": {
          "color": "#2CA02C"
         },
         "name": "2",
         "offsetgroup": "2",
         "orientation": "h",
         "showlegend": true,
         "textposition": "auto",
         "type": "bar",
         "x": [
          0.2889413122954066,
          0.813895914145007
         ],
         "xaxis": "x",
         "y": [
          2,
          1
         ],
         "yaxis": "y"
        },
        {
         "alignmentgroup": "True",
         "hovertemplate": "to=3<br>percentage=%{x}<br>from=%{y}<extra></extra>",
         "legendgroup": "3",
         "marker": {
          "color": "#D62728"
         },
         "name": "3",
         "offsetgroup": "3",
         "orientation": "h",
         "showlegend": true,
         "textposition": "auto",
         "type": "bar",
         "x": [
          0.17091651298945576,
          0.016375995604453998,
          0.2649974966459603
         ],
         "xaxis": "x",
         "y": [
          2,
          1,
          3
         ],
         "yaxis": "y"
        }
       ],
       "layout": {
        "barmode": "relative",
        "height": 600,
        "legend": {
         "title": {
          "text": "to"
         },
         "tracegroupgap": 0
        },
        "template": {
         "data": {
          "bar": [
           {
            "error_x": {
             "color": "rgb(36,36,36)"
            },
            "error_y": {
             "color": "rgb(36,36,36)"
            },
            "marker": {
             "line": {
              "color": "white",
              "width": 0.5
             }
            },
            "type": "bar"
           }
          ],
          "barpolar": [
           {
            "marker": {
             "line": {
              "color": "white",
              "width": 0.5
             }
            },
            "type": "barpolar"
           }
          ],
          "carpet": [
           {
            "aaxis": {
             "endlinecolor": "rgb(36,36,36)",
             "gridcolor": "white",
             "linecolor": "white",
             "minorgridcolor": "white",
             "startlinecolor": "rgb(36,36,36)"
            },
            "baxis": {
             "endlinecolor": "rgb(36,36,36)",
             "gridcolor": "white",
             "linecolor": "white",
             "minorgridcolor": "white",
             "startlinecolor": "rgb(36,36,36)"
            },
            "type": "carpet"
           }
          ],
          "choropleth": [
           {
            "colorbar": {
             "outlinewidth": 1,
             "tickcolor": "rgb(36,36,36)",
             "ticks": "outside"
            },
            "type": "choropleth"
           }
          ],
          "contour": [
           {
            "colorbar": {
             "outlinewidth": 1,
             "tickcolor": "rgb(36,36,36)",
             "ticks": "outside"
            },
            "colorscale": [
             [
              0,
              "#440154"
             ],
             [
              0.1111111111111111,
              "#482878"
             ],
             [
              0.2222222222222222,
              "#3e4989"
             ],
             [
              0.3333333333333333,
              "#31688e"
             ],
             [
              0.4444444444444444,
              "#26828e"
             ],
             [
              0.5555555555555556,
              "#1f9e89"
             ],
             [
              0.6666666666666666,
              "#35b779"
             ],
             [
              0.7777777777777778,
              "#6ece58"
             ],
             [
              0.8888888888888888,
              "#b5de2b"
             ],
             [
              1,
              "#fde725"
             ]
            ],
            "type": "contour"
           }
          ],
          "contourcarpet": [
           {
            "colorbar": {
             "outlinewidth": 1,
             "tickcolor": "rgb(36,36,36)",
             "ticks": "outside"
            },
            "type": "contourcarpet"
           }
          ],
          "heatmap": [
           {
            "colorbar": {
             "outlinewidth": 1,
             "tickcolor": "rgb(36,36,36)",
             "ticks": "outside"
            },
            "colorscale": [
             [
              0,
              "#440154"
             ],
             [
              0.1111111111111111,
              "#482878"
             ],
             [
              0.2222222222222222,
              "#3e4989"
             ],
             [
              0.3333333333333333,
              "#31688e"
             ],
             [
              0.4444444444444444,
              "#26828e"
             ],
             [
              0.5555555555555556,
              "#1f9e89"
             ],
             [
              0.6666666666666666,
              "#35b779"
             ],
             [
              0.7777777777777778,
              "#6ece58"
             ],
             [
              0.8888888888888888,
              "#b5de2b"
             ],
             [
              1,
              "#fde725"
             ]
            ],
            "type": "heatmap"
           }
          ],
          "heatmapgl": [
           {
            "colorbar": {
             "outlinewidth": 1,
             "tickcolor": "rgb(36,36,36)",
             "ticks": "outside"
            },
            "colorscale": [
             [
              0,
              "#440154"
             ],
             [
              0.1111111111111111,
              "#482878"
             ],
             [
              0.2222222222222222,
              "#3e4989"
             ],
             [
              0.3333333333333333,
              "#31688e"
             ],
             [
              0.4444444444444444,
              "#26828e"
             ],
             [
              0.5555555555555556,
              "#1f9e89"
             ],
             [
              0.6666666666666666,
              "#35b779"
             ],
             [
              0.7777777777777778,
              "#6ece58"
             ],
             [
              0.8888888888888888,
              "#b5de2b"
             ],
             [
              1,
              "#fde725"
             ]
            ],
            "type": "heatmapgl"
           }
          ],
          "histogram": [
           {
            "marker": {
             "line": {
              "color": "white",
              "width": 0.6
             }
            },
            "type": "histogram"
           }
          ],
          "histogram2d": [
           {
            "colorbar": {
             "outlinewidth": 1,
             "tickcolor": "rgb(36,36,36)",
             "ticks": "outside"
            },
            "colorscale": [
             [
              0,
              "#440154"
             ],
             [
              0.1111111111111111,
              "#482878"
             ],
             [
              0.2222222222222222,
              "#3e4989"
             ],
             [
              0.3333333333333333,
              "#31688e"
             ],
             [
              0.4444444444444444,
              "#26828e"
             ],
             [
              0.5555555555555556,
              "#1f9e89"
             ],
             [
              0.6666666666666666,
              "#35b779"
             ],
             [
              0.7777777777777778,
              "#6ece58"
             ],
             [
              0.8888888888888888,
              "#b5de2b"
             ],
             [
              1,
              "#fde725"
             ]
            ],
            "type": "histogram2d"
           }
          ],
          "histogram2dcontour": [
           {
            "colorbar": {
             "outlinewidth": 1,
             "tickcolor": "rgb(36,36,36)",
             "ticks": "outside"
            },
            "colorscale": [
             [
              0,
              "#440154"
             ],
             [
              0.1111111111111111,
              "#482878"
             ],
             [
              0.2222222222222222,
              "#3e4989"
             ],
             [
              0.3333333333333333,
              "#31688e"
             ],
             [
              0.4444444444444444,
              "#26828e"
             ],
             [
              0.5555555555555556,
              "#1f9e89"
             ],
             [
              0.6666666666666666,
              "#35b779"
             ],
             [
              0.7777777777777778,
              "#6ece58"
             ],
             [
              0.8888888888888888,
              "#b5de2b"
             ],
             [
              1,
              "#fde725"
             ]
            ],
            "type": "histogram2dcontour"
           }
          ],
          "mesh3d": [
           {
            "colorbar": {
             "outlinewidth": 1,
             "tickcolor": "rgb(36,36,36)",
             "ticks": "outside"
            },
            "type": "mesh3d"
           }
          ],
          "parcoords": [
           {
            "line": {
             "colorbar": {
              "outlinewidth": 1,
              "tickcolor": "rgb(36,36,36)",
              "ticks": "outside"
             }
            },
            "type": "parcoords"
           }
          ],
          "pie": [
           {
            "automargin": true,
            "type": "pie"
           }
          ],
          "scatter": [
           {
            "marker": {
             "colorbar": {
              "outlinewidth": 1,
              "tickcolor": "rgb(36,36,36)",
              "ticks": "outside"
             }
            },
            "type": "scatter"
           }
          ],
          "scatter3d": [
           {
            "line": {
             "colorbar": {
              "outlinewidth": 1,
              "tickcolor": "rgb(36,36,36)",
              "ticks": "outside"
             }
            },
            "marker": {
             "colorbar": {
              "outlinewidth": 1,
              "tickcolor": "rgb(36,36,36)",
              "ticks": "outside"
             }
            },
            "type": "scatter3d"
           }
          ],
          "scattercarpet": [
           {
            "marker": {
             "colorbar": {
              "outlinewidth": 1,
              "tickcolor": "rgb(36,36,36)",
              "ticks": "outside"
             }
            },
            "type": "scattercarpet"
           }
          ],
          "scattergeo": [
           {
            "marker": {
             "colorbar": {
              "outlinewidth": 1,
              "tickcolor": "rgb(36,36,36)",
              "ticks": "outside"
             }
            },
            "type": "scattergeo"
           }
          ],
          "scattergl": [
           {
            "marker": {
             "colorbar": {
              "outlinewidth": 1,
              "tickcolor": "rgb(36,36,36)",
              "ticks": "outside"
             }
            },
            "type": "scattergl"
           }
          ],
          "scattermapbox": [
           {
            "marker": {
             "colorbar": {
              "outlinewidth": 1,
              "tickcolor": "rgb(36,36,36)",
              "ticks": "outside"
             }
            },
            "type": "scattermapbox"
           }
          ],
          "scatterpolar": [
           {
            "marker": {
             "colorbar": {
              "outlinewidth": 1,
              "tickcolor": "rgb(36,36,36)",
              "ticks": "outside"
             }
            },
            "type": "scatterpolar"
           }
          ],
          "scatterpolargl": [
           {
            "marker": {
             "colorbar": {
              "outlinewidth": 1,
              "tickcolor": "rgb(36,36,36)",
              "ticks": "outside"
             }
            },
            "type": "scatterpolargl"
           }
          ],
          "scatterternary": [
           {
            "marker": {
             "colorbar": {
              "outlinewidth": 1,
              "tickcolor": "rgb(36,36,36)",
              "ticks": "outside"
             }
            },
            "type": "scatterternary"
           }
          ],
          "surface": [
           {
            "colorbar": {
             "outlinewidth": 1,
             "tickcolor": "rgb(36,36,36)",
             "ticks": "outside"
            },
            "colorscale": [
             [
              0,
              "#440154"
             ],
             [
              0.1111111111111111,
              "#482878"
             ],
             [
              0.2222222222222222,
              "#3e4989"
             ],
             [
              0.3333333333333333,
              "#31688e"
             ],
             [
              0.4444444444444444,
              "#26828e"
             ],
             [
              0.5555555555555556,
              "#1f9e89"
             ],
             [
              0.6666666666666666,
              "#35b779"
             ],
             [
              0.7777777777777778,
              "#6ece58"
             ],
             [
              0.8888888888888888,
              "#b5de2b"
             ],
             [
              1,
              "#fde725"
             ]
            ],
            "type": "surface"
           }
          ],
          "table": [
           {
            "cells": {
             "fill": {
              "color": "rgb(237,237,237)"
             },
             "line": {
              "color": "white"
             }
            },
            "header": {
             "fill": {
              "color": "rgb(217,217,217)"
             },
             "line": {
              "color": "white"
             }
            },
            "type": "table"
           }
          ]
         },
         "layout": {
          "annotationdefaults": {
           "arrowhead": 0,
           "arrowwidth": 1
          },
          "coloraxis": {
           "colorbar": {
            "outlinewidth": 1,
            "tickcolor": "rgb(36,36,36)",
            "ticks": "outside"
           }
          },
          "colorscale": {
           "diverging": [
            [
             0,
             "rgb(103,0,31)"
            ],
            [
             0.1,
             "rgb(178,24,43)"
            ],
            [
             0.2,
             "rgb(214,96,77)"
            ],
            [
             0.3,
             "rgb(244,165,130)"
            ],
            [
             0.4,
             "rgb(253,219,199)"
            ],
            [
             0.5,
             "rgb(247,247,247)"
            ],
            [
             0.6,
             "rgb(209,229,240)"
            ],
            [
             0.7,
             "rgb(146,197,222)"
            ],
            [
             0.8,
             "rgb(67,147,195)"
            ],
            [
             0.9,
             "rgb(33,102,172)"
            ],
            [
             1,
             "rgb(5,48,97)"
            ]
           ],
           "sequential": [
            [
             0,
             "#440154"
            ],
            [
             0.1111111111111111,
             "#482878"
            ],
            [
             0.2222222222222222,
             "#3e4989"
            ],
            [
             0.3333333333333333,
             "#31688e"
            ],
            [
             0.4444444444444444,
             "#26828e"
            ],
            [
             0.5555555555555556,
             "#1f9e89"
            ],
            [
             0.6666666666666666,
             "#35b779"
            ],
            [
             0.7777777777777778,
             "#6ece58"
            ],
            [
             0.8888888888888888,
             "#b5de2b"
            ],
            [
             1,
             "#fde725"
            ]
           ],
           "sequentialminus": [
            [
             0,
             "#440154"
            ],
            [
             0.1111111111111111,
             "#482878"
            ],
            [
             0.2222222222222222,
             "#3e4989"
            ],
            [
             0.3333333333333333,
             "#31688e"
            ],
            [
             0.4444444444444444,
             "#26828e"
            ],
            [
             0.5555555555555556,
             "#1f9e89"
            ],
            [
             0.6666666666666666,
             "#35b779"
            ],
            [
             0.7777777777777778,
             "#6ece58"
            ],
            [
             0.8888888888888888,
             "#b5de2b"
            ],
            [
             1,
             "#fde725"
            ]
           ]
          },
          "colorway": [
           "#1F77B4",
           "#FF7F0E",
           "#2CA02C",
           "#D62728",
           "#9467BD",
           "#8C564B",
           "#E377C2",
           "#7F7F7F",
           "#BCBD22",
           "#17BECF"
          ],
          "font": {
           "color": "rgb(36,36,36)"
          },
          "geo": {
           "bgcolor": "white",
           "lakecolor": "white",
           "landcolor": "white",
           "showlakes": true,
           "showland": true,
           "subunitcolor": "white"
          },
          "hoverlabel": {
           "align": "left"
          },
          "hovermode": "closest",
          "mapbox": {
           "style": "light"
          },
          "paper_bgcolor": "white",
          "plot_bgcolor": "white",
          "polar": {
           "angularaxis": {
            "gridcolor": "rgb(232,232,232)",
            "linecolor": "rgb(36,36,36)",
            "showgrid": false,
            "showline": true,
            "ticks": "outside"
           },
           "bgcolor": "white",
           "radialaxis": {
            "gridcolor": "rgb(232,232,232)",
            "linecolor": "rgb(36,36,36)",
            "showgrid": false,
            "showline": true,
            "ticks": "outside"
           }
          },
          "scene": {
           "xaxis": {
            "backgroundcolor": "white",
            "gridcolor": "rgb(232,232,232)",
            "gridwidth": 2,
            "linecolor": "rgb(36,36,36)",
            "showbackground": true,
            "showgrid": false,
            "showline": true,
            "ticks": "outside",
            "zeroline": false,
            "zerolinecolor": "rgb(36,36,36)"
           },
           "yaxis": {
            "backgroundcolor": "white",
            "gridcolor": "rgb(232,232,232)",
            "gridwidth": 2,
            "linecolor": "rgb(36,36,36)",
            "showbackground": true,
            "showgrid": false,
            "showline": true,
            "ticks": "outside",
            "zeroline": false,
            "zerolinecolor": "rgb(36,36,36)"
           },
           "zaxis": {
            "backgroundcolor": "white",
            "gridcolor": "rgb(232,232,232)",
            "gridwidth": 2,
            "linecolor": "rgb(36,36,36)",
            "showbackground": true,
            "showgrid": false,
            "showline": true,
            "ticks": "outside",
            "zeroline": false,
            "zerolinecolor": "rgb(36,36,36)"
           }
          },
          "shapedefaults": {
           "fillcolor": "black",
           "line": {
            "width": 0
           },
           "opacity": 0.3
          },
          "ternary": {
           "aaxis": {
            "gridcolor": "rgb(232,232,232)",
            "linecolor": "rgb(36,36,36)",
            "showgrid": false,
            "showline": true,
            "ticks": "outside"
           },
           "baxis": {
            "gridcolor": "rgb(232,232,232)",
            "linecolor": "rgb(36,36,36)",
            "showgrid": false,
            "showline": true,
            "ticks": "outside"
           },
           "bgcolor": "white",
           "caxis": {
            "gridcolor": "rgb(232,232,232)",
            "linecolor": "rgb(36,36,36)",
            "showgrid": false,
            "showline": true,
            "ticks": "outside"
           }
          },
          "title": {
           "x": 0.05
          },
          "xaxis": {
           "automargin": true,
           "gridcolor": "rgb(232,232,232)",
           "linecolor": "rgb(36,36,36)",
           "showgrid": false,
           "showline": true,
           "ticks": "outside",
           "title": {
            "standoff": 15
           },
           "zeroline": false,
           "zerolinecolor": "rgb(36,36,36)"
          },
          "yaxis": {
           "automargin": true,
           "gridcolor": "rgb(232,232,232)",
           "linecolor": "rgb(36,36,36)",
           "showgrid": false,
           "showline": true,
           "ticks": "outside",
           "title": {
            "standoff": 15
           },
           "zeroline": false,
           "zerolinecolor": "rgb(36,36,36)"
          }
         }
        },
        "title": {
         "text": "Alaska, Prince William Sound _ 2 ,   bay/fjord ,  WetWeight ,  BOX(-148.917602345144 59.8326977714434,-145.354763425498 61.3886291588734) ,  Dalsgaard J.,Pauly D.,Okey T.A.(1997). Preliminary mass-balance model of Prince William Sound, Alaska, for the pre-spill period, 1980-1989 Fisheries Centre Research Reports"
        },
        "width": 1000,
        "xaxis": {
         "anchor": "y",
         "autorange": true,
         "domain": [
          0,
          1
         ],
         "range": [
          0,
          1.0526315789473684
         ],
         "title": {
          "text": "percentage"
         },
         "type": "linear"
        },
        "yaxis": {
         "anchor": "x",
         "autorange": true,
         "domain": [
          0,
          1
         ],
         "range": [
          0.5,
          4.5
         ],
         "title": {
          "text": "from"
         },
         "type": "linear"
        }
       }
      },
      "image/png": "[encoded data removed]",
      "text/html": [
       "<div>\n",
       "        \n",
       "        \n",
       "            <div id=\"6deceff4-5f6f-4252-b8b6-e38f45dd664f\" class=\"plotly-graph-div\" style=\"height:600px; width:1000px;\"></div>\n",
       "            <script type=\"text/javascript\">\n",
       "                require([\"plotly\"], function(Plotly) {\n",
       "                    window.PLOTLYENV=window.PLOTLYENV || {};\n",
       "                    \n",
       "                if (document.getElementById(\"6deceff4-5f6f-4252-b8b6-e38f45dd664f\")) {\n",
       "                    Plotly.newPlot(\n",
       "                        '6deceff4-5f6f-4252-b8b6-e38f45dd664f',\n",
       "                        [{\"alignmentgroup\": \"True\", \"hovertemplate\": \"to=1<br>percentage=%{x}<br>from=%{y}<extra></extra>\", \"legendgroup\": \"1\", \"marker\": {\"color\": \"#1F77B4\"}, \"name\": \"1\", \"offsetgroup\": \"1\", \"orientation\": \"h\", \"showlegend\": true, \"textposition\": \"auto\", \"type\": \"bar\", \"x\": [0.5546337310921382, 0.5380669139927873, 0.6506469340224086, 0.16972780187409606], \"xaxis\": \"x\", \"y\": [4, 2, 3, 1], \"yaxis\": \"y\"}, {\"alignmentgroup\": \"True\", \"hovertemplate\": \"to=4<br>percentage=%{x}<br>from=%{y}<extra></extra>\", \"legendgroup\": \"4\", \"marker\": {\"color\": \"#FF7F0E\"}, \"name\": \"4\", \"offsetgroup\": \"4\", \"orientation\": \"h\", \"showlegend\": true, \"textposition\": \"auto\", \"type\": \"bar\", \"x\": [0.0020752607223503425, 0.084355569331631, 0.44536626890786185, 2.8837644298977447e-07], \"xaxis\": \"x\", \"y\": [2, 3, 4, 1], \"yaxis\": \"y\"}, {\"alignmentgroup\": \"True\", \"hovertemplate\": \"to=2<br>percentage=%{x}<br>from=%{y}<extra></extra>\", \"legendgroup\": \"2\", \"marker\": {\"color\": \"#2CA02C\"}, \"name\": \"2\", \"offsetgroup\": \"2\", \"orientation\": \"h\", \"showlegend\": true, \"textposition\": \"auto\", \"type\": \"bar\", \"x\": [0.2889413122954066, 0.813895914145007], \"xaxis\": \"x\", \"y\": [2, 1], \"yaxis\": \"y\"}, {\"alignmentgroup\": \"True\", \"hovertemplate\": \"to=3<br>percentage=%{x}<br>from=%{y}<extra></extra>\", \"legendgroup\": \"3\", \"marker\": {\"color\": \"#D62728\"}, \"name\": \"3\", \"offsetgroup\": \"3\", \"orientation\": \"h\", \"showlegend\": true, \"textposition\": \"auto\", \"type\": \"bar\", \"x\": [0.17091651298945576, 0.016375995604453998, 0.2649974966459603], \"xaxis\": \"x\", \"y\": [2, 1, 3], \"yaxis\": \"y\"}],\n",
       "                        {\"barmode\": \"relative\", \"height\": 600, \"legend\": {\"title\": {\"text\": \"to\"}, \"tracegroupgap\": 0}, \"template\": {\"data\": {\"bar\": [{\"error_x\": {\"color\": \"rgb(36,36,36)\"}, \"error_y\": {\"color\": \"rgb(36,36,36)\"}, \"marker\": {\"line\": {\"color\": \"white\", \"width\": 0.5}}, \"type\": \"bar\"}], \"barpolar\": [{\"marker\": {\"line\": {\"color\": \"white\", \"width\": 0.5}}, \"type\": \"barpolar\"}], \"carpet\": [{\"aaxis\": {\"endlinecolor\": \"rgb(36,36,36)\", \"gridcolor\": \"white\", \"linecolor\": \"white\", \"minorgridcolor\": \"white\", \"startlinecolor\": \"rgb(36,36,36)\"}, \"baxis\": {\"endlinecolor\": \"rgb(36,36,36)\", \"gridcolor\": \"white\", \"linecolor\": \"white\", \"minorgridcolor\": \"white\", \"startlinecolor\": \"rgb(36,36,36)\"}, \"type\": \"carpet\"}], \"choropleth\": [{\"colorbar\": {\"outlinewidth\": 1, \"tickcolor\": \"rgb(36,36,36)\", \"ticks\": \"outside\"}, \"type\": \"choropleth\"}], \"contour\": [{\"colorbar\": {\"outlinewidth\": 1, \"tickcolor\": \"rgb(36,36,36)\", \"ticks\": \"outside\"}, \"colorscale\": [[0.0, \"#440154\"], [0.1111111111111111, \"#482878\"], [0.2222222222222222, \"#3e4989\"], [0.3333333333333333, \"#31688e\"], [0.4444444444444444, \"#26828e\"], [0.5555555555555556, \"#1f9e89\"], [0.6666666666666666, \"#35b779\"], [0.7777777777777778, \"#6ece58\"], [0.8888888888888888, \"#b5de2b\"], [1.0, \"#fde725\"]], \"type\": \"contour\"}], \"contourcarpet\": [{\"colorbar\": {\"outlinewidth\": 1, \"tickcolor\": \"rgb(36,36,36)\", \"ticks\": \"outside\"}, \"type\": \"contourcarpet\"}], \"heatmap\": [{\"colorbar\": {\"outlinewidth\": 1, \"tickcolor\": \"rgb(36,36,36)\", \"ticks\": \"outside\"}, \"colorscale\": [[0.0, \"#440154\"], [0.1111111111111111, \"#482878\"], [0.2222222222222222, \"#3e4989\"], [0.3333333333333333, \"#31688e\"], [0.4444444444444444, \"#26828e\"], [0.5555555555555556, \"#1f9e89\"], [0.6666666666666666, \"#35b779\"], [0.7777777777777778, \"#6ece58\"], [0.8888888888888888, \"#b5de2b\"], [1.0, \"#fde725\"]], \"type\": \"heatmap\"}], \"heatmapgl\": [{\"colorbar\": {\"outlinewidth\": 1, \"tickcolor\": \"rgb(36,36,36)\", \"ticks\": \"outside\"}, \"colorscale\": [[0.0, \"#440154\"], [0.1111111111111111, \"#482878\"], [0.2222222222222222, \"#3e4989\"], [0.3333333333333333, \"#31688e\"], [0.4444444444444444, \"#26828e\"], [0.5555555555555556, \"#1f9e89\"], [0.6666666666666666, \"#35b779\"], [0.7777777777777778, \"#6ece58\"], [0.8888888888888888, \"#b5de2b\"], [1.0, \"#fde725\"]], \"type\": \"heatmapgl\"}], \"histogram\": [{\"marker\": {\"line\": {\"color\": \"white\", \"width\": 0.6}}, \"type\": \"histogram\"}], \"histogram2d\": [{\"colorbar\": {\"outlinewidth\": 1, \"tickcolor\": \"rgb(36,36,36)\", \"ticks\": \"outside\"}, \"colorscale\": [[0.0, \"#440154\"], [0.1111111111111111, \"#482878\"], [0.2222222222222222, \"#3e4989\"], [0.3333333333333333, \"#31688e\"], [0.4444444444444444, \"#26828e\"], [0.5555555555555556, \"#1f9e89\"], [0.6666666666666666, \"#35b779\"], [0.7777777777777778, \"#6ece58\"], [0.8888888888888888, \"#b5de2b\"], [1.0, \"#fde725\"]], \"type\": \"histogram2d\"}], \"histogram2dcontour\": [{\"colorbar\": {\"outlinewidth\": 1, \"tickcolor\": \"rgb(36,36,36)\", \"ticks\": \"outside\"}, \"colorscale\": [[0.0, \"#440154\"], [0.1111111111111111, \"#482878\"], [0.2222222222222222, \"#3e4989\"], [0.3333333333333333, \"#31688e\"], [0.4444444444444444, \"#26828e\"], [0.5555555555555556, \"#1f9e89\"], [0.6666666666666666, \"#35b779\"], [0.7777777777777778, \"#6ece58\"], [0.8888888888888888, \"#b5de2b\"], [1.0, \"#fde725\"]], \"type\": \"histogram2dcontour\"}], \"mesh3d\": [{\"colorbar\": {\"outlinewidth\": 1, \"tickcolor\": \"rgb(36,36,36)\", \"ticks\": \"outside\"}, \"type\": \"mesh3d\"}], \"parcoords\": [{\"line\": {\"colorbar\": {\"outlinewidth\": 1, \"tickcolor\": \"rgb(36,36,36)\", \"ticks\": \"outside\"}}, \"type\": \"parcoords\"}], \"pie\": [{\"automargin\": true, \"type\": \"pie\"}], \"scatter\": [{\"marker\": {\"colorbar\": {\"outlinewidth\": 1, \"tickcolor\": \"rgb(36,36,36)\", \"ticks\": \"outside\"}}, \"type\": \"scatter\"}], \"scatter3d\": [{\"line\": {\"colorbar\": {\"outlinewidth\": 1, \"tickcolor\": \"rgb(36,36,36)\", \"ticks\": \"outside\"}}, \"marker\": {\"colorbar\": {\"outlinewidth\": 1, \"tickcolor\": \"rgb(36,36,36)\", \"ticks\": \"outside\"}}, \"type\": \"scatter3d\"}], \"scattercarpet\": [{\"marker\": {\"colorbar\": {\"outlinewidth\": 1, \"tickcolor\": \"rgb(36,36,36)\", \"ticks\": \"outside\"}}, \"type\": \"scattercarpet\"}], \"scattergeo\": [{\"marker\": {\"colorbar\": {\"outlinewidth\": 1, \"tickcolor\": \"rgb(36,36,36)\", \"ticks\": \"outside\"}}, \"type\": \"scattergeo\"}], \"scattergl\": [{\"marker\": {\"colorbar\": {\"outlinewidth\": 1, \"tickcolor\": \"rgb(36,36,36)\", \"ticks\": \"outside\"}}, \"type\": \"scattergl\"}], \"scattermapbox\": [{\"marker\": {\"colorbar\": {\"outlinewidth\": 1, \"tickcolor\": \"rgb(36,36,36)\", \"ticks\": \"outside\"}}, \"type\": \"scattermapbox\"}], \"scatterpolar\": [{\"marker\": {\"colorbar\": {\"outlinewidth\": 1, \"tickcolor\": \"rgb(36,36,36)\", \"ticks\": \"outside\"}}, \"type\": \"scatterpolar\"}], \"scatterpolargl\": [{\"marker\": {\"colorbar\": {\"outlinewidth\": 1, \"tickcolor\": \"rgb(36,36,36)\", \"ticks\": \"outside\"}}, \"type\": \"scatterpolargl\"}], \"scatterternary\": [{\"marker\": {\"colorbar\": {\"outlinewidth\": 1, \"tickcolor\": \"rgb(36,36,36)\", \"ticks\": \"outside\"}}, \"type\": \"scatterternary\"}], \"surface\": [{\"colorbar\": {\"outlinewidth\": 1, \"tickcolor\": \"rgb(36,36,36)\", \"ticks\": \"outside\"}, \"colorscale\": [[0.0, \"#440154\"], [0.1111111111111111, \"#482878\"], [0.2222222222222222, \"#3e4989\"], [0.3333333333333333, \"#31688e\"], [0.4444444444444444, \"#26828e\"], [0.5555555555555556, \"#1f9e89\"], [0.6666666666666666, \"#35b779\"], [0.7777777777777778, \"#6ece58\"], [0.8888888888888888, \"#b5de2b\"], [1.0, \"#fde725\"]], \"type\": \"surface\"}], \"table\": [{\"cells\": {\"fill\": {\"color\": \"rgb(237,237,237)\"}, \"line\": {\"color\": \"white\"}}, \"header\": {\"fill\": {\"color\": \"rgb(217,217,217)\"}, \"line\": {\"color\": \"white\"}}, \"type\": \"table\"}]}, \"layout\": {\"annotationdefaults\": {\"arrowhead\": 0, \"arrowwidth\": 1}, \"coloraxis\": {\"colorbar\": {\"outlinewidth\": 1, \"tickcolor\": \"rgb(36,36,36)\", \"ticks\": \"outside\"}}, \"colorscale\": {\"diverging\": [[0.0, \"rgb(103,0,31)\"], [0.1, \"rgb(178,24,43)\"], [0.2, \"rgb(214,96,77)\"], [0.3, \"rgb(244,165,130)\"], [0.4, \"rgb(253,219,199)\"], [0.5, \"rgb(247,247,247)\"], [0.6, \"rgb(209,229,240)\"], [0.7, \"rgb(146,197,222)\"], [0.8, \"rgb(67,147,195)\"], [0.9, \"rgb(33,102,172)\"], [1.0, \"rgb(5,48,97)\"]], \"sequential\": [[0.0, \"#440154\"], [0.1111111111111111, \"#482878\"], [0.2222222222222222, \"#3e4989\"], [0.3333333333333333, \"#31688e\"], [0.4444444444444444, \"#26828e\"], [0.5555555555555556, \"#1f9e89\"], [0.6666666666666666, \"#35b779\"], [0.7777777777777778, \"#6ece58\"], [0.8888888888888888, \"#b5de2b\"], [1.0, \"#fde725\"]], \"sequentialminus\": [[0.0, \"#440154\"], [0.1111111111111111, \"#482878\"], [0.2222222222222222, \"#3e4989\"], [0.3333333333333333, \"#31688e\"], [0.4444444444444444, \"#26828e\"], [0.5555555555555556, \"#1f9e89\"], [0.6666666666666666, \"#35b779\"], [0.7777777777777778, \"#6ece58\"], [0.8888888888888888, \"#b5de2b\"], [1.0, \"#fde725\"]]}, \"colorway\": [\"#1F77B4\", \"#FF7F0E\", \"#2CA02C\", \"#D62728\", \"#9467BD\", \"#8C564B\", \"#E377C2\", \"#7F7F7F\", \"#BCBD22\", \"#17BECF\"], \"font\": {\"color\": \"rgb(36,36,36)\"}, \"geo\": {\"bgcolor\": \"white\", \"lakecolor\": \"white\", \"landcolor\": \"white\", \"showlakes\": true, \"showland\": true, \"subunitcolor\": \"white\"}, \"hoverlabel\": {\"align\": \"left\"}, \"hovermode\": \"closest\", \"mapbox\": {\"style\": \"light\"}, \"paper_bgcolor\": \"white\", \"plot_bgcolor\": \"white\", \"polar\": {\"angularaxis\": {\"gridcolor\": \"rgb(232,232,232)\", \"linecolor\": \"rgb(36,36,36)\", \"showgrid\": false, \"showline\": true, \"ticks\": \"outside\"}, \"bgcolor\": \"white\", \"radialaxis\": {\"gridcolor\": \"rgb(232,232,232)\", \"linecolor\": \"rgb(36,36,36)\", \"showgrid\": false, \"showline\": true, \"ticks\": \"outside\"}}, \"scene\": {\"xaxis\": {\"backgroundcolor\": \"white\", \"gridcolor\": \"rgb(232,232,232)\", \"gridwidth\": 2, \"linecolor\": \"rgb(36,36,36)\", \"showbackground\": true, \"showgrid\": false, \"showline\": true, \"ticks\": \"outside\", \"zeroline\": false, \"zerolinecolor\": \"rgb(36,36,36)\"}, \"yaxis\": {\"backgroundcolor\": \"white\", \"gridcolor\": \"rgb(232,232,232)\", \"gridwidth\": 2, \"linecolor\": \"rgb(36,36,36)\", \"showbackground\": true, \"showgrid\": false, \"showline\": true, \"ticks\": \"outside\", \"zeroline\": false, \"zerolinecolor\": \"rgb(36,36,36)\"}, \"zaxis\": {\"backgroundcolor\": \"white\", \"gridcolor\": \"rgb(232,232,232)\", \"gridwidth\": 2, \"linecolor\": \"rgb(36,36,36)\", \"showbackground\": true, \"showgrid\": false, \"showline\": true, \"ticks\": \"outside\", \"zeroline\": false, \"zerolinecolor\": \"rgb(36,36,36)\"}}, \"shapedefaults\": {\"fillcolor\": \"black\", \"line\": {\"width\": 0}, \"opacity\": 0.3}, \"ternary\": {\"aaxis\": {\"gridcolor\": \"rgb(232,232,232)\", \"linecolor\": \"rgb(36,36,36)\", \"showgrid\": false, \"showline\": true, \"ticks\": \"outside\"}, \"baxis\": {\"gridcolor\": \"rgb(232,232,232)\", \"linecolor\": \"rgb(36,36,36)\", \"showgrid\": false, \"showline\": true, \"ticks\": \"outside\"}, \"bgcolor\": \"white\", \"caxis\": {\"gridcolor\": \"rgb(232,232,232)\", \"linecolor\": \"rgb(36,36,36)\", \"showgrid\": false, \"showline\": true, \"ticks\": \"outside\"}}, \"title\": {\"x\": 0.05}, \"xaxis\": {\"automargin\": true, \"gridcolor\": \"rgb(232,232,232)\", \"linecolor\": \"rgb(36,36,36)\", \"showgrid\": false, \"showline\": true, \"ticks\": \"outside\", \"title\": {\"standoff\": 15}, \"zeroline\": false, \"zerolinecolor\": \"rgb(36,36,36)\"}, \"yaxis\": {\"automargin\": true, \"gridcolor\": \"rgb(232,232,232)\", \"linecolor\": \"rgb(36,36,36)\", \"showgrid\": false, \"showline\": true, \"ticks\": \"outside\", \"title\": {\"standoff\": 15}, \"zeroline\": false, \"zerolinecolor\": \"rgb(36,36,36)\"}}}, \"title\": {\"text\": \"Alaska, Prince William Sound _ 2 ,   bay/fjord ,  WetWeight ,  BOX(-148.917602345144 59.8326977714434,-145.354763425498 61.3886291588734) ,  Dalsgaard J.,Pauly D.,Okey T.A.(1997). Preliminary mass-balance model of Prince William Sound, Alaska, for the pre-spill period, 1980-1989 Fisheries Centre Research Reports\"}, \"width\": 1000, \"xaxis\": {\"anchor\": \"y\", \"domain\": [0.0, 1.0], \"title\": {\"text\": \"percentage\"}}, \"yaxis\": {\"anchor\": \"x\", \"domain\": [0.0, 1.0], \"title\": {\"text\": \"from\"}}},\n",
       "                        {\"responsive\": true}\n",
       "                    ).then(function(){\n",
       "                            \n",
       "var gd = document.getElementById('6deceff4-5f6f-4252-b8b6-e38f45dd664f');\n",
       "var x = new MutationObserver(function (mutations, observer) {{\n",
       "        var display = window.getComputedStyle(gd).display;\n",
       "        if (!display || display === 'none') {{\n",
       "            console.log([gd, 'removed!']);\n",
       "            Plotly.purge(gd);\n",
       "            observer.disconnect();\n",
       "        }}\n",
       "}});\n",
       "\n",
       "// Listen for the removal of the full notebook cells\n",
       "var notebookContainer = gd.closest('#notebook-container');\n",
       "if (notebookContainer) {{\n",
       "    x.observe(notebookContainer, {childList: true});\n",
       "}}\n",
       "\n",
       "// Listen for the clearing of the current output cell\n",
       "var outputEl = gd.closest('.output');\n",
       "if (outputEl) {{\n",
       "    x.observe(outputEl, {childList: true});\n",
       "}}\n",
       "\n",
       "                        })\n",
       "                };\n",
       "                });\n",
       "            </script>\n",
       "        </div>"
      ]
     },
     "metadata": {},
     "output_type": "display_data"
    }
   ],
   "source": [
    "fw.draw_trophic_flows_distribution(foodweb)"
   ]
  },
  {
   "cell_type": "markdown",
   "metadata": {},
   "source": [
    "# Visualize foodweb as heatmap:"
   ]
  },
  {
   "cell_type": "code",
   "execution_count": 17,
   "metadata": {},
   "outputs": [
    {
     "data": {
      "application/vnd.plotly.v1+json": {
       "config": {
        "plotlyServerURL": "https://plot.ly"
       },
       "data": [
        {
         "colorscale": [
          [
           0,
           "rgb(209, 238, 234)"
          ],
          [
           0.16666666666666666,
           "rgb(168, 219, 217)"
          ],
          [
           0.3333333333333333,
           "rgb(133, 196, 201)"
          ],
          [
           0.5,
           "rgb(104, 171, 184)"
          ],
          [
           0.6666666666666666,
           "rgb(79, 144, 166)"
          ],
          [
           0.8333333333333334,
           "rgb(59, 115, 143)"
          ],
          [
           1,
           "rgb(42, 86, 116)"
          ]
         ],
         "hoverinfo": "skip",
         "name": "Trophic Layer",
         "showlegend": true,
         "showscale": false,
         "type": "heatmap",
         "x": [
          "✗ Detritus",
          "Salmon",
          "Macroalgae PrimProd",
          "Phytoplankton PrimProd",
          "Pinnipeds",
          "Intertidal inv.",
          "Export",
          "Epi. zoobenthos",
          "Herring",
          "Inf. zoobenthos",
          "Hatch. salmon fry",
          "Wild salmon fry",
          "Respiration",
          "Demersal fish",
          "Sea otters",
          "Small pelagics",
          "Res. mammals",
          "Trans. mammals",
          "Mesozooplankton",
          "Birds",
          "Macrozooplankton",
          "✗ Detritus",
          "Salmon",
          "Macroalgae PrimProd",
          "Phytoplankton PrimProd",
          "Pinnipeds",
          "Intertidal inv.",
          "Export",
          "Epi. zoobenthos",
          "Herring",
          "Inf. zoobenthos",
          "Hatch. salmon fry",
          "Wild salmon fry",
          "Respiration",
          "Demersal fish",
          "Sea otters",
          "Small pelagics",
          "Res. mammals",
          "Trans. mammals",
          "Mesozooplankton",
          "Birds",
          "Macrozooplankton",
          "✗ Detritus",
          "Salmon",
          "Macroalgae PrimProd",
          "Phytoplankton PrimProd",
          "Pinnipeds",
          "Intertidal inv.",
          "Export",
          "Epi. zoobenthos",
          "Herring",
          "Inf. zoobenthos",
          "Hatch. salmon fry",
          "Wild salmon fry",
          "Respiration",
          "Demersal fish",
          "Sea otters",
          "Small pelagics",
          "Res. mammals",
          "Trans. mammals",
          "Mesozooplankton",
          "Birds",
          "Macrozooplankton",
          "✗ Detritus",
          "Salmon",
          "Macroalgae PrimProd",
          "Phytoplankton PrimProd",
          "Pinnipeds",
          "Intertidal inv.",
          "Export",
          "Epi. zoobenthos",
          "Herring",
          "Inf. zoobenthos",
          "Hatch. salmon fry",
          "Wild salmon fry",
          "Respiration",
          "Demersal fish",
          "Sea otters",
          "Small pelagics",
          "Res. mammals",
          "Trans. mammals",
          "Mesozooplankton",
          "Birds",
          "Macrozooplankton",
          "✗ Detritus",
          "Salmon",
          "Macroalgae PrimProd",
          "Phytoplankton PrimProd",
          "Pinnipeds",
          "Intertidal inv.",
          "Export",
          "Epi. zoobenthos",
          "Herring",
          "Inf. zoobenthos",
          "Hatch. salmon fry",
          "Wild salmon fry",
          "Respiration",
          "Demersal fish",
          "Sea otters",
          "Small pelagics",
          "Res. mammals",
          "Trans. mammals",
          "Mesozooplankton",
          "Birds",
          "Macrozooplankton",
          "✗ Detritus",
          "Salmon",
          "Macroalgae PrimProd",
          "Phytoplankton PrimProd",
          "Pinnipeds",
          "Intertidal inv.",
          "Export",
          "Epi. zoobenthos",
          "Herring",
          "Inf. zoobenthos",
          "Hatch. salmon fry",
          "Wild salmon fry",
          "Respiration",
          "Demersal fish",
          "Sea otters",
          "Small pelagics",
          "Res. mammals",
          "Trans. mammals",
          "Mesozooplankton",
          "Birds",
          "Macrozooplankton",
          "✗ Detritus",
          "Salmon",
          "Macroalgae PrimProd",
          "Phytoplankton PrimProd",
          "Pinnipeds",
          "Intertidal inv.",
          "Export",
          "Epi. zoobenthos",
          "Herring",
          "Inf. zoobenthos",
          "Hatch. salmon fry",
          "Wild salmon fry",
          "Respiration",
          "Demersal fish",
          "Sea otters",
          "Small pelagics",
          "Res. mammals",
          "Trans. mammals",
          "Mesozooplankton",
          "Birds",
          "Macrozooplankton",
          "✗ Detritus",
          "Salmon",
          "Macroalgae PrimProd",
          "Phytoplankton PrimProd",
          "Pinnipeds",
          "Intertidal inv.",
          "Export",
          "Epi. zoobenthos",
          "Herring",
          "Inf. zoobenthos",
          "Hatch. salmon fry",
          "Wild salmon fry",
          "Respiration",
          "Demersal fish",
          "Sea otters",
          "Small pelagics",
          "Res. mammals",
          "Trans. mammals",
          "Mesozooplankton",
          "Birds",
          "Macrozooplankton",
          "✗ Detritus",
          "Salmon",
          "Macroalgae PrimProd",
          "Phytoplankton PrimProd",
          "Pinnipeds",
          "Intertidal inv.",
          "Export",
          "Epi. zoobenthos",
          "Herring",
          "Inf. zoobenthos",
          "Hatch. salmon fry",
          "Wild salmon fry",
          "Respiration",
          "Demersal fish",
          "Sea otters",
          "Small pelagics",
          "Res. mammals",
          "Trans. mammals",
          "Mesozooplankton",
          "Birds",
          "Macrozooplankton",
          "✗ Detritus",
          "Salmon",
          "Macroalgae PrimProd",
          "Phytoplankton PrimProd",
          "Pinnipeds",
          "Intertidal inv.",
          "Export",
          "Epi. zoobenthos",
          "Herring",
          "Inf. zoobenthos",
          "Hatch. salmon fry",
          "Wild salmon fry",
          "Respiration",
          "Demersal fish",
          "Sea otters",
          "Small pelagics",
          "Res. mammals",
          "Trans. mammals",
          "Mesozooplankton",
          "Birds",
          "Macrozooplankton",
          "✗ Detritus",
          "Salmon",
          "Macroalgae PrimProd",
          "Phytoplankton PrimProd",
          "Pinnipeds",
          "Intertidal inv.",
          "Export",
          "Epi. zoobenthos",
          "Herring",
          "Inf. zoobenthos",
          "Hatch. salmon fry",
          "Wild salmon fry",
          "Respiration",
          "Demersal fish",
          "Sea otters",
          "Small pelagics",
          "Res. mammals",
          "Trans. mammals",
          "Mesozooplankton",
          "Birds",
          "Macrozooplankton",
          "✗ Detritus",
          "Salmon",
          "Macroalgae PrimProd",
          "Phytoplankton PrimProd",
          "Pinnipeds",
          "Intertidal inv.",
          "Export",
          "Epi. zoobenthos",
          "Herring",
          "Inf. zoobenthos",
          "Hatch. salmon fry",
          "Wild salmon fry",
          "Respiration",
          "Demersal fish",
          "Sea otters",
          "Small pelagics",
          "Res. mammals",
          "Trans. mammals",
          "Mesozooplankton",
          "Birds",
          "Macrozooplankton",
          "✗ Detritus",
          "Salmon",
          "Macroalgae PrimProd",
          "Phytoplankton PrimProd",
          "Pinnipeds",
          "Intertidal inv.",
          "Export",
          "Epi. zoobenthos",
          "Herring",
          "Inf. zoobenthos",
          "Hatch. salmon fry",
          "Wild salmon fry",
          "Respiration",
          "Demersal fish",
          "Sea otters",
          "Small pelagics",
          "Res. mammals",
          "Trans. mammals",
          "Mesozooplankton",
          "Birds",
          "Macrozooplankton",
          "✗ Detritus",
          "Salmon",
          "Macroalgae PrimProd",
          "Phytoplankton PrimProd",
          "Pinnipeds",
          "Intertidal inv.",
          "Export",
          "Epi. zoobenthos",
          "Herring",
          "Inf. zoobenthos",
          "Hatch. salmon fry",
          "Wild salmon fry",
          "Respiration",
          "Demersal fish",
          "Sea otters",
          "Small pelagics",
          "Res. mammals",
          "Trans. mammals",
          "Mesozooplankton",
          "Birds",
          "Macrozooplankton",
          "✗ Detritus",
          "Salmon",
          "Macroalgae PrimProd",
          "Phytoplankton PrimProd",
          "Pinnipeds",
          "Intertidal inv.",
          "Export",
          "Epi. zoobenthos",
          "Herring",
          "Inf. zoobenthos",
          "Hatch. salmon fry",
          "Wild salmon fry",
          "Respiration",
          "Demersal fish",
          "Sea otters",
          "Small pelagics",
          "Res. mammals",
          "Trans. mammals",
          "Mesozooplankton",
          "Birds",
          "Macrozooplankton",
          "✗ Detritus",
          "Salmon",
          "Macroalgae PrimProd",
          "Phytoplankton PrimProd",
          "Pinnipeds",
          "Intertidal inv.",
          "Export",
          "Epi. zoobenthos",
          "Herring",
          "Inf. zoobenthos",
          "Hatch. salmon fry",
          "Wild salmon fry",
          "Respiration",
          "Demersal fish",
          "Sea otters",
          "Small pelagics",
          "Res. mammals",
          "Trans. mammals",
          "Mesozooplankton",
          "Birds",
          "Macrozooplankton",
          "✗ Detritus",
          "Salmon",
          "Macroalgae PrimProd",
          "Phytoplankton PrimProd",
          "Pinnipeds",
          "Intertidal inv.",
          "Export",
          "Epi. zoobenthos",
          "Herring",
          "Inf. zoobenthos",
          "Hatch. salmon fry",
          "Wild salmon fry",
          "Respiration",
          "Demersal fish",
          "Sea otters",
          "Small pelagics",
          "Res. mammals",
          "Trans. mammals",
          "Mesozooplankton",
          "Birds",
          "Macrozooplankton",
          "✗ Detritus",
          "Salmon",
          "Macroalgae PrimProd",
          "Phytoplankton PrimProd",
          "Pinnipeds",
          "Intertidal inv.",
          "Export",
          "Epi. zoobenthos",
          "Herring",
          "Inf. zoobenthos",
          "Hatch. salmon fry",
          "Wild salmon fry",
          "Respiration",
          "Demersal fish",
          "Sea otters",
          "Small pelagics",
          "Res. mammals",
          "Trans. mammals",
          "Mesozooplankton",
          "Birds",
          "Macrozooplankton",
          "✗ Detritus",
          "Salmon",
          "Macroalgae PrimProd",
          "Phytoplankton PrimProd",
          "Pinnipeds",
          "Intertidal inv.",
          "Export",
          "Epi. zoobenthos",
          "Herring",
          "Inf. zoobenthos",
          "Hatch. salmon fry",
          "Wild salmon fry",
          "Respiration",
          "Demersal fish",
          "Sea otters",
          "Small pelagics",
          "Res. mammals",
          "Trans. mammals",
          "Mesozooplankton",
          "Birds",
          "Macrozooplankton",
          "✗ Detritus",
          "Salmon",
          "Macroalgae PrimProd",
          "Phytoplankton PrimProd",
          "Pinnipeds",
          "Intertidal inv.",
          "Export",
          "Epi. zoobenthos",
          "Herring",
          "Inf. zoobenthos",
          "Hatch. salmon fry",
          "Wild salmon fry",
          "Respiration",
          "Demersal fish",
          "Sea otters",
          "Small pelagics",
          "Res. mammals",
          "Trans. mammals",
          "Mesozooplankton",
          "Birds",
          "Macrozooplankton"
         ],
         "xgap": 0.2,
         "y": [
          "Salmon",
          "Salmon",
          "Salmon",
          "Salmon",
          "Salmon",
          "Salmon",
          "Salmon",
          "Salmon",
          "Salmon",
          "Salmon",
          "Salmon",
          "Salmon",
          "Salmon",
          "Salmon",
          "Salmon",
          "Salmon",
          "Salmon",
          "Salmon",
          "Salmon",
          "Salmon",
          "Salmon",
          "Macroalgae PrimProd",
          "Macroalgae PrimProd",
          "Macroalgae PrimProd",
          "Macroalgae PrimProd",
          "Macroalgae PrimProd",
          "Macroalgae PrimProd",
          "Macroalgae PrimProd",
          "Macroalgae PrimProd",
          "Macroalgae PrimProd",
          "Macroalgae PrimProd",
          "Macroalgae PrimProd",
          "Macroalgae PrimProd",
          "Macroalgae PrimProd",
          "Macroalgae PrimProd",
          "Macroalgae PrimProd",
          "Macroalgae PrimProd",
          "Macroalgae PrimProd",
          "Macroalgae PrimProd",
          "Macroalgae PrimProd",
          "Macroalgae PrimProd",
          "Macroalgae PrimProd",
          "✗ Detritus",
          "✗ Detritus",
          "✗ Detritus",
          "✗ Detritus",
          "✗ Detritus",
          "✗ Detritus",
          "✗ Detritus",
          "✗ Detritus",
          "✗ Detritus",
          "✗ Detritus",
          "✗ Detritus",
          "✗ Detritus",
          "✗ Detritus",
          "✗ Detritus",
          "✗ Detritus",
          "✗ Detritus",
          "✗ Detritus",
          "✗ Detritus",
          "✗ Detritus",
          "✗ Detritus",
          "✗ Detritus",
          "Phytoplankton PrimProd",
          "Phytoplankton PrimProd",
          "Phytoplankton PrimProd",
          "Phytoplankton PrimProd",
          "Phytoplankton PrimProd",
          "Phytoplankton PrimProd",
          "Phytoplankton PrimProd",
          "Phytoplankton PrimProd",
          "Phytoplankton PrimProd",
          "Phytoplankton PrimProd",
          "Phytoplankton PrimProd",
          "Phytoplankton PrimProd",
          "Phytoplankton PrimProd",
          "Phytoplankton PrimProd",
          "Phytoplankton PrimProd",
          "Phytoplankton PrimProd",
          "Phytoplankton PrimProd",
          "Phytoplankton PrimProd",
          "Phytoplankton PrimProd",
          "Phytoplankton PrimProd",
          "Phytoplankton PrimProd",
          "Pinnipeds",
          "Pinnipeds",
          "Pinnipeds",
          "Pinnipeds",
          "Pinnipeds",
          "Pinnipeds",
          "Pinnipeds",
          "Pinnipeds",
          "Pinnipeds",
          "Pinnipeds",
          "Pinnipeds",
          "Pinnipeds",
          "Pinnipeds",
          "Pinnipeds",
          "Pinnipeds",
          "Pinnipeds",
          "Pinnipeds",
          "Pinnipeds",
          "Pinnipeds",
          "Pinnipeds",
          "Pinnipeds",
          "Intertidal inv.",
          "Intertidal inv.",
          "Intertidal inv.",
          "Intertidal inv.",
          "Intertidal inv.",
          "Intertidal inv.",
          "Intertidal inv.",
          "Intertidal inv.",
          "Intertidal inv.",
          "Intertidal inv.",
          "Intertidal inv.",
          "Intertidal inv.",
          "Intertidal inv.",
          "Intertidal inv.",
          "Intertidal inv.",
          "Intertidal inv.",
          "Intertidal inv.",
          "Intertidal inv.",
          "Intertidal inv.",
          "Intertidal inv.",
          "Intertidal inv.",
          "Epi. zoobenthos",
          "Epi. zoobenthos",
          "Epi. zoobenthos",
          "Epi. zoobenthos",
          "Epi. zoobenthos",
          "Epi. zoobenthos",
          "Epi. zoobenthos",
          "Epi. zoobenthos",
          "Epi. zoobenthos",
          "Epi. zoobenthos",
          "Epi. zoobenthos",
          "Epi. zoobenthos",
          "Epi. zoobenthos",
          "Epi. zoobenthos",
          "Epi. zoobenthos",
          "Epi. zoobenthos",
          "Epi. zoobenthos",
          "Epi. zoobenthos",
          "Epi. zoobenthos",
          "Epi. zoobenthos",
          "Epi. zoobenthos",
          "Herring",
          "Herring",
          "Herring",
          "Herring",
          "Herring",
          "Herring",
          "Herring",
          "Herring",
          "Herring",
          "Herring",
          "Herring",
          "Herring",
          "Herring",
          "Herring",
          "Herring",
          "Herring",
          "Herring",
          "Herring",
          "Herring",
          "Herring",
          "Herring",
          "Inf. zoobenthos",
          "Inf. zoobenthos",
          "Inf. zoobenthos",
          "Inf. zoobenthos",
          "Inf. zoobenthos",
          "Inf. zoobenthos",
          "Inf. zoobenthos",
          "Inf. zoobenthos",
          "Inf. zoobenthos",
          "Inf. zoobenthos",
          "Inf. zoobenthos",
          "Inf. zoobenthos",
          "Inf. zoobenthos",
          "Inf. zoobenthos",
          "Inf. zoobenthos",
          "Inf. zoobenthos",
          "Inf. zoobenthos",
          "Inf. zoobenthos",
          "Inf. zoobenthos",
          "Inf. zoobenthos",
          "Inf. zoobenthos",
          "Hatch. salmon fry",
          "Hatch. salmon fry",
          "Hatch. salmon fry",
          "Hatch. salmon fry",
          "Hatch. salmon fry",
          "Hatch. salmon fry",
          "Hatch. salmon fry",
          "Hatch. salmon fry",
          "Hatch. salmon fry",
          "Hatch. salmon fry",
          "Hatch. salmon fry",
          "Hatch. salmon fry",
          "Hatch. salmon fry",
          "Hatch. salmon fry",
          "Hatch. salmon fry",
          "Hatch. salmon fry",
          "Hatch. salmon fry",
          "Hatch. salmon fry",
          "Hatch. salmon fry",
          "Hatch. salmon fry",
          "Hatch. salmon fry",
          "Wild salmon fry",
          "Wild salmon fry",
          "Wild salmon fry",
          "Wild salmon fry",
          "Wild salmon fry",
          "Wild salmon fry",
          "Wild salmon fry",
          "Wild salmon fry",
          "Wild salmon fry",
          "Wild salmon fry",
          "Wild salmon fry",
          "Wild salmon fry",
          "Wild salmon fry",
          "Wild salmon fry",
          "Wild salmon fry",
          "Wild salmon fry",
          "Wild salmon fry",
          "Wild salmon fry",
          "Wild salmon fry",
          "Wild salmon fry",
          "Wild salmon fry",
          "Demersal fish",
          "Demersal fish",
          "Demersal fish",
          "Demersal fish",
          "Demersal fish",
          "Demersal fish",
          "Demersal fish",
          "Demersal fish",
          "Demersal fish",
          "Demersal fish",
          "Demersal fish",
          "Demersal fish",
          "Demersal fish",
          "Demersal fish",
          "Demersal fish",
          "Demersal fish",
          "Demersal fish",
          "Demersal fish",
          "Demersal fish",
          "Demersal fish",
          "Demersal fish",
          "Sea otters",
          "Sea otters",
          "Sea otters",
          "Sea otters",
          "Sea otters",
          "Sea otters",
          "Sea otters",
          "Sea otters",
          "Sea otters",
          "Sea otters",
          "Sea otters",
          "Sea otters",
          "Sea otters",
          "Sea otters",
          "Sea otters",
          "Sea otters",
          "Sea otters",
          "Sea otters",
          "Sea otters",
          "Sea otters",
          "Sea otters",
          "Small pelagics",
          "Small pelagics",
          "Small pelagics",
          "Small pelagics",
          "Small pelagics",
          "Small pelagics",
          "Small pelagics",
          "Small pelagics",
          "Small pelagics",
          "Small pelagics",
          "Small pelagics",
          "Small pelagics",
          "Small pelagics",
          "Small pelagics",
          "Small pelagics",
          "Small pelagics",
          "Small pelagics",
          "Small pelagics",
          "Small pelagics",
          "Small pelagics",
          "Small pelagics",
          "Res. mammals",
          "Res. mammals",
          "Res. mammals",
          "Res. mammals",
          "Res. mammals",
          "Res. mammals",
          "Res. mammals",
          "Res. mammals",
          "Res. mammals",
          "Res. mammals",
          "Res. mammals",
          "Res. mammals",
          "Res. mammals",
          "Res. mammals",
          "Res. mammals",
          "Res. mammals",
          "Res. mammals",
          "Res. mammals",
          "Res. mammals",
          "Res. mammals",
          "Res. mammals",
          "Trans. mammals",
          "Trans. mammals",
          "Trans. mammals",
          "Trans. mammals",
          "Trans. mammals",
          "Trans. mammals",
          "Trans. mammals",
          "Trans. mammals",
          "Trans. mammals",
          "Trans. mammals",
          "Trans. mammals",
          "Trans. mammals",
          "Trans. mammals",
          "Trans. mammals",
          "Trans. mammals",
          "Trans. mammals",
          "Trans. mammals",
          "Trans. mammals",
          "Trans. mammals",
          "Trans. mammals",
          "Trans. mammals",
          "Import",
          "Import",
          "Import",
          "Import",
          "Import",
          "Import",
          "Import",
          "Import",
          "Import",
          "Import",
          "Import",
          "Import",
          "Import",
          "Import",
          "Import",
          "Import",
          "Import",
          "Import",
          "Import",
          "Import",
          "Import",
          "Mesozooplankton",
          "Mesozooplankton",
          "Mesozooplankton",
          "Mesozooplankton",
          "Mesozooplankton",
          "Mesozooplankton",
          "Mesozooplankton",
          "Mesozooplankton",
          "Mesozooplankton",
          "Mesozooplankton",
          "Mesozooplankton",
          "Mesozooplankton",
          "Mesozooplankton",
          "Mesozooplankton",
          "Mesozooplankton",
          "Mesozooplankton",
          "Mesozooplankton",
          "Mesozooplankton",
          "Mesozooplankton",
          "Mesozooplankton",
          "Mesozooplankton",
          "Birds",
          "Birds",
          "Birds",
          "Birds",
          "Birds",
          "Birds",
          "Birds",
          "Birds",
          "Birds",
          "Birds",
          "Birds",
          "Birds",
          "Birds",
          "Birds",
          "Birds",
          "Birds",
          "Birds",
          "Birds",
          "Birds",
          "Birds",
          "Birds",
          "Macrozooplankton",
          "Macrozooplankton",
          "Macrozooplankton",
          "Macrozooplankton",
          "Macrozooplankton",
          "Macrozooplankton",
          "Macrozooplankton",
          "Macrozooplankton",
          "Macrozooplankton",
          "Macrozooplankton",
          "Macrozooplankton",
          "Macrozooplankton",
          "Macrozooplankton",
          "Macrozooplankton",
          "Macrozooplankton",
          "Macrozooplankton",
          "Macrozooplankton",
          "Macrozooplankton",
          "Macrozooplankton",
          "Macrozooplankton",
          "Macrozooplankton"
         ],
         "ygap": 0.2,
         "z": [
          4.177150517259426,
          4.177150517259426,
          4.177150517259426,
          4.177150517259426,
          4.177150517259426,
          4.177150517259426,
          4.177150517259426,
          4.177150517259426,
          4.177150517259426,
          4.177150517259426,
          4.177150517259426,
          4.177150517259426,
          4.177150517259426,
          4.177150517259426,
          4.177150517259426,
          4.177150517259426,
          4.177150517259426,
          4.177150517259426,
          4.177150517259426,
          4.177150517259426,
          4.177150517259426,
          1,
          1,
          1,
          1,
          1,
          1,
          1,
          1,
          1,
          1,
          1,
          1,
          1,
          1,
          1,
          1,
          1,
          1,
          1,
          1,
          1,
          1,
          1,
          1,
          1,
          1,
          1,
          1,
          1,
          1,
          1,
          1,
          1,
          1,
          1,
          1,
          1,
          1,
          1,
          1,
          1,
          1,
          1,
          1,
          1,
          1,
          1,
          1,
          1,
          1,
          1,
          1,
          1,
          1,
          1,
          1,
          1,
          1,
          1,
          1,
          1,
          1,
          1,
          4.326418821947057,
          4.326418821947057,
          4.326418821947057,
          4.326418821947057,
          4.326418821947057,
          4.326418821947057,
          4.326418821947057,
          4.326418821947057,
          4.326418821947057,
          4.326418821947057,
          4.326418821947057,
          4.326418821947057,
          4.326418821947057,
          4.326418821947057,
          4.326418821947057,
          4.326418821947057,
          4.326418821947057,
          4.326418821947057,
          4.326418821947057,
          4.326418821947057,
          4.326418821947057,
          2.26,
          2.26,
          2.26,
          2.26,
          2.26,
          2.26,
          2.26,
          2.26,
          2.26,
          2.26,
          2.26,
          2.26,
          2.26,
          2.26,
          2.26,
          2.26,
          2.26,
          2.26,
          2.26,
          2.26,
          2.26,
          2.660000000000007,
          2.660000000000007,
          2.660000000000007,
          2.660000000000007,
          2.660000000000007,
          2.660000000000007,
          2.660000000000007,
          2.660000000000007,
          2.660000000000007,
          2.660000000000007,
          2.660000000000007,
          2.660000000000007,
          2.660000000000007,
          2.660000000000007,
          2.660000000000007,
          2.660000000000007,
          2.660000000000007,
          2.660000000000007,
          2.660000000000007,
          2.660000000000007,
          2.660000000000007,
          3.3000000000000016,
          3.3000000000000016,
          3.3000000000000016,
          3.3000000000000016,
          3.3000000000000016,
          3.3000000000000016,
          3.3000000000000016,
          3.3000000000000016,
          3.3000000000000016,
          3.3000000000000016,
          3.3000000000000016,
          3.3000000000000016,
          3.3000000000000016,
          3.3000000000000016,
          3.3000000000000016,
          3.3000000000000016,
          3.3000000000000016,
          3.3000000000000016,
          3.3000000000000016,
          3.3000000000000016,
          3.3000000000000016,
          2.2799999999999705,
          2.2799999999999705,
          2.2799999999999705,
          2.2799999999999705,
          2.2799999999999705,
          2.2799999999999705,
          2.2799999999999705,
          2.2799999999999705,
          2.2799999999999705,
          2.2799999999999705,
          2.2799999999999705,
          2.2799999999999705,
          2.2799999999999705,
          2.2799999999999705,
          2.2799999999999705,
          2.2799999999999705,
          2.2799999999999705,
          2.2799999999999705,
          2.2799999999999705,
          2.2799999999999705,
          2.2799999999999705,
          3.1874999999999876,
          3.1874999999999876,
          3.1874999999999876,
          3.1874999999999876,
          3.1874999999999876,
          3.1874999999999876,
          3.1874999999999876,
          3.1874999999999876,
          3.1874999999999876,
          3.1874999999999876,
          3.1874999999999876,
          3.1874999999999876,
          3.1874999999999876,
          3.1874999999999876,
          3.1874999999999876,
          3.1874999999999876,
          3.1874999999999876,
          3.1874999999999876,
          3.1874999999999876,
          3.1874999999999876,
          3.1874999999999876,
          3.1875000000000453,
          3.1875000000000453,
          3.1875000000000453,
          3.1875000000000453,
          3.1875000000000453,
          3.1875000000000453,
          3.1875000000000453,
          3.1875000000000453,
          3.1875000000000453,
          3.1875000000000453,
          3.1875000000000453,
          3.1875000000000453,
          3.1875000000000453,
          3.1875000000000453,
          3.1875000000000453,
          3.1875000000000453,
          3.1875000000000453,
          3.1875000000000453,
          3.1875000000000453,
          3.1875000000000453,
          3.1875000000000453,
          3.502982801666579,
          3.502982801666579,
          3.502982801666579,
          3.502982801666579,
          3.502982801666579,
          3.502982801666579,
          3.502982801666579,
          3.502982801666579,
          3.502982801666579,
          3.502982801666579,
          3.502982801666579,
          3.502982801666579,
          3.502982801666579,
          3.502982801666579,
          3.502982801666579,
          3.502982801666579,
          3.502982801666579,
          3.502982801666579,
          3.502982801666579,
          3.502982801666579,
          3.502982801666579,
          3.280000000000008,
          3.280000000000008,
          3.280000000000008,
          3.280000000000008,
          3.280000000000008,
          3.280000000000008,
          3.280000000000008,
          3.280000000000008,
          3.280000000000008,
          3.280000000000008,
          3.280000000000008,
          3.280000000000008,
          3.280000000000008,
          3.280000000000008,
          3.280000000000008,
          3.280000000000008,
          3.280000000000008,
          3.280000000000008,
          3.280000000000008,
          3.280000000000008,
          3.280000000000008,
          3.2525300064099336,
          3.2525300064099336,
          3.2525300064099336,
          3.2525300064099336,
          3.2525300064099336,
          3.2525300064099336,
          3.2525300064099336,
          3.2525300064099336,
          3.2525300064099336,
          3.2525300064099336,
          3.2525300064099336,
          3.2525300064099336,
          3.2525300064099336,
          3.2525300064099336,
          3.2525300064099336,
          3.2525300064099336,
          3.2525300064099336,
          3.2525300064099336,
          3.2525300064099336,
          3.2525300064099336,
          3.2525300064099336,
          4.35092996233815,
          4.35092996233815,
          4.35092996233815,
          4.35092996233815,
          4.35092996233815,
          4.35092996233815,
          4.35092996233815,
          4.35092996233815,
          4.35092996233815,
          4.35092996233815,
          4.35092996233815,
          4.35092996233815,
          4.35092996233815,
          4.35092996233815,
          4.35092996233815,
          4.35092996233815,
          4.35092996233815,
          4.35092996233815,
          4.35092996233815,
          4.35092996233815,
          4.35092996233815,
          3.908108577373611,
          3.908108577373611,
          3.908108577373611,
          3.908108577373611,
          3.908108577373611,
          3.908108577373611,
          3.908108577373611,
          3.908108577373611,
          3.908108577373611,
          3.908108577373611,
          3.908108577373611,
          3.908108577373611,
          3.908108577373611,
          3.908108577373611,
          3.908108577373611,
          3.908108577373611,
          3.908108577373611,
          3.908108577373611,
          3.908108577373611,
          3.908108577373611,
          3.908108577373611,
          0,
          0,
          0,
          0,
          0,
          0,
          0,
          0,
          0,
          0,
          0,
          0,
          0,
          0,
          0,
          0,
          0,
          0,
          0,
          0,
          0,
          1.9999999999999947,
          1.9999999999999947,
          1.9999999999999947,
          1.9999999999999947,
          1.9999999999999947,
          1.9999999999999947,
          1.9999999999999947,
          1.9999999999999947,
          1.9999999999999947,
          1.9999999999999947,
          1.9999999999999947,
          1.9999999999999947,
          1.9999999999999947,
          1.9999999999999947,
          1.9999999999999947,
          1.9999999999999947,
          1.9999999999999947,
          1.9999999999999947,
          1.9999999999999947,
          1.9999999999999947,
          1.9999999999999947,
          3.973726933968808,
          3.973726933968808,
          3.973726933968808,
          3.973726933968808,
          3.973726933968808,
          3.973726933968808,
          3.973726933968808,
          3.973726933968808,
          3.973726933968808,
          3.973726933968808,
          3.973726933968808,
          3.973726933968808,
          3.973726933968808,
          3.973726933968808,
          3.973726933968808,
          3.973726933968808,
          3.973726933968808,
          3.973726933968808,
          3.973726933968808,
          3.973726933968808,
          3.973726933968808,
          2.7499999999999973,
          2.7499999999999973,
          2.7499999999999973,
          2.7499999999999973,
          2.7499999999999973,
          2.7499999999999973,
          2.7499999999999973,
          2.7499999999999973,
          2.7499999999999973,
          2.7499999999999973,
          2.7499999999999973,
          2.7499999999999973,
          2.7499999999999973,
          2.7499999999999973,
          2.7499999999999973,
          2.7499999999999973,
          2.7499999999999973,
          2.7499999999999973,
          2.7499999999999973,
          2.7499999999999973,
          2.7499999999999973
         ],
         "zmax": 7.35092996233815,
         "zmin": 0
        },
        {
         "colorscale": [
          [
           0,
           "rgb(211, 242, 163)"
          ],
          [
           0.16666666666666666,
           "rgb(151, 225, 150)"
          ],
          [
           0.3333333333333333,
           "rgb(108, 192, 139)"
          ],
          [
           0.5,
           "rgb(76, 155, 130)"
          ],
          [
           0.6666666666666666,
           "rgb(33, 122, 121)"
          ],
          [
           0.8333333333333334,
           "rgb(16, 89, 101)"
          ],
          [
           1,
           "rgb(7, 64, 80)"
          ]
         ],
         "hoverongaps": false,
         "hovertemplate": "%{y} --> %{x}: %{z:.3f}<extra></extra>",
         "showlegend": false,
         "showscale": true,
         "type": "heatmap",
         "x": [
          "Inf. zoobenthos",
          "Intertidal inv.",
          "Macrozooplankton",
          "Epi. zoobenthos",
          "Wild salmon fry",
          "Hatch. salmon fry",
          "Herring",
          "Small pelagics",
          "Demersal fish",
          "Trans. mammals",
          "✗ Detritus",
          "Respiration",
          "Inf. zoobenthos",
          "Epi. zoobenthos",
          "Small pelagics",
          "Sea otters",
          "Demersal fish",
          "✗ Detritus",
          "Export",
          "Respiration",
          "Intertidal inv.",
          "Demersal fish",
          "Birds",
          "Pinnipeds",
          "✗ Detritus",
          "Respiration",
          "Wild salmon fry",
          "Hatch. salmon fry",
          "Herring",
          "Small pelagics",
          "Demersal fish",
          "Birds",
          "Salmon",
          "Trans. mammals",
          "Res. mammals",
          "✗ Detritus",
          "Respiration",
          "Epi. zoobenthos",
          "Demersal fish",
          "✗ Detritus",
          "Export",
          "Respiration",
          "Demersal fish",
          "✗ Detritus",
          "Respiration",
          "Demersal fish",
          "✗ Detritus",
          "Respiration",
          "Demersal fish",
          "Trans. mammals",
          "Res. mammals",
          "Pinnipeds",
          "✗ Detritus",
          "Export",
          "Respiration",
          "Demersal fish",
          "Birds",
          "Salmon",
          "Trans. mammals",
          "Res. mammals",
          "Pinnipeds",
          "✗ Detritus",
          "Respiration",
          "Res. mammals",
          "✗ Detritus",
          "Respiration",
          "Demersal fish",
          "Birds",
          "Trans. mammals",
          "Res. mammals",
          "Pinnipeds",
          "✗ Detritus",
          "Export",
          "Respiration",
          "✗ Detritus",
          "Respiration",
          "Trans. mammals",
          "Res. mammals",
          "Pinnipeds",
          "✗ Detritus",
          "Export",
          "Respiration",
          "✗ Detritus",
          "Respiration",
          "Trans. mammals",
          "✗ Detritus",
          "Respiration",
          "Trans. mammals",
          "✗ Detritus",
          "Respiration",
          "Mesozooplankton",
          "Intertidal inv.",
          "Macrozooplankton",
          "✗ Detritus",
          "Respiration",
          "Epi. zoobenthos",
          "Birds",
          "✗ Detritus",
          "Respiration",
          "Mesozooplankton",
          "Inf. zoobenthos",
          "Intertidal inv.",
          "Epi. zoobenthos",
          "Export",
          "Phytoplankton PrimProd",
          "Macroalgae PrimProd"
         ],
         "xgap": 0.2,
         "y": [
          "Mesozooplankton",
          "Mesozooplankton",
          "Mesozooplankton",
          "Mesozooplankton",
          "Mesozooplankton",
          "Mesozooplankton",
          "Mesozooplankton",
          "Mesozooplankton",
          "Mesozooplankton",
          "Mesozooplankton",
          "Mesozooplankton",
          "Mesozooplankton",
          "Inf. zoobenthos",
          "Inf. zoobenthos",
          "Inf. zoobenthos",
          "Inf. zoobenthos",
          "Inf. zoobenthos",
          "Inf. zoobenthos",
          "Inf. zoobenthos",
          "Inf. zoobenthos",
          "Intertidal inv.",
          "Intertidal inv.",
          "Intertidal inv.",
          "Intertidal inv.",
          "Intertidal inv.",
          "Intertidal inv.",
          "Macrozooplankton",
          "Macrozooplankton",
          "Macrozooplankton",
          "Macrozooplankton",
          "Macrozooplankton",
          "Macrozooplankton",
          "Macrozooplankton",
          "Macrozooplankton",
          "Macrozooplankton",
          "Macrozooplankton",
          "Macrozooplankton",
          "Epi. zoobenthos",
          "Epi. zoobenthos",
          "Epi. zoobenthos",
          "Epi. zoobenthos",
          "Epi. zoobenthos",
          "Wild salmon fry",
          "Wild salmon fry",
          "Wild salmon fry",
          "Hatch. salmon fry",
          "Hatch. salmon fry",
          "Hatch. salmon fry",
          "Herring",
          "Herring",
          "Herring",
          "Herring",
          "Herring",
          "Herring",
          "Herring",
          "Small pelagics",
          "Small pelagics",
          "Small pelagics",
          "Small pelagics",
          "Small pelagics",
          "Small pelagics",
          "Small pelagics",
          "Small pelagics",
          "Sea otters",
          "Sea otters",
          "Sea otters",
          "Demersal fish",
          "Demersal fish",
          "Demersal fish",
          "Demersal fish",
          "Demersal fish",
          "Demersal fish",
          "Demersal fish",
          "Demersal fish",
          "Birds",
          "Birds",
          "Salmon",
          "Salmon",
          "Salmon",
          "Salmon",
          "Salmon",
          "Salmon",
          "Trans. mammals",
          "Trans. mammals",
          "Res. mammals",
          "Res. mammals",
          "Res. mammals",
          "Pinnipeds",
          "Pinnipeds",
          "Pinnipeds",
          "Phytoplankton PrimProd",
          "Phytoplankton PrimProd",
          "Phytoplankton PrimProd",
          "Phytoplankton PrimProd",
          "Phytoplankton PrimProd",
          "Macroalgae PrimProd",
          "Macroalgae PrimProd",
          "Macroalgae PrimProd",
          "Macroalgae PrimProd",
          "✗ Detritus",
          "✗ Detritus",
          "✗ Detritus",
          "✗ Detritus",
          "✗ Detritus",
          "Import",
          "Import"
         ],
         "ygap": 0.2,
         "z": [
          1500.75,
          22.464,
          724.5,
          1.3,
          0.42,
          0.405,
          87.5556,
          96.78732,
          3.9856,
          0.11508,
          1839.166,
          4275.792,
          51.75,
          6.5,
          16.29253,
          1.564,
          5.18128,
          1088.709,
          0.003,
          4005,
          6.24,
          0.9964,
          0.467208,
          0.6111,
          16.64529,
          37.44,
          0.14,
          0.135,
          58.3704,
          48.23235,
          10.56184,
          0.404481,
          0.319108,
          0.38556,
          0.012065,
          198.8392,
          648.6,
          1.04,
          1.19568,
          2.82132,
          0.143,
          7.8,
          0.19928,
          0.16822,
          0.19249998,
          0.19928,
          0.22507,
          0.115649953,
          3.18848,
          0.05628,
          0.357124,
          0.44523,
          29.43378,
          1.136,
          111.30912,
          10.36256,
          0.992817,
          1.808279,
          0.11592,
          0.5875655,
          3.16026,
          33.15862,
          111.12619,
          0.0012065,
          0.3236635,
          1.23913014,
          3.9856,
          0.294168,
          0.16212,
          0.180975,
          4.365,
          8.346337,
          0.037,
          22.4847965,
          0.4347,
          1.72829986,
          0.00084,
          0.067564,
          0.14841,
          0.5105728,
          1.4,
          2.98023224e-08,
          0.1736,
          0.6664,
          0.00084,
          0.24236,
          0.96329993,
          0.00336,
          1.76064,
          6.96600056,
          6842.592,
          14.352,
          241.5,
          788.716,
          1577.43206,
          2.587,
          0.004326,
          1757.409,
          352,
          1710.648,
          3622.5,
          19.344,
          1.573,
          413.017882123937,
          9464.59236,
          2112
         ],
         "zmax": 9464.59236,
         "zmin": 2.98023224e-08
        }
       ],
       "layout": {
        "autosize": true,
        "height": 900,
        "legend": {
         "orientation": "h",
         "x": 1,
         "xanchor": "right",
         "y": 1,
         "yanchor": "bottom"
        },
        "template": {
         "data": {
          "bar": [
           {
            "error_x": {
             "color": "#2a3f5f"
            },
            "error_y": {
             "color": "#2a3f5f"
            },
            "marker": {
             "line": {
              "color": "#E5ECF6",
              "width": 0.5
             }
            },
            "type": "bar"
           }
          ],
          "barpolar": [
           {
            "marker": {
             "line": {
              "color": "#E5ECF6",
              "width": 0.5
             }
            },
            "type": "barpolar"
           }
          ],
          "carpet": [
           {
            "aaxis": {
             "endlinecolor": "#2a3f5f",
             "gridcolor": "white",
             "linecolor": "white",
             "minorgridcolor": "white",
             "startlinecolor": "#2a3f5f"
            },
            "baxis": {
             "endlinecolor": "#2a3f5f",
             "gridcolor": "white",
             "linecolor": "white",
             "minorgridcolor": "white",
             "startlinecolor": "#2a3f5f"
            },
            "type": "carpet"
           }
          ],
          "choropleth": [
           {
            "colorbar": {
             "outlinewidth": 0,
             "ticks": ""
            },
            "type": "choropleth"
           }
          ],
          "contour": [
           {
            "colorbar": {
             "outlinewidth": 0,
             "ticks": ""
            },
            "colorscale": [
             [
              0,
              "#0d0887"
             ],
             [
              0.1111111111111111,
              "#46039f"
             ],
             [
              0.2222222222222222,
              "#7201a8"
             ],
             [
              0.3333333333333333,
              "#9c179e"
             ],
             [
              0.4444444444444444,
              "#bd3786"
             ],
             [
              0.5555555555555556,
              "#d8576b"
             ],
             [
              0.6666666666666666,
              "#ed7953"
             ],
             [
              0.7777777777777778,
              "#fb9f3a"
             ],
             [
              0.8888888888888888,
              "#fdca26"
             ],
             [
              1,
              "#f0f921"
             ]
            ],
            "type": "contour"
           }
          ],
          "contourcarpet": [
           {
            "colorbar": {
             "outlinewidth": 0,
             "ticks": ""
            },
            "type": "contourcarpet"
           }
          ],
          "heatmap": [
           {
            "colorbar": {
             "outlinewidth": 0,
             "ticks": ""
            },
            "colorscale": [
             [
              0,
              "#0d0887"
             ],
             [
              0.1111111111111111,
              "#46039f"
             ],
             [
              0.2222222222222222,
              "#7201a8"
             ],
             [
              0.3333333333333333,
              "#9c179e"
             ],
             [
              0.4444444444444444,
              "#bd3786"
             ],
             [
              0.5555555555555556,
              "#d8576b"
             ],
             [
              0.6666666666666666,
              "#ed7953"
             ],
             [
              0.7777777777777778,
              "#fb9f3a"
             ],
             [
              0.8888888888888888,
              "#fdca26"
             ],
             [
              1,
              "#f0f921"
             ]
            ],
            "type": "heatmap"
           }
          ],
          "heatmapgl": [
           {
            "colorbar": {
             "outlinewidth": 0,
             "ticks": ""
            },
            "colorscale": [
             [
              0,
              "#0d0887"
             ],
             [
              0.1111111111111111,
              "#46039f"
             ],
             [
              0.2222222222222222,
              "#7201a8"
             ],
             [
              0.3333333333333333,
              "#9c179e"
             ],
             [
              0.4444444444444444,
              "#bd3786"
             ],
             [
              0.5555555555555556,
              "#d8576b"
             ],
             [
              0.6666666666666666,
              "#ed7953"
             ],
             [
              0.7777777777777778,
              "#fb9f3a"
             ],
             [
              0.8888888888888888,
              "#fdca26"
             ],
             [
              1,
              "#f0f921"
             ]
            ],
            "type": "heatmapgl"
           }
          ],
          "histogram": [
           {
            "marker": {
             "colorbar": {
              "outlinewidth": 0,
              "ticks": ""
             }
            },
            "type": "histogram"
           }
          ],
          "histogram2d": [
           {
            "colorbar": {
             "outlinewidth": 0,
             "ticks": ""
            },
            "colorscale": [
             [
              0,
              "#0d0887"
             ],
             [
              0.1111111111111111,
              "#46039f"
             ],
             [
              0.2222222222222222,
              "#7201a8"
             ],
             [
              0.3333333333333333,
              "#9c179e"
             ],
             [
              0.4444444444444444,
              "#bd3786"
             ],
             [
              0.5555555555555556,
              "#d8576b"
             ],
             [
              0.6666666666666666,
              "#ed7953"
             ],
             [
              0.7777777777777778,
              "#fb9f3a"
             ],
             [
              0.8888888888888888,
              "#fdca26"
             ],
             [
              1,
              "#f0f921"
             ]
            ],
            "type": "histogram2d"
           }
          ],
          "histogram2dcontour": [
           {
            "colorbar": {
             "outlinewidth": 0,
             "ticks": ""
            },
            "colorscale": [
             [
              0,
              "#0d0887"
             ],
             [
              0.1111111111111111,
              "#46039f"
             ],
             [
              0.2222222222222222,
              "#7201a8"
             ],
             [
              0.3333333333333333,
              "#9c179e"
             ],
             [
              0.4444444444444444,
              "#bd3786"
             ],
             [
              0.5555555555555556,
              "#d8576b"
             ],
             [
              0.6666666666666666,
              "#ed7953"
             ],
             [
              0.7777777777777778,
              "#fb9f3a"
             ],
             [
              0.8888888888888888,
              "#fdca26"
             ],
             [
              1,
              "#f0f921"
             ]
            ],
            "type": "histogram2dcontour"
           }
          ],
          "mesh3d": [
           {
            "colorbar": {
             "outlinewidth": 0,
             "ticks": ""
            },
            "type": "mesh3d"
           }
          ],
          "parcoords": [
           {
            "line": {
             "colorbar": {
              "outlinewidth": 0,
              "ticks": ""
             }
            },
            "type": "parcoords"
           }
          ],
          "pie": [
           {
            "automargin": true,
            "type": "pie"
           }
          ],
          "scatter": [
           {
            "marker": {
             "colorbar": {
              "outlinewidth": 0,
              "ticks": ""
             }
            },
            "type": "scatter"
           }
          ],
          "scatter3d": [
           {
            "line": {
             "colorbar": {
              "outlinewidth": 0,
              "ticks": ""
             }
            },
            "marker": {
             "colorbar": {
              "outlinewidth": 0,
              "ticks": ""
             }
            },
            "type": "scatter3d"
           }
          ],
          "scattercarpet": [
           {
            "marker": {
             "colorbar": {
              "outlinewidth": 0,
              "ticks": ""
             }
            },
            "type": "scattercarpet"
           }
          ],
          "scattergeo": [
           {
            "marker": {
             "colorbar": {
              "outlinewidth": 0,
              "ticks": ""
             }
            },
            "type": "scattergeo"
           }
          ],
          "scattergl": [
           {
            "marker": {
             "colorbar": {
              "outlinewidth": 0,
              "ticks": ""
             }
            },
            "type": "scattergl"
           }
          ],
          "scattermapbox": [
           {
            "marker": {
             "colorbar": {
              "outlinewidth": 0,
              "ticks": ""
             }
            },
            "type": "scattermapbox"
           }
          ],
          "scatterpolar": [
           {
            "marker": {
             "colorbar": {
              "outlinewidth": 0,
              "ticks": ""
             }
            },
            "type": "scatterpolar"
           }
          ],
          "scatterpolargl": [
           {
            "marker": {
             "colorbar": {
              "outlinewidth": 0,
              "ticks": ""
             }
            },
            "type": "scatterpolargl"
           }
          ],
          "scatterternary": [
           {
            "marker": {
             "colorbar": {
              "outlinewidth": 0,
              "ticks": ""
             }
            },
            "type": "scatterternary"
           }
          ],
          "surface": [
           {
            "colorbar": {
             "outlinewidth": 0,
             "ticks": ""
            },
            "colorscale": [
             [
              0,
              "#0d0887"
             ],
             [
              0.1111111111111111,
              "#46039f"
             ],
             [
              0.2222222222222222,
              "#7201a8"
             ],
             [
              0.3333333333333333,
              "#9c179e"
             ],
             [
              0.4444444444444444,
              "#bd3786"
             ],
             [
              0.5555555555555556,
              "#d8576b"
             ],
             [
              0.6666666666666666,
              "#ed7953"
             ],
             [
              0.7777777777777778,
              "#fb9f3a"
             ],
             [
              0.8888888888888888,
              "#fdca26"
             ],
             [
              1,
              "#f0f921"
             ]
            ],
            "type": "surface"
           }
          ],
          "table": [
           {
            "cells": {
             "fill": {
              "color": "#EBF0F8"
             },
             "line": {
              "color": "white"
             }
            },
            "header": {
             "fill": {
              "color": "#C8D4E3"
             },
             "line": {
              "color": "white"
             }
            },
            "type": "table"
           }
          ]
         },
         "layout": {
          "annotationdefaults": {
           "arrowcolor": "#2a3f5f",
           "arrowhead": 0,
           "arrowwidth": 1
          },
          "coloraxis": {
           "colorbar": {
            "outlinewidth": 0,
            "ticks": ""
           }
          },
          "colorscale": {
           "diverging": [
            [
             0,
             "#8e0152"
            ],
            [
             0.1,
             "#c51b7d"
            ],
            [
             0.2,
             "#de77ae"
            ],
            [
             0.3,
             "#f1b6da"
            ],
            [
             0.4,
             "#fde0ef"
            ],
            [
             0.5,
             "#f7f7f7"
            ],
            [
             0.6,
             "#e6f5d0"
            ],
            [
             0.7,
             "#b8e186"
            ],
            [
             0.8,
             "#7fbc41"
            ],
            [
             0.9,
             "#4d9221"
            ],
            [
             1,
             "#276419"
            ]
           ],
           "sequential": [
            [
             0,
             "#0d0887"
            ],
            [
             0.1111111111111111,
             "#46039f"
            ],
            [
             0.2222222222222222,
             "#7201a8"
            ],
            [
             0.3333333333333333,
             "#9c179e"
            ],
            [
             0.4444444444444444,
             "#bd3786"
            ],
            [
             0.5555555555555556,
             "#d8576b"
            ],
            [
             0.6666666666666666,
             "#ed7953"
            ],
            [
             0.7777777777777778,
             "#fb9f3a"
            ],
            [
             0.8888888888888888,
             "#fdca26"
            ],
            [
             1,
             "#f0f921"
            ]
           ],
           "sequentialminus": [
            [
             0,
             "#0d0887"
            ],
            [
             0.1111111111111111,
             "#46039f"
            ],
            [
             0.2222222222222222,
             "#7201a8"
            ],
            [
             0.3333333333333333,
             "#9c179e"
            ],
            [
             0.4444444444444444,
             "#bd3786"
            ],
            [
             0.5555555555555556,
             "#d8576b"
            ],
            [
             0.6666666666666666,
             "#ed7953"
            ],
            [
             0.7777777777777778,
             "#fb9f3a"
            ],
            [
             0.8888888888888888,
             "#fdca26"
            ],
            [
             1,
             "#f0f921"
            ]
           ]
          },
          "colorway": [
           "#636efa",
           "#EF553B",
           "#00cc96",
           "#ab63fa",
           "#FFA15A",
           "#19d3f3",
           "#FF6692",
           "#B6E880",
           "#FF97FF",
           "#FECB52"
          ],
          "font": {
           "color": "#2a3f5f"
          },
          "geo": {
           "bgcolor": "white",
           "lakecolor": "white",
           "landcolor": "#E5ECF6",
           "showlakes": true,
           "showland": true,
           "subunitcolor": "white"
          },
          "hoverlabel": {
           "align": "left"
          },
          "hovermode": "closest",
          "mapbox": {
           "style": "light"
          },
          "paper_bgcolor": "white",
          "plot_bgcolor": "#E5ECF6",
          "polar": {
           "angularaxis": {
            "gridcolor": "white",
            "linecolor": "white",
            "ticks": ""
           },
           "bgcolor": "#E5ECF6",
           "radialaxis": {
            "gridcolor": "white",
            "linecolor": "white",
            "ticks": ""
           }
          },
          "scene": {
           "xaxis": {
            "backgroundcolor": "#E5ECF6",
            "gridcolor": "white",
            "gridwidth": 2,
            "linecolor": "white",
            "showbackground": true,
            "ticks": "",
            "zerolinecolor": "white"
           },
           "yaxis": {
            "backgroundcolor": "#E5ECF6",
            "gridcolor": "white",
            "gridwidth": 2,
            "linecolor": "white",
            "showbackground": true,
            "ticks": "",
            "zerolinecolor": "white"
           },
           "zaxis": {
            "backgroundcolor": "#E5ECF6",
            "gridcolor": "white",
            "gridwidth": 2,
            "linecolor": "white",
            "showbackground": true,
            "ticks": "",
            "zerolinecolor": "white"
           }
          },
          "shapedefaults": {
           "line": {
            "color": "#2a3f5f"
           }
          },
          "ternary": {
           "aaxis": {
            "gridcolor": "white",
            "linecolor": "white",
            "ticks": ""
           },
           "baxis": {
            "gridcolor": "white",
            "linecolor": "white",
            "ticks": ""
           },
           "bgcolor": "#E5ECF6",
           "caxis": {
            "gridcolor": "white",
            "linecolor": "white",
            "ticks": ""
           }
          },
          "title": {
           "x": 0.05
          },
          "xaxis": {
           "automargin": true,
           "gridcolor": "white",
           "linecolor": "white",
           "ticks": "",
           "title": {
            "standoff": 15
           },
           "zerolinecolor": "white",
           "zerolinewidth": 2
          },
          "yaxis": {
           "automargin": true,
           "gridcolor": "white",
           "linecolor": "white",
           "ticks": "",
           "title": {
            "standoff": 15
           },
           "zerolinecolor": "white",
           "zerolinewidth": 2
          }
         }
        },
        "title": {
         "text": "Alaska, Prince William Sound _ 2 ,   bay/fjord ,  WetWeight ,  BOX(-148.917602345144 59.8326977714434,-145.354763425498 61.3886291588734) ,  Dalsgaard J.,Pauly D.,Okey T.A.(1997). Preliminary mass-balance model of Prince William Sound, Alaska, for the pre-spill period, 1980-1989 Fisheries Centre Research Reports"
        },
        "width": 1200,
        "xaxis": {
         "autorange": true,
         "categoryarray": [
          "Res. mammals",
          "Pinnipeds",
          "Salmon",
          "Birds",
          "Trans. mammals",
          "Demersal fish",
          "Herring",
          "Sea otters",
          "Small pelagics",
          "Wild salmon fry",
          "Hatch. salmon fry",
          "Macrozooplankton",
          "Epi. zoobenthos",
          "Inf. zoobenthos",
          "Intertidal inv.",
          "Mesozooplankton",
          "Phytoplankton PrimProd",
          "Macroalgae PrimProd",
          "✗ Detritus",
          "Export",
          "Respiration"
         ],
         "range": [
          -0.5,
          20.5
         ],
         "showspikes": true,
         "spikethickness": 0.5,
         "title": {
          "text": "To"
         },
         "type": "category"
        },
        "yaxis": {
         "autorange": true,
         "categoryarray": [
          "Import",
          "✗ Detritus",
          "Phytoplankton PrimProd",
          "Macroalgae PrimProd",
          "Mesozooplankton",
          "Intertidal inv.",
          "Inf. zoobenthos",
          "Epi. zoobenthos",
          "Macrozooplankton",
          "Hatch. salmon fry",
          "Wild salmon fry",
          "Small pelagics",
          "Sea otters",
          "Herring",
          "Demersal fish",
          "Trans. mammals",
          "Birds",
          "Salmon",
          "Pinnipeds",
          "Res. mammals"
         ],
         "range": [
          -0.5,
          19.5
         ],
         "showspikes": true,
         "spikemode": "across",
         "spikesnap": "cursor",
         "spikethickness": 0.5,
         "title": {
          "text": "From"
         },
         "type": "category"
        }
       }
      },
      "image/png": "[encoded data removed]",
      "text/html": [
       "<div>\n",
       "        \n",
       "        \n",
       "            <div id=\"402c90ca-f334-486e-a76a-35f3b445c3c6\" class=\"plotly-graph-div\" style=\"height:900px; width:1200px;\"></div>\n",
       "            <script type=\"text/javascript\">\n",
       "                require([\"plotly\"], function(Plotly) {\n",
       "                    window.PLOTLYENV=window.PLOTLYENV || {};\n",
       "                    \n",
       "                if (document.getElementById(\"402c90ca-f334-486e-a76a-35f3b445c3c6\")) {\n",
       "                    Plotly.newPlot(\n",
       "                        '402c90ca-f334-486e-a76a-35f3b445c3c6',\n",
       "                        [{\"colorscale\": [[0.0, \"rgb(209, 238, 234)\"], [0.16666666666666666, \"rgb(168, 219, 217)\"], [0.3333333333333333, \"rgb(133, 196, 201)\"], [0.5, \"rgb(104, 171, 184)\"], [0.6666666666666666, \"rgb(79, 144, 166)\"], [0.8333333333333334, \"rgb(59, 115, 143)\"], [1.0, \"rgb(42, 86, 116)\"]], \"hoverinfo\": \"skip\", \"name\": \"Trophic Layer\", \"showlegend\": true, \"showscale\": false, \"type\": \"heatmap\", \"x\": [\"\\u2717 Detritus\", \"Salmon\", \"Macroalgae PrimProd\", \"Phytoplankton PrimProd\", \"Pinnipeds\", \"Intertidal inv.\", \"Export\", \"Epi. zoobenthos\", \"Herring\", \"Inf. zoobenthos\", \"Hatch. salmon fry\", \"Wild salmon fry\", \"Respiration\", \"Demersal fish\", \"Sea otters\", \"Small pelagics\", \"Res. mammals\", \"Trans. mammals\", \"Mesozooplankton\", \"Birds\", \"Macrozooplankton\", \"\\u2717 Detritus\", \"Salmon\", \"Macroalgae PrimProd\", \"Phytoplankton PrimProd\", \"Pinnipeds\", \"Intertidal inv.\", \"Export\", \"Epi. zoobenthos\", \"Herring\", \"Inf. zoobenthos\", \"Hatch. salmon fry\", \"Wild salmon fry\", \"Respiration\", \"Demersal fish\", \"Sea otters\", \"Small pelagics\", \"Res. mammals\", \"Trans. mammals\", \"Mesozooplankton\", \"Birds\", \"Macrozooplankton\", \"\\u2717 Detritus\", \"Salmon\", \"Macroalgae PrimProd\", \"Phytoplankton PrimProd\", \"Pinnipeds\", \"Intertidal inv.\", \"Export\", \"Epi. zoobenthos\", \"Herring\", \"Inf. zoobenthos\", \"Hatch. salmon fry\", \"Wild salmon fry\", \"Respiration\", \"Demersal fish\", \"Sea otters\", \"Small pelagics\", \"Res. mammals\", \"Trans. mammals\", \"Mesozooplankton\", \"Birds\", \"Macrozooplankton\", \"\\u2717 Detritus\", \"Salmon\", \"Macroalgae PrimProd\", \"Phytoplankton PrimProd\", \"Pinnipeds\", \"Intertidal inv.\", \"Export\", \"Epi. zoobenthos\", \"Herring\", \"Inf. zoobenthos\", \"Hatch. salmon fry\", \"Wild salmon fry\", \"Respiration\", \"Demersal fish\", \"Sea otters\", \"Small pelagics\", \"Res. mammals\", \"Trans. mammals\", \"Mesozooplankton\", \"Birds\", \"Macrozooplankton\", \"\\u2717 Detritus\", \"Salmon\", \"Macroalgae PrimProd\", \"Phytoplankton PrimProd\", \"Pinnipeds\", \"Intertidal inv.\", \"Export\", \"Epi. zoobenthos\", \"Herring\", \"Inf. zoobenthos\", \"Hatch. salmon fry\", \"Wild salmon fry\", \"Respiration\", \"Demersal fish\", \"Sea otters\", \"Small pelagics\", \"Res. mammals\", \"Trans. mammals\", \"Mesozooplankton\", \"Birds\", \"Macrozooplankton\", \"\\u2717 Detritus\", \"Salmon\", \"Macroalgae PrimProd\", \"Phytoplankton PrimProd\", \"Pinnipeds\", \"Intertidal inv.\", \"Export\", \"Epi. zoobenthos\", \"Herring\", \"Inf. zoobenthos\", \"Hatch. salmon fry\", \"Wild salmon fry\", \"Respiration\", \"Demersal fish\", \"Sea otters\", \"Small pelagics\", \"Res. mammals\", \"Trans. mammals\", \"Mesozooplankton\", \"Birds\", \"Macrozooplankton\", \"\\u2717 Detritus\", \"Salmon\", \"Macroalgae PrimProd\", \"Phytoplankton PrimProd\", \"Pinnipeds\", \"Intertidal inv.\", \"Export\", \"Epi. zoobenthos\", \"Herring\", \"Inf. zoobenthos\", \"Hatch. salmon fry\", \"Wild salmon fry\", \"Respiration\", \"Demersal fish\", \"Sea otters\", \"Small pelagics\", \"Res. mammals\", \"Trans. mammals\", \"Mesozooplankton\", \"Birds\", \"Macrozooplankton\", \"\\u2717 Detritus\", \"Salmon\", \"Macroalgae PrimProd\", \"Phytoplankton PrimProd\", \"Pinnipeds\", \"Intertidal inv.\", \"Export\", \"Epi. zoobenthos\", \"Herring\", \"Inf. zoobenthos\", \"Hatch. salmon fry\", \"Wild salmon fry\", \"Respiration\", \"Demersal fish\", \"Sea otters\", \"Small pelagics\", \"Res. mammals\", \"Trans. mammals\", \"Mesozooplankton\", \"Birds\", \"Macrozooplankton\", \"\\u2717 Detritus\", \"Salmon\", \"Macroalgae PrimProd\", \"Phytoplankton PrimProd\", \"Pinnipeds\", \"Intertidal inv.\", \"Export\", \"Epi. zoobenthos\", \"Herring\", \"Inf. zoobenthos\", \"Hatch. salmon fry\", \"Wild salmon fry\", \"Respiration\", \"Demersal fish\", \"Sea otters\", \"Small pelagics\", \"Res. mammals\", \"Trans. mammals\", \"Mesozooplankton\", \"Birds\", \"Macrozooplankton\", \"\\u2717 Detritus\", \"Salmon\", \"Macroalgae PrimProd\", \"Phytoplankton PrimProd\", \"Pinnipeds\", \"Intertidal inv.\", \"Export\", \"Epi. zoobenthos\", \"Herring\", \"Inf. zoobenthos\", \"Hatch. salmon fry\", \"Wild salmon fry\", \"Respiration\", \"Demersal fish\", \"Sea otters\", \"Small pelagics\", \"Res. mammals\", \"Trans. mammals\", \"Mesozooplankton\", \"Birds\", \"Macrozooplankton\", \"\\u2717 Detritus\", \"Salmon\", \"Macroalgae PrimProd\", \"Phytoplankton PrimProd\", \"Pinnipeds\", \"Intertidal inv.\", \"Export\", \"Epi. zoobenthos\", \"Herring\", \"Inf. zoobenthos\", \"Hatch. salmon fry\", \"Wild salmon fry\", \"Respiration\", \"Demersal fish\", \"Sea otters\", \"Small pelagics\", \"Res. mammals\", \"Trans. mammals\", \"Mesozooplankton\", \"Birds\", \"Macrozooplankton\", \"\\u2717 Detritus\", \"Salmon\", \"Macroalgae PrimProd\", \"Phytoplankton PrimProd\", \"Pinnipeds\", \"Intertidal inv.\", \"Export\", \"Epi. zoobenthos\", \"Herring\", \"Inf. zoobenthos\", \"Hatch. salmon fry\", \"Wild salmon fry\", \"Respiration\", \"Demersal fish\", \"Sea otters\", \"Small pelagics\", \"Res. mammals\", \"Trans. mammals\", \"Mesozooplankton\", \"Birds\", \"Macrozooplankton\", \"\\u2717 Detritus\", \"Salmon\", \"Macroalgae PrimProd\", \"Phytoplankton PrimProd\", \"Pinnipeds\", \"Intertidal inv.\", \"Export\", \"Epi. zoobenthos\", \"Herring\", \"Inf. zoobenthos\", \"Hatch. salmon fry\", \"Wild salmon fry\", \"Respiration\", \"Demersal fish\", \"Sea otters\", \"Small pelagics\", \"Res. mammals\", \"Trans. mammals\", \"Mesozooplankton\", \"Birds\", \"Macrozooplankton\", \"\\u2717 Detritus\", \"Salmon\", \"Macroalgae PrimProd\", \"Phytoplankton PrimProd\", \"Pinnipeds\", \"Intertidal inv.\", \"Export\", \"Epi. zoobenthos\", \"Herring\", \"Inf. zoobenthos\", \"Hatch. salmon fry\", \"Wild salmon fry\", \"Respiration\", \"Demersal fish\", \"Sea otters\", \"Small pelagics\", \"Res. mammals\", \"Trans. mammals\", \"Mesozooplankton\", \"Birds\", \"Macrozooplankton\", \"\\u2717 Detritus\", \"Salmon\", \"Macroalgae PrimProd\", \"Phytoplankton PrimProd\", \"Pinnipeds\", \"Intertidal inv.\", \"Export\", \"Epi. zoobenthos\", \"Herring\", \"Inf. zoobenthos\", \"Hatch. salmon fry\", \"Wild salmon fry\", \"Respiration\", \"Demersal fish\", \"Sea otters\", \"Small pelagics\", \"Res. mammals\", \"Trans. mammals\", \"Mesozooplankton\", \"Birds\", \"Macrozooplankton\", \"\\u2717 Detritus\", \"Salmon\", \"Macroalgae PrimProd\", \"Phytoplankton PrimProd\", \"Pinnipeds\", \"Intertidal inv.\", \"Export\", \"Epi. zoobenthos\", \"Herring\", \"Inf. zoobenthos\", \"Hatch. salmon fry\", \"Wild salmon fry\", \"Respiration\", \"Demersal fish\", \"Sea otters\", \"Small pelagics\", \"Res. mammals\", \"Trans. mammals\", \"Mesozooplankton\", \"Birds\", \"Macrozooplankton\", \"\\u2717 Detritus\", \"Salmon\", \"Macroalgae PrimProd\", \"Phytoplankton PrimProd\", \"Pinnipeds\", \"Intertidal inv.\", \"Export\", \"Epi. zoobenthos\", \"Herring\", \"Inf. zoobenthos\", \"Hatch. salmon fry\", \"Wild salmon fry\", \"Respiration\", \"Demersal fish\", \"Sea otters\", \"Small pelagics\", \"Res. mammals\", \"Trans. mammals\", \"Mesozooplankton\", \"Birds\", \"Macrozooplankton\", \"\\u2717 Detritus\", \"Salmon\", \"Macroalgae PrimProd\", \"Phytoplankton PrimProd\", \"Pinnipeds\", \"Intertidal inv.\", \"Export\", \"Epi. zoobenthos\", \"Herring\", \"Inf. zoobenthos\", \"Hatch. salmon fry\", \"Wild salmon fry\", \"Respiration\", \"Demersal fish\", \"Sea otters\", \"Small pelagics\", \"Res. mammals\", \"Trans. mammals\", \"Mesozooplankton\", \"Birds\", \"Macrozooplankton\", \"\\u2717 Detritus\", \"Salmon\", \"Macroalgae PrimProd\", \"Phytoplankton PrimProd\", \"Pinnipeds\", \"Intertidal inv.\", \"Export\", \"Epi. zoobenthos\", \"Herring\", \"Inf. zoobenthos\", \"Hatch. salmon fry\", \"Wild salmon fry\", \"Respiration\", \"Demersal fish\", \"Sea otters\", \"Small pelagics\", \"Res. mammals\", \"Trans. mammals\", \"Mesozooplankton\", \"Birds\", \"Macrozooplankton\", \"\\u2717 Detritus\", \"Salmon\", \"Macroalgae PrimProd\", \"Phytoplankton PrimProd\", \"Pinnipeds\", \"Intertidal inv.\", \"Export\", \"Epi. zoobenthos\", \"Herring\", \"Inf. zoobenthos\", \"Hatch. salmon fry\", \"Wild salmon fry\", \"Respiration\", \"Demersal fish\", \"Sea otters\", \"Small pelagics\", \"Res. mammals\", \"Trans. mammals\", \"Mesozooplankton\", \"Birds\", \"Macrozooplankton\"], \"xgap\": 0.2, \"y\": [\"Salmon\", \"Salmon\", \"Salmon\", \"Salmon\", \"Salmon\", \"Salmon\", \"Salmon\", \"Salmon\", \"Salmon\", \"Salmon\", \"Salmon\", \"Salmon\", \"Salmon\", \"Salmon\", \"Salmon\", \"Salmon\", \"Salmon\", \"Salmon\", \"Salmon\", \"Salmon\", \"Salmon\", \"Macroalgae PrimProd\", \"Macroalgae PrimProd\", \"Macroalgae PrimProd\", \"Macroalgae PrimProd\", \"Macroalgae PrimProd\", \"Macroalgae PrimProd\", \"Macroalgae PrimProd\", \"Macroalgae PrimProd\", \"Macroalgae PrimProd\", \"Macroalgae PrimProd\", \"Macroalgae PrimProd\", \"Macroalgae PrimProd\", \"Macroalgae PrimProd\", \"Macroalgae PrimProd\", \"Macroalgae PrimProd\", \"Macroalgae PrimProd\", \"Macroalgae PrimProd\", \"Macroalgae PrimProd\", \"Macroalgae PrimProd\", \"Macroalgae PrimProd\", \"Macroalgae PrimProd\", \"\\u2717 Detritus\", \"\\u2717 Detritus\", \"\\u2717 Detritus\", \"\\u2717 Detritus\", \"\\u2717 Detritus\", \"\\u2717 Detritus\", \"\\u2717 Detritus\", \"\\u2717 Detritus\", \"\\u2717 Detritus\", \"\\u2717 Detritus\", \"\\u2717 Detritus\", \"\\u2717 Detritus\", \"\\u2717 Detritus\", \"\\u2717 Detritus\", \"\\u2717 Detritus\", \"\\u2717 Detritus\", \"\\u2717 Detritus\", \"\\u2717 Detritus\", \"\\u2717 Detritus\", \"\\u2717 Detritus\", \"\\u2717 Detritus\", \"Phytoplankton PrimProd\", \"Phytoplankton PrimProd\", \"Phytoplankton PrimProd\", \"Phytoplankton PrimProd\", \"Phytoplankton PrimProd\", \"Phytoplankton PrimProd\", \"Phytoplankton PrimProd\", \"Phytoplankton PrimProd\", \"Phytoplankton PrimProd\", \"Phytoplankton PrimProd\", \"Phytoplankton PrimProd\", \"Phytoplankton PrimProd\", \"Phytoplankton PrimProd\", \"Phytoplankton PrimProd\", \"Phytoplankton PrimProd\", \"Phytoplankton PrimProd\", \"Phytoplankton PrimProd\", \"Phytoplankton PrimProd\", \"Phytoplankton PrimProd\", \"Phytoplankton PrimProd\", \"Phytoplankton PrimProd\", \"Pinnipeds\", \"Pinnipeds\", \"Pinnipeds\", \"Pinnipeds\", \"Pinnipeds\", \"Pinnipeds\", \"Pinnipeds\", \"Pinnipeds\", \"Pinnipeds\", \"Pinnipeds\", \"Pinnipeds\", \"Pinnipeds\", \"Pinnipeds\", \"Pinnipeds\", \"Pinnipeds\", \"Pinnipeds\", \"Pinnipeds\", \"Pinnipeds\", \"Pinnipeds\", \"Pinnipeds\", \"Pinnipeds\", \"Intertidal inv.\", \"Intertidal inv.\", \"Intertidal inv.\", \"Intertidal inv.\", \"Intertidal inv.\", \"Intertidal inv.\", \"Intertidal inv.\", \"Intertidal inv.\", \"Intertidal inv.\", \"Intertidal inv.\", \"Intertidal inv.\", \"Intertidal inv.\", \"Intertidal inv.\", \"Intertidal inv.\", \"Intertidal inv.\", \"Intertidal inv.\", \"Intertidal inv.\", \"Intertidal inv.\", \"Intertidal inv.\", \"Intertidal inv.\", \"Intertidal inv.\", \"Epi. zoobenthos\", \"Epi. zoobenthos\", \"Epi. zoobenthos\", \"Epi. zoobenthos\", \"Epi. zoobenthos\", \"Epi. zoobenthos\", \"Epi. zoobenthos\", \"Epi. zoobenthos\", \"Epi. zoobenthos\", \"Epi. zoobenthos\", \"Epi. zoobenthos\", \"Epi. zoobenthos\", \"Epi. zoobenthos\", \"Epi. zoobenthos\", \"Epi. zoobenthos\", \"Epi. zoobenthos\", \"Epi. zoobenthos\", \"Epi. zoobenthos\", \"Epi. zoobenthos\", \"Epi. zoobenthos\", \"Epi. zoobenthos\", \"Herring\", \"Herring\", \"Herring\", \"Herring\", \"Herring\", \"Herring\", \"Herring\", \"Herring\", \"Herring\", \"Herring\", \"Herring\", \"Herring\", \"Herring\", \"Herring\", \"Herring\", \"Herring\", \"Herring\", \"Herring\", \"Herring\", \"Herring\", \"Herring\", \"Inf. zoobenthos\", \"Inf. zoobenthos\", \"Inf. zoobenthos\", \"Inf. zoobenthos\", \"Inf. zoobenthos\", \"Inf. zoobenthos\", \"Inf. zoobenthos\", \"Inf. zoobenthos\", \"Inf. zoobenthos\", \"Inf. zoobenthos\", \"Inf. zoobenthos\", \"Inf. zoobenthos\", \"Inf. zoobenthos\", \"Inf. zoobenthos\", \"Inf. zoobenthos\", \"Inf. zoobenthos\", \"Inf. zoobenthos\", \"Inf. zoobenthos\", \"Inf. zoobenthos\", \"Inf. zoobenthos\", \"Inf. zoobenthos\", \"Hatch. salmon fry\", \"Hatch. salmon fry\", \"Hatch. salmon fry\", \"Hatch. salmon fry\", \"Hatch. salmon fry\", \"Hatch. salmon fry\", \"Hatch. salmon fry\", \"Hatch. salmon fry\", \"Hatch. salmon fry\", \"Hatch. salmon fry\", \"Hatch. salmon fry\", \"Hatch. salmon fry\", \"Hatch. salmon fry\", \"Hatch. salmon fry\", \"Hatch. salmon fry\", \"Hatch. salmon fry\", \"Hatch. salmon fry\", \"Hatch. salmon fry\", \"Hatch. salmon fry\", \"Hatch. salmon fry\", \"Hatch. salmon fry\", \"Wild salmon fry\", \"Wild salmon fry\", \"Wild salmon fry\", \"Wild salmon fry\", \"Wild salmon fry\", \"Wild salmon fry\", \"Wild salmon fry\", \"Wild salmon fry\", \"Wild salmon fry\", \"Wild salmon fry\", \"Wild salmon fry\", \"Wild salmon fry\", \"Wild salmon fry\", \"Wild salmon fry\", \"Wild salmon fry\", \"Wild salmon fry\", \"Wild salmon fry\", \"Wild salmon fry\", \"Wild salmon fry\", \"Wild salmon fry\", \"Wild salmon fry\", \"Demersal fish\", \"Demersal fish\", \"Demersal fish\", \"Demersal fish\", \"Demersal fish\", \"Demersal fish\", \"Demersal fish\", \"Demersal fish\", \"Demersal fish\", \"Demersal fish\", \"Demersal fish\", \"Demersal fish\", \"Demersal fish\", \"Demersal fish\", \"Demersal fish\", \"Demersal fish\", \"Demersal fish\", \"Demersal fish\", \"Demersal fish\", \"Demersal fish\", \"Demersal fish\", \"Sea otters\", \"Sea otters\", \"Sea otters\", \"Sea otters\", \"Sea otters\", \"Sea otters\", \"Sea otters\", \"Sea otters\", \"Sea otters\", \"Sea otters\", \"Sea otters\", \"Sea otters\", \"Sea otters\", \"Sea otters\", \"Sea otters\", \"Sea otters\", \"Sea otters\", \"Sea otters\", \"Sea otters\", \"Sea otters\", \"Sea otters\", \"Small pelagics\", \"Small pelagics\", \"Small pelagics\", \"Small pelagics\", \"Small pelagics\", \"Small pelagics\", \"Small pelagics\", \"Small pelagics\", \"Small pelagics\", \"Small pelagics\", \"Small pelagics\", \"Small pelagics\", \"Small pelagics\", \"Small pelagics\", \"Small pelagics\", \"Small pelagics\", \"Small pelagics\", \"Small pelagics\", \"Small pelagics\", \"Small pelagics\", \"Small pelagics\", \"Res. mammals\", \"Res. mammals\", \"Res. mammals\", \"Res. mammals\", \"Res. mammals\", \"Res. mammals\", \"Res. mammals\", \"Res. mammals\", \"Res. mammals\", \"Res. mammals\", \"Res. mammals\", \"Res. mammals\", \"Res. mammals\", \"Res. mammals\", \"Res. mammals\", \"Res. mammals\", \"Res. mammals\", \"Res. mammals\", \"Res. mammals\", \"Res. mammals\", \"Res. mammals\", \"Trans. mammals\", \"Trans. mammals\", \"Trans. mammals\", \"Trans. mammals\", \"Trans. mammals\", \"Trans. mammals\", \"Trans. mammals\", \"Trans. mammals\", \"Trans. mammals\", \"Trans. mammals\", \"Trans. mammals\", \"Trans. mammals\", \"Trans. mammals\", \"Trans. mammals\", \"Trans. mammals\", \"Trans. mammals\", \"Trans. mammals\", \"Trans. mammals\", \"Trans. mammals\", \"Trans. mammals\", \"Trans. mammals\", \"Import\", \"Import\", \"Import\", \"Import\", \"Import\", \"Import\", \"Import\", \"Import\", \"Import\", \"Import\", \"Import\", \"Import\", \"Import\", \"Import\", \"Import\", \"Import\", \"Import\", \"Import\", \"Import\", \"Import\", \"Import\", \"Mesozooplankton\", \"Mesozooplankton\", \"Mesozooplankton\", \"Mesozooplankton\", \"Mesozooplankton\", \"Mesozooplankton\", \"Mesozooplankton\", \"Mesozooplankton\", \"Mesozooplankton\", \"Mesozooplankton\", \"Mesozooplankton\", \"Mesozooplankton\", \"Mesozooplankton\", \"Mesozooplankton\", \"Mesozooplankton\", \"Mesozooplankton\", \"Mesozooplankton\", \"Mesozooplankton\", \"Mesozooplankton\", \"Mesozooplankton\", \"Mesozooplankton\", \"Birds\", \"Birds\", \"Birds\", \"Birds\", \"Birds\", \"Birds\", \"Birds\", \"Birds\", \"Birds\", \"Birds\", \"Birds\", \"Birds\", \"Birds\", \"Birds\", \"Birds\", \"Birds\", \"Birds\", \"Birds\", \"Birds\", \"Birds\", \"Birds\", \"Macrozooplankton\", \"Macrozooplankton\", \"Macrozooplankton\", \"Macrozooplankton\", \"Macrozooplankton\", \"Macrozooplankton\", \"Macrozooplankton\", \"Macrozooplankton\", \"Macrozooplankton\", \"Macrozooplankton\", \"Macrozooplankton\", \"Macrozooplankton\", \"Macrozooplankton\", \"Macrozooplankton\", \"Macrozooplankton\", \"Macrozooplankton\", \"Macrozooplankton\", \"Macrozooplankton\", \"Macrozooplankton\", \"Macrozooplankton\", \"Macrozooplankton\"], \"ygap\": 0.2, \"z\": [4.177150517259426, 4.177150517259426, 4.177150517259426, 4.177150517259426, 4.177150517259426, 4.177150517259426, 4.177150517259426, 4.177150517259426, 4.177150517259426, 4.177150517259426, 4.177150517259426, 4.177150517259426, 4.177150517259426, 4.177150517259426, 4.177150517259426, 4.177150517259426, 4.177150517259426, 4.177150517259426, 4.177150517259426, 4.177150517259426, 4.177150517259426, 1.0, 1.0, 1.0, 1.0, 1.0, 1.0, 1.0, 1.0, 1.0, 1.0, 1.0, 1.0, 1.0, 1.0, 1.0, 1.0, 1.0, 1.0, 1.0, 1.0, 1.0, 1.0, 1.0, 1.0, 1.0, 1.0, 1.0, 1.0, 1.0, 1.0, 1.0, 1.0, 1.0, 1.0, 1.0, 1.0, 1.0, 1.0, 1.0, 1.0, 1.0, 1.0, 1.0, 1.0, 1.0, 1.0, 1.0, 1.0, 1.0, 1.0, 1.0, 1.0, 1.0, 1.0, 1.0, 1.0, 1.0, 1.0, 1.0, 1.0, 1.0, 1.0, 1.0, 4.326418821947057, 4.326418821947057, 4.326418821947057, 4.326418821947057, 4.326418821947057, 4.326418821947057, 4.326418821947057, 4.326418821947057, 4.326418821947057, 4.326418821947057, 4.326418821947057, 4.326418821947057, 4.326418821947057, 4.326418821947057, 4.326418821947057, 4.326418821947057, 4.326418821947057, 4.326418821947057, 4.326418821947057, 4.326418821947057, 4.326418821947057, 2.26, 2.26, 2.26, 2.26, 2.26, 2.26, 2.26, 2.26, 2.26, 2.26, 2.26, 2.26, 2.26, 2.26, 2.26, 2.26, 2.26, 2.26, 2.26, 2.26, 2.26, 2.660000000000007, 2.660000000000007, 2.660000000000007, 2.660000000000007, 2.660000000000007, 2.660000000000007, 2.660000000000007, 2.660000000000007, 2.660000000000007, 2.660000000000007, 2.660000000000007, 2.660000000000007, 2.660000000000007, 2.660000000000007, 2.660000000000007, 2.660000000000007, 2.660000000000007, 2.660000000000007, 2.660000000000007, 2.660000000000007, 2.660000000000007, 3.3000000000000016, 3.3000000000000016, 3.3000000000000016, 3.3000000000000016, 3.3000000000000016, 3.3000000000000016, 3.3000000000000016, 3.3000000000000016, 3.3000000000000016, 3.3000000000000016, 3.3000000000000016, 3.3000000000000016, 3.3000000000000016, 3.3000000000000016, 3.3000000000000016, 3.3000000000000016, 3.3000000000000016, 3.3000000000000016, 3.3000000000000016, 3.3000000000000016, 3.3000000000000016, 2.2799999999999705, 2.2799999999999705, 2.2799999999999705, 2.2799999999999705, 2.2799999999999705, 2.2799999999999705, 2.2799999999999705, 2.2799999999999705, 2.2799999999999705, 2.2799999999999705, 2.2799999999999705, 2.2799999999999705, 2.2799999999999705, 2.2799999999999705, 2.2799999999999705, 2.2799999999999705, 2.2799999999999705, 2.2799999999999705, 2.2799999999999705, 2.2799999999999705, 2.2799999999999705, 3.1874999999999876, 3.1874999999999876, 3.1874999999999876, 3.1874999999999876, 3.1874999999999876, 3.1874999999999876, 3.1874999999999876, 3.1874999999999876, 3.1874999999999876, 3.1874999999999876, 3.1874999999999876, 3.1874999999999876, 3.1874999999999876, 3.1874999999999876, 3.1874999999999876, 3.1874999999999876, 3.1874999999999876, 3.1874999999999876, 3.1874999999999876, 3.1874999999999876, 3.1874999999999876, 3.1875000000000453, 3.1875000000000453, 3.1875000000000453, 3.1875000000000453, 3.1875000000000453, 3.1875000000000453, 3.1875000000000453, 3.1875000000000453, 3.1875000000000453, 3.1875000000000453, 3.1875000000000453, 3.1875000000000453, 3.1875000000000453, 3.1875000000000453, 3.1875000000000453, 3.1875000000000453, 3.1875000000000453, 3.1875000000000453, 3.1875000000000453, 3.1875000000000453, 3.1875000000000453, 3.502982801666579, 3.502982801666579, 3.502982801666579, 3.502982801666579, 3.502982801666579, 3.502982801666579, 3.502982801666579, 3.502982801666579, 3.502982801666579, 3.502982801666579, 3.502982801666579, 3.502982801666579, 3.502982801666579, 3.502982801666579, 3.502982801666579, 3.502982801666579, 3.502982801666579, 3.502982801666579, 3.502982801666579, 3.502982801666579, 3.502982801666579, 3.280000000000008, 3.280000000000008, 3.280000000000008, 3.280000000000008, 3.280000000000008, 3.280000000000008, 3.280000000000008, 3.280000000000008, 3.280000000000008, 3.280000000000008, 3.280000000000008, 3.280000000000008, 3.280000000000008, 3.280000000000008, 3.280000000000008, 3.280000000000008, 3.280000000000008, 3.280000000000008, 3.280000000000008, 3.280000000000008, 3.280000000000008, 3.2525300064099336, 3.2525300064099336, 3.2525300064099336, 3.2525300064099336, 3.2525300064099336, 3.2525300064099336, 3.2525300064099336, 3.2525300064099336, 3.2525300064099336, 3.2525300064099336, 3.2525300064099336, 3.2525300064099336, 3.2525300064099336, 3.2525300064099336, 3.2525300064099336, 3.2525300064099336, 3.2525300064099336, 3.2525300064099336, 3.2525300064099336, 3.2525300064099336, 3.2525300064099336, 4.35092996233815, 4.35092996233815, 4.35092996233815, 4.35092996233815, 4.35092996233815, 4.35092996233815, 4.35092996233815, 4.35092996233815, 4.35092996233815, 4.35092996233815, 4.35092996233815, 4.35092996233815, 4.35092996233815, 4.35092996233815, 4.35092996233815, 4.35092996233815, 4.35092996233815, 4.35092996233815, 4.35092996233815, 4.35092996233815, 4.35092996233815, 3.908108577373611, 3.908108577373611, 3.908108577373611, 3.908108577373611, 3.908108577373611, 3.908108577373611, 3.908108577373611, 3.908108577373611, 3.908108577373611, 3.908108577373611, 3.908108577373611, 3.908108577373611, 3.908108577373611, 3.908108577373611, 3.908108577373611, 3.908108577373611, 3.908108577373611, 3.908108577373611, 3.908108577373611, 3.908108577373611, 3.908108577373611, 0, 0, 0, 0, 0, 0, 0, 0, 0, 0, 0, 0, 0, 0, 0, 0, 0, 0, 0, 0, 0, 1.9999999999999947, 1.9999999999999947, 1.9999999999999947, 1.9999999999999947, 1.9999999999999947, 1.9999999999999947, 1.9999999999999947, 1.9999999999999947, 1.9999999999999947, 1.9999999999999947, 1.9999999999999947, 1.9999999999999947, 1.9999999999999947, 1.9999999999999947, 1.9999999999999947, 1.9999999999999947, 1.9999999999999947, 1.9999999999999947, 1.9999999999999947, 1.9999999999999947, 1.9999999999999947, 3.973726933968808, 3.973726933968808, 3.973726933968808, 3.973726933968808, 3.973726933968808, 3.973726933968808, 3.973726933968808, 3.973726933968808, 3.973726933968808, 3.973726933968808, 3.973726933968808, 3.973726933968808, 3.973726933968808, 3.973726933968808, 3.973726933968808, 3.973726933968808, 3.973726933968808, 3.973726933968808, 3.973726933968808, 3.973726933968808, 3.973726933968808, 2.7499999999999973, 2.7499999999999973, 2.7499999999999973, 2.7499999999999973, 2.7499999999999973, 2.7499999999999973, 2.7499999999999973, 2.7499999999999973, 2.7499999999999973, 2.7499999999999973, 2.7499999999999973, 2.7499999999999973, 2.7499999999999973, 2.7499999999999973, 2.7499999999999973, 2.7499999999999973, 2.7499999999999973, 2.7499999999999973, 2.7499999999999973, 2.7499999999999973, 2.7499999999999973], \"zmax\": 7.35092996233815, \"zmin\": 0}, {\"colorscale\": [[0.0, \"rgb(211, 242, 163)\"], [0.16666666666666666, \"rgb(151, 225, 150)\"], [0.3333333333333333, \"rgb(108, 192, 139)\"], [0.5, \"rgb(76, 155, 130)\"], [0.6666666666666666, \"rgb(33, 122, 121)\"], [0.8333333333333334, \"rgb(16, 89, 101)\"], [1.0, \"rgb(7, 64, 80)\"]], \"hoverongaps\": false, \"hovertemplate\": \"%{y} --> %{x}: %{z:.3f}<extra></extra>\", \"showlegend\": false, \"showscale\": true, \"type\": \"heatmap\", \"x\": [\"Inf. zoobenthos\", \"Intertidal inv.\", \"Macrozooplankton\", \"Epi. zoobenthos\", \"Wild salmon fry\", \"Hatch. salmon fry\", \"Herring\", \"Small pelagics\", \"Demersal fish\", \"Trans. mammals\", \"\\u2717 Detritus\", \"Respiration\", \"Inf. zoobenthos\", \"Epi. zoobenthos\", \"Small pelagics\", \"Sea otters\", \"Demersal fish\", \"\\u2717 Detritus\", \"Export\", \"Respiration\", \"Intertidal inv.\", \"Demersal fish\", \"Birds\", \"Pinnipeds\", \"\\u2717 Detritus\", \"Respiration\", \"Wild salmon fry\", \"Hatch. salmon fry\", \"Herring\", \"Small pelagics\", \"Demersal fish\", \"Birds\", \"Salmon\", \"Trans. mammals\", \"Res. mammals\", \"\\u2717 Detritus\", \"Respiration\", \"Epi. zoobenthos\", \"Demersal fish\", \"\\u2717 Detritus\", \"Export\", \"Respiration\", \"Demersal fish\", \"\\u2717 Detritus\", \"Respiration\", \"Demersal fish\", \"\\u2717 Detritus\", \"Respiration\", \"Demersal fish\", \"Trans. mammals\", \"Res. mammals\", \"Pinnipeds\", \"\\u2717 Detritus\", \"Export\", \"Respiration\", \"Demersal fish\", \"Birds\", \"Salmon\", \"Trans. mammals\", \"Res. mammals\", \"Pinnipeds\", \"\\u2717 Detritus\", \"Respiration\", \"Res. mammals\", \"\\u2717 Detritus\", \"Respiration\", \"Demersal fish\", \"Birds\", \"Trans. mammals\", \"Res. mammals\", \"Pinnipeds\", \"\\u2717 Detritus\", \"Export\", \"Respiration\", \"\\u2717 Detritus\", \"Respiration\", \"Trans. mammals\", \"Res. mammals\", \"Pinnipeds\", \"\\u2717 Detritus\", \"Export\", \"Respiration\", \"\\u2717 Detritus\", \"Respiration\", \"Trans. mammals\", \"\\u2717 Detritus\", \"Respiration\", \"Trans. mammals\", \"\\u2717 Detritus\", \"Respiration\", \"Mesozooplankton\", \"Intertidal inv.\", \"Macrozooplankton\", \"\\u2717 Detritus\", \"Respiration\", \"Epi. zoobenthos\", \"Birds\", \"\\u2717 Detritus\", \"Respiration\", \"Mesozooplankton\", \"Inf. zoobenthos\", \"Intertidal inv.\", \"Epi. zoobenthos\", \"Export\", \"Phytoplankton PrimProd\", \"Macroalgae PrimProd\"], \"xgap\": 0.2, \"y\": [\"Mesozooplankton\", \"Mesozooplankton\", \"Mesozooplankton\", \"Mesozooplankton\", \"Mesozooplankton\", \"Mesozooplankton\", \"Mesozooplankton\", \"Mesozooplankton\", \"Mesozooplankton\", \"Mesozooplankton\", \"Mesozooplankton\", \"Mesozooplankton\", \"Inf. zoobenthos\", \"Inf. zoobenthos\", \"Inf. zoobenthos\", \"Inf. zoobenthos\", \"Inf. zoobenthos\", \"Inf. zoobenthos\", \"Inf. zoobenthos\", \"Inf. zoobenthos\", \"Intertidal inv.\", \"Intertidal inv.\", \"Intertidal inv.\", \"Intertidal inv.\", \"Intertidal inv.\", \"Intertidal inv.\", \"Macrozooplankton\", \"Macrozooplankton\", \"Macrozooplankton\", \"Macrozooplankton\", \"Macrozooplankton\", \"Macrozooplankton\", \"Macrozooplankton\", \"Macrozooplankton\", \"Macrozooplankton\", \"Macrozooplankton\", \"Macrozooplankton\", \"Epi. zoobenthos\", \"Epi. zoobenthos\", \"Epi. zoobenthos\", \"Epi. zoobenthos\", \"Epi. zoobenthos\", \"Wild salmon fry\", \"Wild salmon fry\", \"Wild salmon fry\", \"Hatch. salmon fry\", \"Hatch. salmon fry\", \"Hatch. salmon fry\", \"Herring\", \"Herring\", \"Herring\", \"Herring\", \"Herring\", \"Herring\", \"Herring\", \"Small pelagics\", \"Small pelagics\", \"Small pelagics\", \"Small pelagics\", \"Small pelagics\", \"Small pelagics\", \"Small pelagics\", \"Small pelagics\", \"Sea otters\", \"Sea otters\", \"Sea otters\", \"Demersal fish\", \"Demersal fish\", \"Demersal fish\", \"Demersal fish\", \"Demersal fish\", \"Demersal fish\", \"Demersal fish\", \"Demersal fish\", \"Birds\", \"Birds\", \"Salmon\", \"Salmon\", \"Salmon\", \"Salmon\", \"Salmon\", \"Salmon\", \"Trans. mammals\", \"Trans. mammals\", \"Res. mammals\", \"Res. mammals\", \"Res. mammals\", \"Pinnipeds\", \"Pinnipeds\", \"Pinnipeds\", \"Phytoplankton PrimProd\", \"Phytoplankton PrimProd\", \"Phytoplankton PrimProd\", \"Phytoplankton PrimProd\", \"Phytoplankton PrimProd\", \"Macroalgae PrimProd\", \"Macroalgae PrimProd\", \"Macroalgae PrimProd\", \"Macroalgae PrimProd\", \"\\u2717 Detritus\", \"\\u2717 Detritus\", \"\\u2717 Detritus\", \"\\u2717 Detritus\", \"\\u2717 Detritus\", \"Import\", \"Import\"], \"ygap\": 0.2, \"z\": [1500.75, 22.464, 724.5, 1.3, 0.42, 0.405, 87.5556, 96.78732, 3.9856, 0.11508, 1839.166, 4275.792, 51.75, 6.5, 16.29253, 1.564, 5.18128, 1088.709, 0.003, 4005.0, 6.24, 0.9964, 0.467208, 0.6111, 16.64529, 37.44, 0.14, 0.135, 58.3704, 48.23235, 10.56184, 0.404481, 0.319108, 0.38556, 0.012065, 198.8392, 648.6, 1.04, 1.19568, 2.82132, 0.143, 7.8, 0.19928, 0.16822, 0.19249998, 0.19928, 0.22507, 0.115649953, 3.18848, 0.05628, 0.357124, 0.44523, 29.43378, 1.136, 111.30912, 10.36256, 0.992817, 1.808279, 0.11592, 0.5875655, 3.16026, 33.15862, 111.12619, 0.0012065, 0.3236635, 1.23913014, 3.9856, 0.294168, 0.16212, 0.180975, 4.365, 8.346337, 0.037, 22.4847965, 0.4347, 1.72829986, 0.00084, 0.067564, 0.14841, 0.5105728, 1.4, 2.98023224e-08, 0.1736, 0.6664, 0.00084, 0.24236, 0.96329993, 0.00336, 1.76064, 6.96600056, 6842.592, 14.352, 241.5, 788.716, 1577.43206, 2.587, 0.004326, 1757.409, 352.0, 1710.648, 3622.5, 19.344, 1.573, 413.017882123937, 9464.59236, 2112.0], \"zmax\": 9464.59236, \"zmin\": 2.98023224e-08}],\n",
       "                        {\"autosize\": true, \"height\": 900, \"legend\": {\"orientation\": \"h\", \"x\": 1, \"xanchor\": \"right\", \"y\": 1, \"yanchor\": \"bottom\"}, \"template\": {\"data\": {\"bar\": [{\"error_x\": {\"color\": \"#2a3f5f\"}, \"error_y\": {\"color\": \"#2a3f5f\"}, \"marker\": {\"line\": {\"color\": \"#E5ECF6\", \"width\": 0.5}}, \"type\": \"bar\"}], \"barpolar\": [{\"marker\": {\"line\": {\"color\": \"#E5ECF6\", \"width\": 0.5}}, \"type\": \"barpolar\"}], \"carpet\": [{\"aaxis\": {\"endlinecolor\": \"#2a3f5f\", \"gridcolor\": \"white\", \"linecolor\": \"white\", \"minorgridcolor\": \"white\", \"startlinecolor\": \"#2a3f5f\"}, \"baxis\": {\"endlinecolor\": \"#2a3f5f\", \"gridcolor\": \"white\", \"linecolor\": \"white\", \"minorgridcolor\": \"white\", \"startlinecolor\": \"#2a3f5f\"}, \"type\": \"carpet\"}], \"choropleth\": [{\"colorbar\": {\"outlinewidth\": 0, \"ticks\": \"\"}, \"type\": \"choropleth\"}], \"contour\": [{\"colorbar\": {\"outlinewidth\": 0, \"ticks\": \"\"}, \"colorscale\": [[0.0, \"#0d0887\"], [0.1111111111111111, \"#46039f\"], [0.2222222222222222, \"#7201a8\"], [0.3333333333333333, \"#9c179e\"], [0.4444444444444444, \"#bd3786\"], [0.5555555555555556, \"#d8576b\"], [0.6666666666666666, \"#ed7953\"], [0.7777777777777778, \"#fb9f3a\"], [0.8888888888888888, \"#fdca26\"], [1.0, \"#f0f921\"]], \"type\": \"contour\"}], \"contourcarpet\": [{\"colorbar\": {\"outlinewidth\": 0, \"ticks\": \"\"}, \"type\": \"contourcarpet\"}], \"heatmap\": [{\"colorbar\": {\"outlinewidth\": 0, \"ticks\": \"\"}, \"colorscale\": [[0.0, \"#0d0887\"], [0.1111111111111111, \"#46039f\"], [0.2222222222222222, \"#7201a8\"], [0.3333333333333333, \"#9c179e\"], [0.4444444444444444, \"#bd3786\"], [0.5555555555555556, \"#d8576b\"], [0.6666666666666666, \"#ed7953\"], [0.7777777777777778, \"#fb9f3a\"], [0.8888888888888888, \"#fdca26\"], [1.0, \"#f0f921\"]], \"type\": \"heatmap\"}], \"heatmapgl\": [{\"colorbar\": {\"outlinewidth\": 0, \"ticks\": \"\"}, \"colorscale\": [[0.0, \"#0d0887\"], [0.1111111111111111, \"#46039f\"], [0.2222222222222222, \"#7201a8\"], [0.3333333333333333, \"#9c179e\"], [0.4444444444444444, \"#bd3786\"], [0.5555555555555556, \"#d8576b\"], [0.6666666666666666, \"#ed7953\"], [0.7777777777777778, \"#fb9f3a\"], [0.8888888888888888, \"#fdca26\"], [1.0, \"#f0f921\"]], \"type\": \"heatmapgl\"}], \"histogram\": [{\"marker\": {\"colorbar\": {\"outlinewidth\": 0, \"ticks\": \"\"}}, \"type\": \"histogram\"}], \"histogram2d\": [{\"colorbar\": {\"outlinewidth\": 0, \"ticks\": \"\"}, \"colorscale\": [[0.0, \"#0d0887\"], [0.1111111111111111, \"#46039f\"], [0.2222222222222222, \"#7201a8\"], [0.3333333333333333, \"#9c179e\"], [0.4444444444444444, \"#bd3786\"], [0.5555555555555556, \"#d8576b\"], [0.6666666666666666, \"#ed7953\"], [0.7777777777777778, \"#fb9f3a\"], [0.8888888888888888, \"#fdca26\"], [1.0, \"#f0f921\"]], \"type\": \"histogram2d\"}], \"histogram2dcontour\": [{\"colorbar\": {\"outlinewidth\": 0, \"ticks\": \"\"}, \"colorscale\": [[0.0, \"#0d0887\"], [0.1111111111111111, \"#46039f\"], [0.2222222222222222, \"#7201a8\"], [0.3333333333333333, \"#9c179e\"], [0.4444444444444444, \"#bd3786\"], [0.5555555555555556, \"#d8576b\"], [0.6666666666666666, \"#ed7953\"], [0.7777777777777778, \"#fb9f3a\"], [0.8888888888888888, \"#fdca26\"], [1.0, \"#f0f921\"]], \"type\": \"histogram2dcontour\"}], \"mesh3d\": [{\"colorbar\": {\"outlinewidth\": 0, \"ticks\": \"\"}, \"type\": \"mesh3d\"}], \"parcoords\": [{\"line\": {\"colorbar\": {\"outlinewidth\": 0, \"ticks\": \"\"}}, \"type\": \"parcoords\"}], \"pie\": [{\"automargin\": true, \"type\": \"pie\"}], \"scatter\": [{\"marker\": {\"colorbar\": {\"outlinewidth\": 0, \"ticks\": \"\"}}, \"type\": \"scatter\"}], \"scatter3d\": [{\"line\": {\"colorbar\": {\"outlinewidth\": 0, \"ticks\": \"\"}}, \"marker\": {\"colorbar\": {\"outlinewidth\": 0, \"ticks\": \"\"}}, \"type\": \"scatter3d\"}], \"scattercarpet\": [{\"marker\": {\"colorbar\": {\"outlinewidth\": 0, \"ticks\": \"\"}}, \"type\": \"scattercarpet\"}], \"scattergeo\": [{\"marker\": {\"colorbar\": {\"outlinewidth\": 0, \"ticks\": \"\"}}, \"type\": \"scattergeo\"}], \"scattergl\": [{\"marker\": {\"colorbar\": {\"outlinewidth\": 0, \"ticks\": \"\"}}, \"type\": \"scattergl\"}], \"scattermapbox\": [{\"marker\": {\"colorbar\": {\"outlinewidth\": 0, \"ticks\": \"\"}}, \"type\": \"scattermapbox\"}], \"scatterpolar\": [{\"marker\": {\"colorbar\": {\"outlinewidth\": 0, \"ticks\": \"\"}}, \"type\": \"scatterpolar\"}], \"scatterpolargl\": [{\"marker\": {\"colorbar\": {\"outlinewidth\": 0, \"ticks\": \"\"}}, \"type\": \"scatterpolargl\"}], \"scatterternary\": [{\"marker\": {\"colorbar\": {\"outlinewidth\": 0, \"ticks\": \"\"}}, \"type\": \"scatterternary\"}], \"surface\": [{\"colorbar\": {\"outlinewidth\": 0, \"ticks\": \"\"}, \"colorscale\": [[0.0, \"#0d0887\"], [0.1111111111111111, \"#46039f\"], [0.2222222222222222, \"#7201a8\"], [0.3333333333333333, \"#9c179e\"], [0.4444444444444444, \"#bd3786\"], [0.5555555555555556, \"#d8576b\"], [0.6666666666666666, \"#ed7953\"], [0.7777777777777778, \"#fb9f3a\"], [0.8888888888888888, \"#fdca26\"], [1.0, \"#f0f921\"]], \"type\": \"surface\"}], \"table\": [{\"cells\": {\"fill\": {\"color\": \"#EBF0F8\"}, \"line\": {\"color\": \"white\"}}, \"header\": {\"fill\": {\"color\": \"#C8D4E3\"}, \"line\": {\"color\": \"white\"}}, \"type\": \"table\"}]}, \"layout\": {\"annotationdefaults\": {\"arrowcolor\": \"#2a3f5f\", \"arrowhead\": 0, \"arrowwidth\": 1}, \"coloraxis\": {\"colorbar\": {\"outlinewidth\": 0, \"ticks\": \"\"}}, \"colorscale\": {\"diverging\": [[0, \"#8e0152\"], [0.1, \"#c51b7d\"], [0.2, \"#de77ae\"], [0.3, \"#f1b6da\"], [0.4, \"#fde0ef\"], [0.5, \"#f7f7f7\"], [0.6, \"#e6f5d0\"], [0.7, \"#b8e186\"], [0.8, \"#7fbc41\"], [0.9, \"#4d9221\"], [1, \"#276419\"]], \"sequential\": [[0.0, \"#0d0887\"], [0.1111111111111111, \"#46039f\"], [0.2222222222222222, \"#7201a8\"], [0.3333333333333333, \"#9c179e\"], [0.4444444444444444, \"#bd3786\"], [0.5555555555555556, \"#d8576b\"], [0.6666666666666666, \"#ed7953\"], [0.7777777777777778, \"#fb9f3a\"], [0.8888888888888888, \"#fdca26\"], [1.0, \"#f0f921\"]], \"sequentialminus\": [[0.0, \"#0d0887\"], [0.1111111111111111, \"#46039f\"], [0.2222222222222222, \"#7201a8\"], [0.3333333333333333, \"#9c179e\"], [0.4444444444444444, \"#bd3786\"], [0.5555555555555556, \"#d8576b\"], [0.6666666666666666, \"#ed7953\"], [0.7777777777777778, \"#fb9f3a\"], [0.8888888888888888, \"#fdca26\"], [1.0, \"#f0f921\"]]}, \"colorway\": [\"#636efa\", \"#EF553B\", \"#00cc96\", \"#ab63fa\", \"#FFA15A\", \"#19d3f3\", \"#FF6692\", \"#B6E880\", \"#FF97FF\", \"#FECB52\"], \"font\": {\"color\": \"#2a3f5f\"}, \"geo\": {\"bgcolor\": \"white\", \"lakecolor\": \"white\", \"landcolor\": \"#E5ECF6\", \"showlakes\": true, \"showland\": true, \"subunitcolor\": \"white\"}, \"hoverlabel\": {\"align\": \"left\"}, \"hovermode\": \"closest\", \"mapbox\": {\"style\": \"light\"}, \"paper_bgcolor\": \"white\", \"plot_bgcolor\": \"#E5ECF6\", \"polar\": {\"angularaxis\": {\"gridcolor\": \"white\", \"linecolor\": \"white\", \"ticks\": \"\"}, \"bgcolor\": \"#E5ECF6\", \"radialaxis\": {\"gridcolor\": \"white\", \"linecolor\": \"white\", \"ticks\": \"\"}}, \"scene\": {\"xaxis\": {\"backgroundcolor\": \"#E5ECF6\", \"gridcolor\": \"white\", \"gridwidth\": 2, \"linecolor\": \"white\", \"showbackground\": true, \"ticks\": \"\", \"zerolinecolor\": \"white\"}, \"yaxis\": {\"backgroundcolor\": \"#E5ECF6\", \"gridcolor\": \"white\", \"gridwidth\": 2, \"linecolor\": \"white\", \"showbackground\": true, \"ticks\": \"\", \"zerolinecolor\": \"white\"}, \"zaxis\": {\"backgroundcolor\": \"#E5ECF6\", \"gridcolor\": \"white\", \"gridwidth\": 2, \"linecolor\": \"white\", \"showbackground\": true, \"ticks\": \"\", \"zerolinecolor\": \"white\"}}, \"shapedefaults\": {\"line\": {\"color\": \"#2a3f5f\"}}, \"ternary\": {\"aaxis\": {\"gridcolor\": \"white\", \"linecolor\": \"white\", \"ticks\": \"\"}, \"baxis\": {\"gridcolor\": \"white\", \"linecolor\": \"white\", \"ticks\": \"\"}, \"bgcolor\": \"#E5ECF6\", \"caxis\": {\"gridcolor\": \"white\", \"linecolor\": \"white\", \"ticks\": \"\"}}, \"title\": {\"x\": 0.05}, \"xaxis\": {\"automargin\": true, \"gridcolor\": \"white\", \"linecolor\": \"white\", \"ticks\": \"\", \"title\": {\"standoff\": 15}, \"zerolinecolor\": \"white\", \"zerolinewidth\": 2}, \"yaxis\": {\"automargin\": true, \"gridcolor\": \"white\", \"linecolor\": \"white\", \"ticks\": \"\", \"title\": {\"standoff\": 15}, \"zerolinecolor\": \"white\", \"zerolinewidth\": 2}}}, \"title\": {\"text\": \"Alaska, Prince William Sound _ 2 ,   bay/fjord ,  WetWeight ,  BOX(-148.917602345144 59.8326977714434,-145.354763425498 61.3886291588734) ,  Dalsgaard J.,Pauly D.,Okey T.A.(1997). Preliminary mass-balance model of Prince William Sound, Alaska, for the pre-spill period, 1980-1989 Fisheries Centre Research Reports\"}, \"width\": 1200, \"xaxis\": {\"categoryarray\": [\"Res. mammals\", \"Pinnipeds\", \"Salmon\", \"Birds\", \"Trans. mammals\", \"Demersal fish\", \"Herring\", \"Sea otters\", \"Small pelagics\", \"Wild salmon fry\", \"Hatch. salmon fry\", \"Macrozooplankton\", \"Epi. zoobenthos\", \"Inf. zoobenthos\", \"Intertidal inv.\", \"Mesozooplankton\", \"Phytoplankton PrimProd\", \"Macroalgae PrimProd\", \"\\u2717 Detritus\", \"Export\", \"Respiration\"], \"showspikes\": true, \"spikethickness\": 0.5, \"title\": {\"text\": \"To\"}}, \"yaxis\": {\"categoryarray\": [\"Import\", \"\\u2717 Detritus\", \"Phytoplankton PrimProd\", \"Macroalgae PrimProd\", \"Mesozooplankton\", \"Intertidal inv.\", \"Inf. zoobenthos\", \"Epi. zoobenthos\", \"Macrozooplankton\", \"Hatch. salmon fry\", \"Wild salmon fry\", \"Small pelagics\", \"Sea otters\", \"Herring\", \"Demersal fish\", \"Trans. mammals\", \"Birds\", \"Salmon\", \"Pinnipeds\", \"Res. mammals\"], \"showspikes\": true, \"spikemode\": \"across\", \"spikesnap\": \"cursor\", \"spikethickness\": 0.5, \"title\": {\"text\": \"From\"}}},\n",
       "                        {\"responsive\": true}\n",
       "                    ).then(function(){\n",
       "                            \n",
       "var gd = document.getElementById('402c90ca-f334-486e-a76a-35f3b445c3c6');\n",
       "var x = new MutationObserver(function (mutations, observer) {{\n",
       "        var display = window.getComputedStyle(gd).display;\n",
       "        if (!display || display === 'none') {{\n",
       "            console.log([gd, 'removed!']);\n",
       "            Plotly.purge(gd);\n",
       "            observer.disconnect();\n",
       "        }}\n",
       "}});\n",
       "\n",
       "// Listen for the removal of the full notebook cells\n",
       "var notebookContainer = gd.closest('#notebook-container');\n",
       "if (notebookContainer) {{\n",
       "    x.observe(notebookContainer, {childList: true});\n",
       "}}\n",
       "\n",
       "// Listen for the clearing of the current output cell\n",
       "var outputEl = gd.closest('.output');\n",
       "if (outputEl) {{\n",
       "    x.observe(outputEl, {childList: true});\n",
       "}}\n",
       "\n",
       "                        })\n",
       "                };\n",
       "                });\n",
       "            </script>\n",
       "        </div>"
      ]
     },
     "metadata": {},
     "output_type": "display_data"
    }
   ],
   "source": [
    "fw.draw_heatmap(foodweb, normalization=None, show_trophic_layer=True, boundary=True)"
   ]
  },
  {
   "cell_type": "markdown",
   "metadata": {},
   "source": [
    "Draw same heatmap, but with 'diet' normalization:"
   ]
  },
  {
   "cell_type": "code",
   "execution_count": 18,
   "metadata": {},
   "outputs": [
    {
     "data": {
      "application/vnd.plotly.v1+json": {
       "config": {
        "plotlyServerURL": "https://plot.ly"
       },
       "data": [
        {
         "colorscale": [
          [
           0,
           "rgb(209, 238, 234)"
          ],
          [
           0.16666666666666666,
           "rgb(168, 219, 217)"
          ],
          [
           0.3333333333333333,
           "rgb(133, 196, 201)"
          ],
          [
           0.5,
           "rgb(104, 171, 184)"
          ],
          [
           0.6666666666666666,
           "rgb(79, 144, 166)"
          ],
          [
           0.8333333333333334,
           "rgb(59, 115, 143)"
          ],
          [
           1,
           "rgb(42, 86, 116)"
          ]
         ],
         "hoverinfo": "skip",
         "name": "Trophic Layer",
         "showlegend": true,
         "showscale": false,
         "type": "heatmap",
         "x": [
          "✗ Detritus",
          "Salmon",
          "Macroalgae PrimProd",
          "Phytoplankton PrimProd",
          "Pinnipeds",
          "Intertidal inv.",
          "Export",
          "Epi. zoobenthos",
          "Herring",
          "Inf. zoobenthos",
          "Hatch. salmon fry",
          "Wild salmon fry",
          "Respiration",
          "Demersal fish",
          "Sea otters",
          "Small pelagics",
          "Res. mammals",
          "Trans. mammals",
          "Mesozooplankton",
          "Birds",
          "Macrozooplankton",
          "✗ Detritus",
          "Salmon",
          "Macroalgae PrimProd",
          "Phytoplankton PrimProd",
          "Pinnipeds",
          "Intertidal inv.",
          "Export",
          "Epi. zoobenthos",
          "Herring",
          "Inf. zoobenthos",
          "Hatch. salmon fry",
          "Wild salmon fry",
          "Respiration",
          "Demersal fish",
          "Sea otters",
          "Small pelagics",
          "Res. mammals",
          "Trans. mammals",
          "Mesozooplankton",
          "Birds",
          "Macrozooplankton",
          "✗ Detritus",
          "Salmon",
          "Macroalgae PrimProd",
          "Phytoplankton PrimProd",
          "Pinnipeds",
          "Intertidal inv.",
          "Export",
          "Epi. zoobenthos",
          "Herring",
          "Inf. zoobenthos",
          "Hatch. salmon fry",
          "Wild salmon fry",
          "Respiration",
          "Demersal fish",
          "Sea otters",
          "Small pelagics",
          "Res. mammals",
          "Trans. mammals",
          "Mesozooplankton",
          "Birds",
          "Macrozooplankton",
          "✗ Detritus",
          "Salmon",
          "Macroalgae PrimProd",
          "Phytoplankton PrimProd",
          "Pinnipeds",
          "Intertidal inv.",
          "Export",
          "Epi. zoobenthos",
          "Herring",
          "Inf. zoobenthos",
          "Hatch. salmon fry",
          "Wild salmon fry",
          "Respiration",
          "Demersal fish",
          "Sea otters",
          "Small pelagics",
          "Res. mammals",
          "Trans. mammals",
          "Mesozooplankton",
          "Birds",
          "Macrozooplankton",
          "✗ Detritus",
          "Salmon",
          "Macroalgae PrimProd",
          "Phytoplankton PrimProd",
          "Pinnipeds",
          "Intertidal inv.",
          "Export",
          "Epi. zoobenthos",
          "Herring",
          "Inf. zoobenthos",
          "Hatch. salmon fry",
          "Wild salmon fry",
          "Respiration",
          "Demersal fish",
          "Sea otters",
          "Small pelagics",
          "Res. mammals",
          "Trans. mammals",
          "Mesozooplankton",
          "Birds",
          "Macrozooplankton",
          "✗ Detritus",
          "Salmon",
          "Macroalgae PrimProd",
          "Phytoplankton PrimProd",
          "Pinnipeds",
          "Intertidal inv.",
          "Export",
          "Epi. zoobenthos",
          "Herring",
          "Inf. zoobenthos",
          "Hatch. salmon fry",
          "Wild salmon fry",
          "Respiration",
          "Demersal fish",
          "Sea otters",
          "Small pelagics",
          "Res. mammals",
          "Trans. mammals",
          "Mesozooplankton",
          "Birds",
          "Macrozooplankton",
          "✗ Detritus",
          "Salmon",
          "Macroalgae PrimProd",
          "Phytoplankton PrimProd",
          "Pinnipeds",
          "Intertidal inv.",
          "Export",
          "Epi. zoobenthos",
          "Herring",
          "Inf. zoobenthos",
          "Hatch. salmon fry",
          "Wild salmon fry",
          "Respiration",
          "Demersal fish",
          "Sea otters",
          "Small pelagics",
          "Res. mammals",
          "Trans. mammals",
          "Mesozooplankton",
          "Birds",
          "Macrozooplankton",
          "✗ Detritus",
          "Salmon",
          "Macroalgae PrimProd",
          "Phytoplankton PrimProd",
          "Pinnipeds",
          "Intertidal inv.",
          "Export",
          "Epi. zoobenthos",
          "Herring",
          "Inf. zoobenthos",
          "Hatch. salmon fry",
          "Wild salmon fry",
          "Respiration",
          "Demersal fish",
          "Sea otters",
          "Small pelagics",
          "Res. mammals",
          "Trans. mammals",
          "Mesozooplankton",
          "Birds",
          "Macrozooplankton",
          "✗ Detritus",
          "Salmon",
          "Macroalgae PrimProd",
          "Phytoplankton PrimProd",
          "Pinnipeds",
          "Intertidal inv.",
          "Export",
          "Epi. zoobenthos",
          "Herring",
          "Inf. zoobenthos",
          "Hatch. salmon fry",
          "Wild salmon fry",
          "Respiration",
          "Demersal fish",
          "Sea otters",
          "Small pelagics",
          "Res. mammals",
          "Trans. mammals",
          "Mesozooplankton",
          "Birds",
          "Macrozooplankton",
          "✗ Detritus",
          "Salmon",
          "Macroalgae PrimProd",
          "Phytoplankton PrimProd",
          "Pinnipeds",
          "Intertidal inv.",
          "Export",
          "Epi. zoobenthos",
          "Herring",
          "Inf. zoobenthos",
          "Hatch. salmon fry",
          "Wild salmon fry",
          "Respiration",
          "Demersal fish",
          "Sea otters",
          "Small pelagics",
          "Res. mammals",
          "Trans. mammals",
          "Mesozooplankton",
          "Birds",
          "Macrozooplankton",
          "✗ Detritus",
          "Salmon",
          "Macroalgae PrimProd",
          "Phytoplankton PrimProd",
          "Pinnipeds",
          "Intertidal inv.",
          "Export",
          "Epi. zoobenthos",
          "Herring",
          "Inf. zoobenthos",
          "Hatch. salmon fry",
          "Wild salmon fry",
          "Respiration",
          "Demersal fish",
          "Sea otters",
          "Small pelagics",
          "Res. mammals",
          "Trans. mammals",
          "Mesozooplankton",
          "Birds",
          "Macrozooplankton",
          "✗ Detritus",
          "Salmon",
          "Macroalgae PrimProd",
          "Phytoplankton PrimProd",
          "Pinnipeds",
          "Intertidal inv.",
          "Export",
          "Epi. zoobenthos",
          "Herring",
          "Inf. zoobenthos",
          "Hatch. salmon fry",
          "Wild salmon fry",
          "Respiration",
          "Demersal fish",
          "Sea otters",
          "Small pelagics",
          "Res. mammals",
          "Trans. mammals",
          "Mesozooplankton",
          "Birds",
          "Macrozooplankton",
          "✗ Detritus",
          "Salmon",
          "Macroalgae PrimProd",
          "Phytoplankton PrimProd",
          "Pinnipeds",
          "Intertidal inv.",
          "Export",
          "Epi. zoobenthos",
          "Herring",
          "Inf. zoobenthos",
          "Hatch. salmon fry",
          "Wild salmon fry",
          "Respiration",
          "Demersal fish",
          "Sea otters",
          "Small pelagics",
          "Res. mammals",
          "Trans. mammals",
          "Mesozooplankton",
          "Birds",
          "Macrozooplankton",
          "✗ Detritus",
          "Salmon",
          "Macroalgae PrimProd",
          "Phytoplankton PrimProd",
          "Pinnipeds",
          "Intertidal inv.",
          "Export",
          "Epi. zoobenthos",
          "Herring",
          "Inf. zoobenthos",
          "Hatch. salmon fry",
          "Wild salmon fry",
          "Respiration",
          "Demersal fish",
          "Sea otters",
          "Small pelagics",
          "Res. mammals",
          "Trans. mammals",
          "Mesozooplankton",
          "Birds",
          "Macrozooplankton",
          "✗ Detritus",
          "Salmon",
          "Macroalgae PrimProd",
          "Phytoplankton PrimProd",
          "Pinnipeds",
          "Intertidal inv.",
          "Export",
          "Epi. zoobenthos",
          "Herring",
          "Inf. zoobenthos",
          "Hatch. salmon fry",
          "Wild salmon fry",
          "Respiration",
          "Demersal fish",
          "Sea otters",
          "Small pelagics",
          "Res. mammals",
          "Trans. mammals",
          "Mesozooplankton",
          "Birds",
          "Macrozooplankton",
          "✗ Detritus",
          "Salmon",
          "Macroalgae PrimProd",
          "Phytoplankton PrimProd",
          "Pinnipeds",
          "Intertidal inv.",
          "Export",
          "Epi. zoobenthos",
          "Herring",
          "Inf. zoobenthos",
          "Hatch. salmon fry",
          "Wild salmon fry",
          "Respiration",
          "Demersal fish",
          "Sea otters",
          "Small pelagics",
          "Res. mammals",
          "Trans. mammals",
          "Mesozooplankton",
          "Birds",
          "Macrozooplankton",
          "✗ Detritus",
          "Salmon",
          "Macroalgae PrimProd",
          "Phytoplankton PrimProd",
          "Pinnipeds",
          "Intertidal inv.",
          "Export",
          "Epi. zoobenthos",
          "Herring",
          "Inf. zoobenthos",
          "Hatch. salmon fry",
          "Wild salmon fry",
          "Respiration",
          "Demersal fish",
          "Sea otters",
          "Small pelagics",
          "Res. mammals",
          "Trans. mammals",
          "Mesozooplankton",
          "Birds",
          "Macrozooplankton",
          "✗ Detritus",
          "Salmon",
          "Macroalgae PrimProd",
          "Phytoplankton PrimProd",
          "Pinnipeds",
          "Intertidal inv.",
          "Export",
          "Epi. zoobenthos",
          "Herring",
          "Inf. zoobenthos",
          "Hatch. salmon fry",
          "Wild salmon fry",
          "Respiration",
          "Demersal fish",
          "Sea otters",
          "Small pelagics",
          "Res. mammals",
          "Trans. mammals",
          "Mesozooplankton",
          "Birds",
          "Macrozooplankton",
          "✗ Detritus",
          "Salmon",
          "Macroalgae PrimProd",
          "Phytoplankton PrimProd",
          "Pinnipeds",
          "Intertidal inv.",
          "Export",
          "Epi. zoobenthos",
          "Herring",
          "Inf. zoobenthos",
          "Hatch. salmon fry",
          "Wild salmon fry",
          "Respiration",
          "Demersal fish",
          "Sea otters",
          "Small pelagics",
          "Res. mammals",
          "Trans. mammals",
          "Mesozooplankton",
          "Birds",
          "Macrozooplankton",
          "✗ Detritus",
          "Salmon",
          "Macroalgae PrimProd",
          "Phytoplankton PrimProd",
          "Pinnipeds",
          "Intertidal inv.",
          "Export",
          "Epi. zoobenthos",
          "Herring",
          "Inf. zoobenthos",
          "Hatch. salmon fry",
          "Wild salmon fry",
          "Respiration",
          "Demersal fish",
          "Sea otters",
          "Small pelagics",
          "Res. mammals",
          "Trans. mammals",
          "Mesozooplankton",
          "Birds",
          "Macrozooplankton"
         ],
         "xgap": 0.2,
         "y": [
          "Salmon",
          "Salmon",
          "Salmon",
          "Salmon",
          "Salmon",
          "Salmon",
          "Salmon",
          "Salmon",
          "Salmon",
          "Salmon",
          "Salmon",
          "Salmon",
          "Salmon",
          "Salmon",
          "Salmon",
          "Salmon",
          "Salmon",
          "Salmon",
          "Salmon",
          "Salmon",
          "Salmon",
          "Macroalgae PrimProd",
          "Macroalgae PrimProd",
          "Macroalgae PrimProd",
          "Macroalgae PrimProd",
          "Macroalgae PrimProd",
          "Macroalgae PrimProd",
          "Macroalgae PrimProd",
          "Macroalgae PrimProd",
          "Macroalgae PrimProd",
          "Macroalgae PrimProd",
          "Macroalgae PrimProd",
          "Macroalgae PrimProd",
          "Macroalgae PrimProd",
          "Macroalgae PrimProd",
          "Macroalgae PrimProd",
          "Macroalgae PrimProd",
          "Macroalgae PrimProd",
          "Macroalgae PrimProd",
          "Macroalgae PrimProd",
          "Macroalgae PrimProd",
          "Macroalgae PrimProd",
          "✗ Detritus",
          "✗ Detritus",
          "✗ Detritus",
          "✗ Detritus",
          "✗ Detritus",
          "✗ Detritus",
          "✗ Detritus",
          "✗ Detritus",
          "✗ Detritus",
          "✗ Detritus",
          "✗ Detritus",
          "✗ Detritus",
          "✗ Detritus",
          "✗ Detritus",
          "✗ Detritus",
          "✗ Detritus",
          "✗ Detritus",
          "✗ Detritus",
          "✗ Detritus",
          "✗ Detritus",
          "✗ Detritus",
          "Phytoplankton PrimProd",
          "Phytoplankton PrimProd",
          "Phytoplankton PrimProd",
          "Phytoplankton PrimProd",
          "Phytoplankton PrimProd",
          "Phytoplankton PrimProd",
          "Phytoplankton PrimProd",
          "Phytoplankton PrimProd",
          "Phytoplankton PrimProd",
          "Phytoplankton PrimProd",
          "Phytoplankton PrimProd",
          "Phytoplankton PrimProd",
          "Phytoplankton PrimProd",
          "Phytoplankton PrimProd",
          "Phytoplankton PrimProd",
          "Phytoplankton PrimProd",
          "Phytoplankton PrimProd",
          "Phytoplankton PrimProd",
          "Phytoplankton PrimProd",
          "Phytoplankton PrimProd",
          "Phytoplankton PrimProd",
          "Pinnipeds",
          "Pinnipeds",
          "Pinnipeds",
          "Pinnipeds",
          "Pinnipeds",
          "Pinnipeds",
          "Pinnipeds",
          "Pinnipeds",
          "Pinnipeds",
          "Pinnipeds",
          "Pinnipeds",
          "Pinnipeds",
          "Pinnipeds",
          "Pinnipeds",
          "Pinnipeds",
          "Pinnipeds",
          "Pinnipeds",
          "Pinnipeds",
          "Pinnipeds",
          "Pinnipeds",
          "Pinnipeds",
          "Intertidal inv.",
          "Intertidal inv.",
          "Intertidal inv.",
          "Intertidal inv.",
          "Intertidal inv.",
          "Intertidal inv.",
          "Intertidal inv.",
          "Intertidal inv.",
          "Intertidal inv.",
          "Intertidal inv.",
          "Intertidal inv.",
          "Intertidal inv.",
          "Intertidal inv.",
          "Intertidal inv.",
          "Intertidal inv.",
          "Intertidal inv.",
          "Intertidal inv.",
          "Intertidal inv.",
          "Intertidal inv.",
          "Intertidal inv.",
          "Intertidal inv.",
          "Epi. zoobenthos",
          "Epi. zoobenthos",
          "Epi. zoobenthos",
          "Epi. zoobenthos",
          "Epi. zoobenthos",
          "Epi. zoobenthos",
          "Epi. zoobenthos",
          "Epi. zoobenthos",
          "Epi. zoobenthos",
          "Epi. zoobenthos",
          "Epi. zoobenthos",
          "Epi. zoobenthos",
          "Epi. zoobenthos",
          "Epi. zoobenthos",
          "Epi. zoobenthos",
          "Epi. zoobenthos",
          "Epi. zoobenthos",
          "Epi. zoobenthos",
          "Epi. zoobenthos",
          "Epi. zoobenthos",
          "Epi. zoobenthos",
          "Herring",
          "Herring",
          "Herring",
          "Herring",
          "Herring",
          "Herring",
          "Herring",
          "Herring",
          "Herring",
          "Herring",
          "Herring",
          "Herring",
          "Herring",
          "Herring",
          "Herring",
          "Herring",
          "Herring",
          "Herring",
          "Herring",
          "Herring",
          "Herring",
          "Inf. zoobenthos",
          "Inf. zoobenthos",
          "Inf. zoobenthos",
          "Inf. zoobenthos",
          "Inf. zoobenthos",
          "Inf. zoobenthos",
          "Inf. zoobenthos",
          "Inf. zoobenthos",
          "Inf. zoobenthos",
          "Inf. zoobenthos",
          "Inf. zoobenthos",
          "Inf. zoobenthos",
          "Inf. zoobenthos",
          "Inf. zoobenthos",
          "Inf. zoobenthos",
          "Inf. zoobenthos",
          "Inf. zoobenthos",
          "Inf. zoobenthos",
          "Inf. zoobenthos",
          "Inf. zoobenthos",
          "Inf. zoobenthos",
          "Hatch. salmon fry",
          "Hatch. salmon fry",
          "Hatch. salmon fry",
          "Hatch. salmon fry",
          "Hatch. salmon fry",
          "Hatch. salmon fry",
          "Hatch. salmon fry",
          "Hatch. salmon fry",
          "Hatch. salmon fry",
          "Hatch. salmon fry",
          "Hatch. salmon fry",
          "Hatch. salmon fry",
          "Hatch. salmon fry",
          "Hatch. salmon fry",
          "Hatch. salmon fry",
          "Hatch. salmon fry",
          "Hatch. salmon fry",
          "Hatch. salmon fry",
          "Hatch. salmon fry",
          "Hatch. salmon fry",
          "Hatch. salmon fry",
          "Wild salmon fry",
          "Wild salmon fry",
          "Wild salmon fry",
          "Wild salmon fry",
          "Wild salmon fry",
          "Wild salmon fry",
          "Wild salmon fry",
          "Wild salmon fry",
          "Wild salmon fry",
          "Wild salmon fry",
          "Wild salmon fry",
          "Wild salmon fry",
          "Wild salmon fry",
          "Wild salmon fry",
          "Wild salmon fry",
          "Wild salmon fry",
          "Wild salmon fry",
          "Wild salmon fry",
          "Wild salmon fry",
          "Wild salmon fry",
          "Wild salmon fry",
          "Demersal fish",
          "Demersal fish",
          "Demersal fish",
          "Demersal fish",
          "Demersal fish",
          "Demersal fish",
          "Demersal fish",
          "Demersal fish",
          "Demersal fish",
          "Demersal fish",
          "Demersal fish",
          "Demersal fish",
          "Demersal fish",
          "Demersal fish",
          "Demersal fish",
          "Demersal fish",
          "Demersal fish",
          "Demersal fish",
          "Demersal fish",
          "Demersal fish",
          "Demersal fish",
          "Sea otters",
          "Sea otters",
          "Sea otters",
          "Sea otters",
          "Sea otters",
          "Sea otters",
          "Sea otters",
          "Sea otters",
          "Sea otters",
          "Sea otters",
          "Sea otters",
          "Sea otters",
          "Sea otters",
          "Sea otters",
          "Sea otters",
          "Sea otters",
          "Sea otters",
          "Sea otters",
          "Sea otters",
          "Sea otters",
          "Sea otters",
          "Small pelagics",
          "Small pelagics",
          "Small pelagics",
          "Small pelagics",
          "Small pelagics",
          "Small pelagics",
          "Small pelagics",
          "Small pelagics",
          "Small pelagics",
          "Small pelagics",
          "Small pelagics",
          "Small pelagics",
          "Small pelagics",
          "Small pelagics",
          "Small pelagics",
          "Small pelagics",
          "Small pelagics",
          "Small pelagics",
          "Small pelagics",
          "Small pelagics",
          "Small pelagics",
          "Res. mammals",
          "Res. mammals",
          "Res. mammals",
          "Res. mammals",
          "Res. mammals",
          "Res. mammals",
          "Res. mammals",
          "Res. mammals",
          "Res. mammals",
          "Res. mammals",
          "Res. mammals",
          "Res. mammals",
          "Res. mammals",
          "Res. mammals",
          "Res. mammals",
          "Res. mammals",
          "Res. mammals",
          "Res. mammals",
          "Res. mammals",
          "Res. mammals",
          "Res. mammals",
          "Trans. mammals",
          "Trans. mammals",
          "Trans. mammals",
          "Trans. mammals",
          "Trans. mammals",
          "Trans. mammals",
          "Trans. mammals",
          "Trans. mammals",
          "Trans. mammals",
          "Trans. mammals",
          "Trans. mammals",
          "Trans. mammals",
          "Trans. mammals",
          "Trans. mammals",
          "Trans. mammals",
          "Trans. mammals",
          "Trans. mammals",
          "Trans. mammals",
          "Trans. mammals",
          "Trans. mammals",
          "Trans. mammals",
          "Import",
          "Import",
          "Import",
          "Import",
          "Import",
          "Import",
          "Import",
          "Import",
          "Import",
          "Import",
          "Import",
          "Import",
          "Import",
          "Import",
          "Import",
          "Import",
          "Import",
          "Import",
          "Import",
          "Import",
          "Import",
          "Mesozooplankton",
          "Mesozooplankton",
          "Mesozooplankton",
          "Mesozooplankton",
          "Mesozooplankton",
          "Mesozooplankton",
          "Mesozooplankton",
          "Mesozooplankton",
          "Mesozooplankton",
          "Mesozooplankton",
          "Mesozooplankton",
          "Mesozooplankton",
          "Mesozooplankton",
          "Mesozooplankton",
          "Mesozooplankton",
          "Mesozooplankton",
          "Mesozooplankton",
          "Mesozooplankton",
          "Mesozooplankton",
          "Mesozooplankton",
          "Mesozooplankton",
          "Birds",
          "Birds",
          "Birds",
          "Birds",
          "Birds",
          "Birds",
          "Birds",
          "Birds",
          "Birds",
          "Birds",
          "Birds",
          "Birds",
          "Birds",
          "Birds",
          "Birds",
          "Birds",
          "Birds",
          "Birds",
          "Birds",
          "Birds",
          "Birds",
          "Macrozooplankton",
          "Macrozooplankton",
          "Macrozooplankton",
          "Macrozooplankton",
          "Macrozooplankton",
          "Macrozooplankton",
          "Macrozooplankton",
          "Macrozooplankton",
          "Macrozooplankton",
          "Macrozooplankton",
          "Macrozooplankton",
          "Macrozooplankton",
          "Macrozooplankton",
          "Macrozooplankton",
          "Macrozooplankton",
          "Macrozooplankton",
          "Macrozooplankton",
          "Macrozooplankton",
          "Macrozooplankton",
          "Macrozooplankton",
          "Macrozooplankton"
         ],
         "ygap": 0.2,
         "z": [
          4.177150517259426,
          4.177150517259426,
          4.177150517259426,
          4.177150517259426,
          4.177150517259426,
          4.177150517259426,
          4.177150517259426,
          4.177150517259426,
          4.177150517259426,
          4.177150517259426,
          4.177150517259426,
          4.177150517259426,
          4.177150517259426,
          4.177150517259426,
          4.177150517259426,
          4.177150517259426,
          4.177150517259426,
          4.177150517259426,
          4.177150517259426,
          4.177150517259426,
          4.177150517259426,
          1,
          1,
          1,
          1,
          1,
          1,
          1,
          1,
          1,
          1,
          1,
          1,
          1,
          1,
          1,
          1,
          1,
          1,
          1,
          1,
          1,
          1,
          1,
          1,
          1,
          1,
          1,
          1,
          1,
          1,
          1,
          1,
          1,
          1,
          1,
          1,
          1,
          1,
          1,
          1,
          1,
          1,
          1,
          1,
          1,
          1,
          1,
          1,
          1,
          1,
          1,
          1,
          1,
          1,
          1,
          1,
          1,
          1,
          1,
          1,
          1,
          1,
          1,
          4.326418821947057,
          4.326418821947057,
          4.326418821947057,
          4.326418821947057,
          4.326418821947057,
          4.326418821947057,
          4.326418821947057,
          4.326418821947057,
          4.326418821947057,
          4.326418821947057,
          4.326418821947057,
          4.326418821947057,
          4.326418821947057,
          4.326418821947057,
          4.326418821947057,
          4.326418821947057,
          4.326418821947057,
          4.326418821947057,
          4.326418821947057,
          4.326418821947057,
          4.326418821947057,
          2.26,
          2.26,
          2.26,
          2.26,
          2.26,
          2.26,
          2.26,
          2.26,
          2.26,
          2.26,
          2.26,
          2.26,
          2.26,
          2.26,
          2.26,
          2.26,
          2.26,
          2.26,
          2.26,
          2.26,
          2.26,
          2.660000000000007,
          2.660000000000007,
          2.660000000000007,
          2.660000000000007,
          2.660000000000007,
          2.660000000000007,
          2.660000000000007,
          2.660000000000007,
          2.660000000000007,
          2.660000000000007,
          2.660000000000007,
          2.660000000000007,
          2.660000000000007,
          2.660000000000007,
          2.660000000000007,
          2.660000000000007,
          2.660000000000007,
          2.660000000000007,
          2.660000000000007,
          2.660000000000007,
          2.660000000000007,
          3.3000000000000016,
          3.3000000000000016,
          3.3000000000000016,
          3.3000000000000016,
          3.3000000000000016,
          3.3000000000000016,
          3.3000000000000016,
          3.3000000000000016,
          3.3000000000000016,
          3.3000000000000016,
          3.3000000000000016,
          3.3000000000000016,
          3.3000000000000016,
          3.3000000000000016,
          3.3000000000000016,
          3.3000000000000016,
          3.3000000000000016,
          3.3000000000000016,
          3.3000000000000016,
          3.3000000000000016,
          3.3000000000000016,
          2.2799999999999705,
          2.2799999999999705,
          2.2799999999999705,
          2.2799999999999705,
          2.2799999999999705,
          2.2799999999999705,
          2.2799999999999705,
          2.2799999999999705,
          2.2799999999999705,
          2.2799999999999705,
          2.2799999999999705,
          2.2799999999999705,
          2.2799999999999705,
          2.2799999999999705,
          2.2799999999999705,
          2.2799999999999705,
          2.2799999999999705,
          2.2799999999999705,
          2.2799999999999705,
          2.2799999999999705,
          2.2799999999999705,
          3.1874999999999876,
          3.1874999999999876,
          3.1874999999999876,
          3.1874999999999876,
          3.1874999999999876,
          3.1874999999999876,
          3.1874999999999876,
          3.1874999999999876,
          3.1874999999999876,
          3.1874999999999876,
          3.1874999999999876,
          3.1874999999999876,
          3.1874999999999876,
          3.1874999999999876,
          3.1874999999999876,
          3.1874999999999876,
          3.1874999999999876,
          3.1874999999999876,
          3.1874999999999876,
          3.1874999999999876,
          3.1874999999999876,
          3.1875000000000453,
          3.1875000000000453,
          3.1875000000000453,
          3.1875000000000453,
          3.1875000000000453,
          3.1875000000000453,
          3.1875000000000453,
          3.1875000000000453,
          3.1875000000000453,
          3.1875000000000453,
          3.1875000000000453,
          3.1875000000000453,
          3.1875000000000453,
          3.1875000000000453,
          3.1875000000000453,
          3.1875000000000453,
          3.1875000000000453,
          3.1875000000000453,
          3.1875000000000453,
          3.1875000000000453,
          3.1875000000000453,
          3.502982801666579,
          3.502982801666579,
          3.502982801666579,
          3.502982801666579,
          3.502982801666579,
          3.502982801666579,
          3.502982801666579,
          3.502982801666579,
          3.502982801666579,
          3.502982801666579,
          3.502982801666579,
          3.502982801666579,
          3.502982801666579,
          3.502982801666579,
          3.502982801666579,
          3.502982801666579,
          3.502982801666579,
          3.502982801666579,
          3.502982801666579,
          3.502982801666579,
          3.502982801666579,
          3.280000000000008,
          3.280000000000008,
          3.280000000000008,
          3.280000000000008,
          3.280000000000008,
          3.280000000000008,
          3.280000000000008,
          3.280000000000008,
          3.280000000000008,
          3.280000000000008,
          3.280000000000008,
          3.280000000000008,
          3.280000000000008,
          3.280000000000008,
          3.280000000000008,
          3.280000000000008,
          3.280000000000008,
          3.280000000000008,
          3.280000000000008,
          3.280000000000008,
          3.280000000000008,
          3.2525300064099336,
          3.2525300064099336,
          3.2525300064099336,
          3.2525300064099336,
          3.2525300064099336,
          3.2525300064099336,
          3.2525300064099336,
          3.2525300064099336,
          3.2525300064099336,
          3.2525300064099336,
          3.2525300064099336,
          3.2525300064099336,
          3.2525300064099336,
          3.2525300064099336,
          3.2525300064099336,
          3.2525300064099336,
          3.2525300064099336,
          3.2525300064099336,
          3.2525300064099336,
          3.2525300064099336,
          3.2525300064099336,
          4.35092996233815,
          4.35092996233815,
          4.35092996233815,
          4.35092996233815,
          4.35092996233815,
          4.35092996233815,
          4.35092996233815,
          4.35092996233815,
          4.35092996233815,
          4.35092996233815,
          4.35092996233815,
          4.35092996233815,
          4.35092996233815,
          4.35092996233815,
          4.35092996233815,
          4.35092996233815,
          4.35092996233815,
          4.35092996233815,
          4.35092996233815,
          4.35092996233815,
          4.35092996233815,
          3.908108577373611,
          3.908108577373611,
          3.908108577373611,
          3.908108577373611,
          3.908108577373611,
          3.908108577373611,
          3.908108577373611,
          3.908108577373611,
          3.908108577373611,
          3.908108577373611,
          3.908108577373611,
          3.908108577373611,
          3.908108577373611,
          3.908108577373611,
          3.908108577373611,
          3.908108577373611,
          3.908108577373611,
          3.908108577373611,
          3.908108577373611,
          3.908108577373611,
          3.908108577373611,
          0,
          0,
          0,
          0,
          0,
          0,
          0,
          0,
          0,
          0,
          0,
          0,
          0,
          0,
          0,
          0,
          0,
          0,
          0,
          0,
          0,
          1.9999999999999947,
          1.9999999999999947,
          1.9999999999999947,
          1.9999999999999947,
          1.9999999999999947,
          1.9999999999999947,
          1.9999999999999947,
          1.9999999999999947,
          1.9999999999999947,
          1.9999999999999947,
          1.9999999999999947,
          1.9999999999999947,
          1.9999999999999947,
          1.9999999999999947,
          1.9999999999999947,
          1.9999999999999947,
          1.9999999999999947,
          1.9999999999999947,
          1.9999999999999947,
          1.9999999999999947,
          1.9999999999999947,
          3.973726933968808,
          3.973726933968808,
          3.973726933968808,
          3.973726933968808,
          3.973726933968808,
          3.973726933968808,
          3.973726933968808,
          3.973726933968808,
          3.973726933968808,
          3.973726933968808,
          3.973726933968808,
          3.973726933968808,
          3.973726933968808,
          3.973726933968808,
          3.973726933968808,
          3.973726933968808,
          3.973726933968808,
          3.973726933968808,
          3.973726933968808,
          3.973726933968808,
          3.973726933968808,
          2.7499999999999973,
          2.7499999999999973,
          2.7499999999999973,
          2.7499999999999973,
          2.7499999999999973,
          2.7499999999999973,
          2.7499999999999973,
          2.7499999999999973,
          2.7499999999999973,
          2.7499999999999973,
          2.7499999999999973,
          2.7499999999999973,
          2.7499999999999973,
          2.7499999999999973,
          2.7499999999999973,
          2.7499999999999973,
          2.7499999999999973,
          2.7499999999999973,
          2.7499999999999973,
          2.7499999999999973,
          2.7499999999999973
         ],
         "zmax": 7.35092996233815,
         "zmin": 0
        },
        {
         "colorscale": [
          [
           0,
           "rgb(211, 242, 163)"
          ],
          [
           0.16666666666666666,
           "rgb(151, 225, 150)"
          ],
          [
           0.3333333333333333,
           "rgb(108, 192, 139)"
          ],
          [
           0.5,
           "rgb(76, 155, 130)"
          ],
          [
           0.6666666666666666,
           "rgb(33, 122, 121)"
          ],
          [
           0.8333333333333334,
           "rgb(16, 89, 101)"
          ],
          [
           1,
           "rgb(7, 64, 80)"
          ]
         ],
         "hoverongaps": false,
         "hovertemplate": "%{y} --> %{x}: %{z:.3f}<extra></extra>",
         "showlegend": false,
         "showscale": true,
         "type": "heatmap",
         "x": [
          "Inf. zoobenthos",
          "Intertidal inv.",
          "Macrozooplankton",
          "Epi. zoobenthos",
          "Wild salmon fry",
          "Hatch. salmon fry",
          "Herring",
          "Small pelagics",
          "Demersal fish",
          "Trans. mammals",
          "✗ Detritus",
          "Respiration",
          "Inf. zoobenthos",
          "Epi. zoobenthos",
          "Small pelagics",
          "Sea otters",
          "Demersal fish",
          "✗ Detritus",
          "Export",
          "Respiration",
          "Intertidal inv.",
          "Demersal fish",
          "Birds",
          "Pinnipeds",
          "✗ Detritus",
          "Respiration",
          "Wild salmon fry",
          "Hatch. salmon fry",
          "Herring",
          "Small pelagics",
          "Demersal fish",
          "Birds",
          "Salmon",
          "Trans. mammals",
          "Res. mammals",
          "✗ Detritus",
          "Respiration",
          "Epi. zoobenthos",
          "Demersal fish",
          "✗ Detritus",
          "Export",
          "Respiration",
          "Demersal fish",
          "✗ Detritus",
          "Respiration",
          "Demersal fish",
          "✗ Detritus",
          "Respiration",
          "Demersal fish",
          "Trans. mammals",
          "Res. mammals",
          "Pinnipeds",
          "✗ Detritus",
          "Export",
          "Respiration",
          "Demersal fish",
          "Birds",
          "Salmon",
          "Trans. mammals",
          "Res. mammals",
          "Pinnipeds",
          "✗ Detritus",
          "Respiration",
          "Res. mammals",
          "✗ Detritus",
          "Respiration",
          "Demersal fish",
          "Birds",
          "Trans. mammals",
          "Res. mammals",
          "Pinnipeds",
          "✗ Detritus",
          "Export",
          "Respiration",
          "✗ Detritus",
          "Respiration",
          "Trans. mammals",
          "Res. mammals",
          "Pinnipeds",
          "✗ Detritus",
          "Export",
          "Respiration",
          "✗ Detritus",
          "Respiration",
          "Trans. mammals",
          "✗ Detritus",
          "Respiration",
          "Trans. mammals",
          "✗ Detritus",
          "Respiration",
          "Mesozooplankton",
          "Intertidal inv.",
          "Macrozooplankton",
          "✗ Detritus",
          "Respiration",
          "Epi. zoobenthos",
          "Birds",
          "✗ Detritus",
          "Respiration",
          "Mesozooplankton",
          "Inf. zoobenthos",
          "Intertidal inv.",
          "Epi. zoobenthos",
          "Export",
          "Phytoplankton PrimProd",
          "Macroalgae PrimProd"
         ],
         "xgap": 0.2,
         "y": [
          "Mesozooplankton",
          "Mesozooplankton",
          "Mesozooplankton",
          "Mesozooplankton",
          "Mesozooplankton",
          "Mesozooplankton",
          "Mesozooplankton",
          "Mesozooplankton",
          "Mesozooplankton",
          "Mesozooplankton",
          "Mesozooplankton",
          "Mesozooplankton",
          "Inf. zoobenthos",
          "Inf. zoobenthos",
          "Inf. zoobenthos",
          "Inf. zoobenthos",
          "Inf. zoobenthos",
          "Inf. zoobenthos",
          "Inf. zoobenthos",
          "Inf. zoobenthos",
          "Intertidal inv.",
          "Intertidal inv.",
          "Intertidal inv.",
          "Intertidal inv.",
          "Intertidal inv.",
          "Intertidal inv.",
          "Macrozooplankton",
          "Macrozooplankton",
          "Macrozooplankton",
          "Macrozooplankton",
          "Macrozooplankton",
          "Macrozooplankton",
          "Macrozooplankton",
          "Macrozooplankton",
          "Macrozooplankton",
          "Macrozooplankton",
          "Macrozooplankton",
          "Epi. zoobenthos",
          "Epi. zoobenthos",
          "Epi. zoobenthos",
          "Epi. zoobenthos",
          "Epi. zoobenthos",
          "Wild salmon fry",
          "Wild salmon fry",
          "Wild salmon fry",
          "Hatch. salmon fry",
          "Hatch. salmon fry",
          "Hatch. salmon fry",
          "Herring",
          "Herring",
          "Herring",
          "Herring",
          "Herring",
          "Herring",
          "Herring",
          "Small pelagics",
          "Small pelagics",
          "Small pelagics",
          "Small pelagics",
          "Small pelagics",
          "Small pelagics",
          "Small pelagics",
          "Small pelagics",
          "Sea otters",
          "Sea otters",
          "Sea otters",
          "Demersal fish",
          "Demersal fish",
          "Demersal fish",
          "Demersal fish",
          "Demersal fish",
          "Demersal fish",
          "Demersal fish",
          "Demersal fish",
          "Birds",
          "Birds",
          "Salmon",
          "Salmon",
          "Salmon",
          "Salmon",
          "Salmon",
          "Salmon",
          "Trans. mammals",
          "Trans. mammals",
          "Res. mammals",
          "Res. mammals",
          "Res. mammals",
          "Pinnipeds",
          "Pinnipeds",
          "Pinnipeds",
          "Phytoplankton PrimProd",
          "Phytoplankton PrimProd",
          "Phytoplankton PrimProd",
          "Phytoplankton PrimProd",
          "Phytoplankton PrimProd",
          "Macroalgae PrimProd",
          "Macroalgae PrimProd",
          "Macroalgae PrimProd",
          "Macroalgae PrimProd",
          "✗ Detritus",
          "✗ Detritus",
          "✗ Detritus",
          "✗ Detritus",
          "✗ Detritus",
          "Import",
          "Import"
         ],
         "ygap": 0.2,
         "z": [
          0.29,
          0.36,
          0.75,
          0.1,
          0.7499999999999999,
          0.75,
          0.6000000000000001,
          0.6,
          0.09999999999999999,
          0.13700000000000004,
          0.31890747557332527,
          0.38310611765582886,
          0.01,
          0.5,
          0.10099998636184988,
          1,
          0.13,
          0.18877982673883673,
          7.2161026095963695e-06,
          0.35884346133104567,
          0.1,
          0.024999999999999998,
          0.21600000000000003,
          0.06999999999999999,
          0.002886257909338208,
          0.003354581571094719,
          0.25,
          0.25,
          0.4,
          0.2990000136381501,
          0.265,
          0.187,
          0.149999976496989,
          0.4590000000000001,
          0.01,
          0.03447829468194798,
          0.05811382497361205,
          0.08,
          0.030000000000000002,
          0.0004892108917762366,
          0.00034396755772409356,
          0.0006988711606447332,
          0.005,
          2.916899047771913e-05,
          1.724778005726768e-05,
          0.005,
          3.902665965295591e-05,
          1.0362104728412672e-05,
          0.08,
          0.067,
          0.29600000000000004,
          0.051,
          0.0051037548956323845,
          0.0027324975215004916,
          0.0099731710108646,
          0.26,
          0.459,
          0.8500000235030108,
          0.138,
          0.487,
          0.362,
          0.005749634235134389,
          0.009956780690170145,
          0.0010000000000000002,
          5.612256300966142e-05,
          0.00011102465629893215,
          0.09999999999999999,
          0.136,
          0.193,
          0.15000000000000002,
          0.5,
          0.001447237097115889,
          8.899859885168855e-05,
          0.002014612285489184,
          7.537605612093986e-05,
          0.00015485370885901664,
          0.0010000000000000002,
          0.056,
          0.016999999999999998,
          8.853223838653188e-05,
          0.0033675145511449724,
          2.6702543135380167e-12,
          3.010187104346713e-05,
          5.9708684801750026e-05,
          0.0010000000000000002,
          4.202470890607542e-05,
          8.631058206770388e-05,
          0.004000000000000001,
          0.00030529123406664726,
          0.0006241457559511617,
          0.7999999999999999,
          0.23,
          0.25,
          0.1367616781216545,
          0.14133612495005288,
          0.199,
          0.002,
          0.30473098553357447,
          0.03153880109576232,
          0.19999999999999998,
          0.7,
          0.31000000000000005,
          0.121,
          0.9934598056681692,
          1,
          1
         ],
         "zmax": 1,
         "zmin": 2.6702543135380167e-12
        }
       ],
       "layout": {
        "autosize": true,
        "height": 900,
        "legend": {
         "orientation": "h",
         "x": 1,
         "xanchor": "right",
         "y": 1,
         "yanchor": "bottom"
        },
        "template": {
         "data": {
          "bar": [
           {
            "error_x": {
             "color": "#2a3f5f"
            },
            "error_y": {
             "color": "#2a3f5f"
            },
            "marker": {
             "line": {
              "color": "#E5ECF6",
              "width": 0.5
             }
            },
            "type": "bar"
           }
          ],
          "barpolar": [
           {
            "marker": {
             "line": {
              "color": "#E5ECF6",
              "width": 0.5
             }
            },
            "type": "barpolar"
           }
          ],
          "carpet": [
           {
            "aaxis": {
             "endlinecolor": "#2a3f5f",
             "gridcolor": "white",
             "linecolor": "white",
             "minorgridcolor": "white",
             "startlinecolor": "#2a3f5f"
            },
            "baxis": {
             "endlinecolor": "#2a3f5f",
             "gridcolor": "white",
             "linecolor": "white",
             "minorgridcolor": "white",
             "startlinecolor": "#2a3f5f"
            },
            "type": "carpet"
           }
          ],
          "choropleth": [
           {
            "colorbar": {
             "outlinewidth": 0,
             "ticks": ""
            },
            "type": "choropleth"
           }
          ],
          "contour": [
           {
            "colorbar": {
             "outlinewidth": 0,
             "ticks": ""
            },
            "colorscale": [
             [
              0,
              "#0d0887"
             ],
             [
              0.1111111111111111,
              "#46039f"
             ],
             [
              0.2222222222222222,
              "#7201a8"
             ],
             [
              0.3333333333333333,
              "#9c179e"
             ],
             [
              0.4444444444444444,
              "#bd3786"
             ],
             [
              0.5555555555555556,
              "#d8576b"
             ],
             [
              0.6666666666666666,
              "#ed7953"
             ],
             [
              0.7777777777777778,
              "#fb9f3a"
             ],
             [
              0.8888888888888888,
              "#fdca26"
             ],
             [
              1,
              "#f0f921"
             ]
            ],
            "type": "contour"
           }
          ],
          "contourcarpet": [
           {
            "colorbar": {
             "outlinewidth": 0,
             "ticks": ""
            },
            "type": "contourcarpet"
           }
          ],
          "heatmap": [
           {
            "colorbar": {
             "outlinewidth": 0,
             "ticks": ""
            },
            "colorscale": [
             [
              0,
              "#0d0887"
             ],
             [
              0.1111111111111111,
              "#46039f"
             ],
             [
              0.2222222222222222,
              "#7201a8"
             ],
             [
              0.3333333333333333,
              "#9c179e"
             ],
             [
              0.4444444444444444,
              "#bd3786"
             ],
             [
              0.5555555555555556,
              "#d8576b"
             ],
             [
              0.6666666666666666,
              "#ed7953"
             ],
             [
              0.7777777777777778,
              "#fb9f3a"
             ],
             [
              0.8888888888888888,
              "#fdca26"
             ],
             [
              1,
              "#f0f921"
             ]
            ],
            "type": "heatmap"
           }
          ],
          "heatmapgl": [
           {
            "colorbar": {
             "outlinewidth": 0,
             "ticks": ""
            },
            "colorscale": [
             [
              0,
              "#0d0887"
             ],
             [
              0.1111111111111111,
              "#46039f"
             ],
             [
              0.2222222222222222,
              "#7201a8"
             ],
             [
              0.3333333333333333,
              "#9c179e"
             ],
             [
              0.4444444444444444,
              "#bd3786"
             ],
             [
              0.5555555555555556,
              "#d8576b"
             ],
             [
              0.6666666666666666,
              "#ed7953"
             ],
             [
              0.7777777777777778,
              "#fb9f3a"
             ],
             [
              0.8888888888888888,
              "#fdca26"
             ],
             [
              1,
              "#f0f921"
             ]
            ],
            "type": "heatmapgl"
           }
          ],
          "histogram": [
           {
            "marker": {
             "colorbar": {
              "outlinewidth": 0,
              "ticks": ""
             }
            },
            "type": "histogram"
           }
          ],
          "histogram2d": [
           {
            "colorbar": {
             "outlinewidth": 0,
             "ticks": ""
            },
            "colorscale": [
             [
              0,
              "#0d0887"
             ],
             [
              0.1111111111111111,
              "#46039f"
             ],
             [
              0.2222222222222222,
              "#7201a8"
             ],
             [
              0.3333333333333333,
              "#9c179e"
             ],
             [
              0.4444444444444444,
              "#bd3786"
             ],
             [
              0.5555555555555556,
              "#d8576b"
             ],
             [
              0.6666666666666666,
              "#ed7953"
             ],
             [
              0.7777777777777778,
              "#fb9f3a"
             ],
             [
              0.8888888888888888,
              "#fdca26"
             ],
             [
              1,
              "#f0f921"
             ]
            ],
            "type": "histogram2d"
           }
          ],
          "histogram2dcontour": [
           {
            "colorbar": {
             "outlinewidth": 0,
             "ticks": ""
            },
            "colorscale": [
             [
              0,
              "#0d0887"
             ],
             [
              0.1111111111111111,
              "#46039f"
             ],
             [
              0.2222222222222222,
              "#7201a8"
             ],
             [
              0.3333333333333333,
              "#9c179e"
             ],
             [
              0.4444444444444444,
              "#bd3786"
             ],
             [
              0.5555555555555556,
              "#d8576b"
             ],
             [
              0.6666666666666666,
              "#ed7953"
             ],
             [
              0.7777777777777778,
              "#fb9f3a"
             ],
             [
              0.8888888888888888,
              "#fdca26"
             ],
             [
              1,
              "#f0f921"
             ]
            ],
            "type": "histogram2dcontour"
           }
          ],
          "mesh3d": [
           {
            "colorbar": {
             "outlinewidth": 0,
             "ticks": ""
            },
            "type": "mesh3d"
           }
          ],
          "parcoords": [
           {
            "line": {
             "colorbar": {
              "outlinewidth": 0,
              "ticks": ""
             }
            },
            "type": "parcoords"
           }
          ],
          "pie": [
           {
            "automargin": true,
            "type": "pie"
           }
          ],
          "scatter": [
           {
            "marker": {
             "colorbar": {
              "outlinewidth": 0,
              "ticks": ""
             }
            },
            "type": "scatter"
           }
          ],
          "scatter3d": [
           {
            "line": {
             "colorbar": {
              "outlinewidth": 0,
              "ticks": ""
             }
            },
            "marker": {
             "colorbar": {
              "outlinewidth": 0,
              "ticks": ""
             }
            },
            "type": "scatter3d"
           }
          ],
          "scattercarpet": [
           {
            "marker": {
             "colorbar": {
              "outlinewidth": 0,
              "ticks": ""
             }
            },
            "type": "scattercarpet"
           }
          ],
          "scattergeo": [
           {
            "marker": {
             "colorbar": {
              "outlinewidth": 0,
              "ticks": ""
             }
            },
            "type": "scattergeo"
           }
          ],
          "scattergl": [
           {
            "marker": {
             "colorbar": {
              "outlinewidth": 0,
              "ticks": ""
             }
            },
            "type": "scattergl"
           }
          ],
          "scattermapbox": [
           {
            "marker": {
             "colorbar": {
              "outlinewidth": 0,
              "ticks": ""
             }
            },
            "type": "scattermapbox"
           }
          ],
          "scatterpolar": [
           {
            "marker": {
             "colorbar": {
              "outlinewidth": 0,
              "ticks": ""
             }
            },
            "type": "scatterpolar"
           }
          ],
          "scatterpolargl": [
           {
            "marker": {
             "colorbar": {
              "outlinewidth": 0,
              "ticks": ""
             }
            },
            "type": "scatterpolargl"
           }
          ],
          "scatterternary": [
           {
            "marker": {
             "colorbar": {
              "outlinewidth": 0,
              "ticks": ""
             }
            },
            "type": "scatterternary"
           }
          ],
          "surface": [
           {
            "colorbar": {
             "outlinewidth": 0,
             "ticks": ""
            },
            "colorscale": [
             [
              0,
              "#0d0887"
             ],
             [
              0.1111111111111111,
              "#46039f"
             ],
             [
              0.2222222222222222,
              "#7201a8"
             ],
             [
              0.3333333333333333,
              "#9c179e"
             ],
             [
              0.4444444444444444,
              "#bd3786"
             ],
             [
              0.5555555555555556,
              "#d8576b"
             ],
             [
              0.6666666666666666,
              "#ed7953"
             ],
             [
              0.7777777777777778,
              "#fb9f3a"
             ],
             [
              0.8888888888888888,
              "#fdca26"
             ],
             [
              1,
              "#f0f921"
             ]
            ],
            "type": "surface"
           }
          ],
          "table": [
           {
            "cells": {
             "fill": {
              "color": "#EBF0F8"
             },
             "line": {
              "color": "white"
             }
            },
            "header": {
             "fill": {
              "color": "#C8D4E3"
             },
             "line": {
              "color": "white"
             }
            },
            "type": "table"
           }
          ]
         },
         "layout": {
          "annotationdefaults": {
           "arrowcolor": "#2a3f5f",
           "arrowhead": 0,
           "arrowwidth": 1
          },
          "coloraxis": {
           "colorbar": {
            "outlinewidth": 0,
            "ticks": ""
           }
          },
          "colorscale": {
           "diverging": [
            [
             0,
             "#8e0152"
            ],
            [
             0.1,
             "#c51b7d"
            ],
            [
             0.2,
             "#de77ae"
            ],
            [
             0.3,
             "#f1b6da"
            ],
            [
             0.4,
             "#fde0ef"
            ],
            [
             0.5,
             "#f7f7f7"
            ],
            [
             0.6,
             "#e6f5d0"
            ],
            [
             0.7,
             "#b8e186"
            ],
            [
             0.8,
             "#7fbc41"
            ],
            [
             0.9,
             "#4d9221"
            ],
            [
             1,
             "#276419"
            ]
           ],
           "sequential": [
            [
             0,
             "#0d0887"
            ],
            [
             0.1111111111111111,
             "#46039f"
            ],
            [
             0.2222222222222222,
             "#7201a8"
            ],
            [
             0.3333333333333333,
             "#9c179e"
            ],
            [
             0.4444444444444444,
             "#bd3786"
            ],
            [
             0.5555555555555556,
             "#d8576b"
            ],
            [
             0.6666666666666666,
             "#ed7953"
            ],
            [
             0.7777777777777778,
             "#fb9f3a"
            ],
            [
             0.8888888888888888,
             "#fdca26"
            ],
            [
             1,
             "#f0f921"
            ]
           ],
           "sequentialminus": [
            [
             0,
             "#0d0887"
            ],
            [
             0.1111111111111111,
             "#46039f"
            ],
            [
             0.2222222222222222,
             "#7201a8"
            ],
            [
             0.3333333333333333,
             "#9c179e"
            ],
            [
             0.4444444444444444,
             "#bd3786"
            ],
            [
             0.5555555555555556,
             "#d8576b"
            ],
            [
             0.6666666666666666,
             "#ed7953"
            ],
            [
             0.7777777777777778,
             "#fb9f3a"
            ],
            [
             0.8888888888888888,
             "#fdca26"
            ],
            [
             1,
             "#f0f921"
            ]
           ]
          },
          "colorway": [
           "#636efa",
           "#EF553B",
           "#00cc96",
           "#ab63fa",
           "#FFA15A",
           "#19d3f3",
           "#FF6692",
           "#B6E880",
           "#FF97FF",
           "#FECB52"
          ],
          "font": {
           "color": "#2a3f5f"
          },
          "geo": {
           "bgcolor": "white",
           "lakecolor": "white",
           "landcolor": "#E5ECF6",
           "showlakes": true,
           "showland": true,
           "subunitcolor": "white"
          },
          "hoverlabel": {
           "align": "left"
          },
          "hovermode": "closest",
          "mapbox": {
           "style": "light"
          },
          "paper_bgcolor": "white",
          "plot_bgcolor": "#E5ECF6",
          "polar": {
           "angularaxis": {
            "gridcolor": "white",
            "linecolor": "white",
            "ticks": ""
           },
           "bgcolor": "#E5ECF6",
           "radialaxis": {
            "gridcolor": "white",
            "linecolor": "white",
            "ticks": ""
           }
          },
          "scene": {
           "xaxis": {
            "backgroundcolor": "#E5ECF6",
            "gridcolor": "white",
            "gridwidth": 2,
            "linecolor": "white",
            "showbackground": true,
            "ticks": "",
            "zerolinecolor": "white"
           },
           "yaxis": {
            "backgroundcolor": "#E5ECF6",
            "gridcolor": "white",
            "gridwidth": 2,
            "linecolor": "white",
            "showbackground": true,
            "ticks": "",
            "zerolinecolor": "white"
           },
           "zaxis": {
            "backgroundcolor": "#E5ECF6",
            "gridcolor": "white",
            "gridwidth": 2,
            "linecolor": "white",
            "showbackground": true,
            "ticks": "",
            "zerolinecolor": "white"
           }
          },
          "shapedefaults": {
           "line": {
            "color": "#2a3f5f"
           }
          },
          "ternary": {
           "aaxis": {
            "gridcolor": "white",
            "linecolor": "white",
            "ticks": ""
           },
           "baxis": {
            "gridcolor": "white",
            "linecolor": "white",
            "ticks": ""
           },
           "bgcolor": "#E5ECF6",
           "caxis": {
            "gridcolor": "white",
            "linecolor": "white",
            "ticks": ""
           }
          },
          "title": {
           "x": 0.05
          },
          "xaxis": {
           "automargin": true,
           "gridcolor": "white",
           "linecolor": "white",
           "ticks": "",
           "title": {
            "standoff": 15
           },
           "zerolinecolor": "white",
           "zerolinewidth": 2
          },
          "yaxis": {
           "automargin": true,
           "gridcolor": "white",
           "linecolor": "white",
           "ticks": "",
           "title": {
            "standoff": 15
           },
           "zerolinecolor": "white",
           "zerolinewidth": 2
          }
         }
        },
        "title": {
         "text": "Alaska, Prince William Sound _ 2 ,   bay/fjord ,  WetWeight ,  BOX(-148.917602345144 59.8326977714434,-145.354763425498 61.3886291588734) ,  Dalsgaard J.,Pauly D.,Okey T.A.(1997). Preliminary mass-balance model of Prince William Sound, Alaska, for the pre-spill period, 1980-1989 Fisheries Centre Research Reports"
        },
        "width": 1200,
        "xaxis": {
         "autorange": true,
         "categoryarray": [
          "Res. mammals",
          "Pinnipeds",
          "Salmon",
          "Birds",
          "Trans. mammals",
          "Demersal fish",
          "Herring",
          "Sea otters",
          "Small pelagics",
          "Wild salmon fry",
          "Hatch. salmon fry",
          "Macrozooplankton",
          "Epi. zoobenthos",
          "Inf. zoobenthos",
          "Intertidal inv.",
          "Mesozooplankton",
          "Phytoplankton PrimProd",
          "Macroalgae PrimProd",
          "✗ Detritus",
          "Export",
          "Respiration"
         ],
         "range": [
          -0.5,
          20.5
         ],
         "showspikes": true,
         "spikethickness": 0.5,
         "title": {
          "text": "To"
         },
         "type": "category"
        },
        "yaxis": {
         "autorange": true,
         "categoryarray": [
          "Import",
          "✗ Detritus",
          "Phytoplankton PrimProd",
          "Macroalgae PrimProd",
          "Mesozooplankton",
          "Intertidal inv.",
          "Inf. zoobenthos",
          "Epi. zoobenthos",
          "Macrozooplankton",
          "Hatch. salmon fry",
          "Wild salmon fry",
          "Small pelagics",
          "Sea otters",
          "Herring",
          "Demersal fish",
          "Trans. mammals",
          "Birds",
          "Salmon",
          "Pinnipeds",
          "Res. mammals"
         ],
         "range": [
          -0.5,
          19.5
         ],
         "showspikes": true,
         "spikemode": "across",
         "spikesnap": "cursor",
         "spikethickness": 0.5,
         "title": {
          "text": "From"
         },
         "type": "category"
        }
       }
      },
      "image/png": "[encoded data removed]",
      "text/html": [
       "<div>\n",
       "        \n",
       "        \n",
       "            <div id=\"8b4d118d-a5a8-44ab-bc50-3e3e17081792\" class=\"plotly-graph-div\" style=\"height:900px; width:1200px;\"></div>\n",
       "            <script type=\"text/javascript\">\n",
       "                require([\"plotly\"], function(Plotly) {\n",
       "                    window.PLOTLYENV=window.PLOTLYENV || {};\n",
       "                    \n",
       "                if (document.getElementById(\"8b4d118d-a5a8-44ab-bc50-3e3e17081792\")) {\n",
       "                    Plotly.newPlot(\n",
       "                        '8b4d118d-a5a8-44ab-bc50-3e3e17081792',\n",
       "                        [{\"colorscale\": [[0.0, \"rgb(209, 238, 234)\"], [0.16666666666666666, \"rgb(168, 219, 217)\"], [0.3333333333333333, \"rgb(133, 196, 201)\"], [0.5, \"rgb(104, 171, 184)\"], [0.6666666666666666, \"rgb(79, 144, 166)\"], [0.8333333333333334, \"rgb(59, 115, 143)\"], [1.0, \"rgb(42, 86, 116)\"]], \"hoverinfo\": \"skip\", \"name\": \"Trophic Layer\", \"showlegend\": true, \"showscale\": false, \"type\": \"heatmap\", \"x\": [\"\\u2717 Detritus\", \"Salmon\", \"Macroalgae PrimProd\", \"Phytoplankton PrimProd\", \"Pinnipeds\", \"Intertidal inv.\", \"Export\", \"Epi. zoobenthos\", \"Herring\", \"Inf. zoobenthos\", \"Hatch. salmon fry\", \"Wild salmon fry\", \"Respiration\", \"Demersal fish\", \"Sea otters\", \"Small pelagics\", \"Res. mammals\", \"Trans. mammals\", \"Mesozooplankton\", \"Birds\", \"Macrozooplankton\", \"\\u2717 Detritus\", \"Salmon\", \"Macroalgae PrimProd\", \"Phytoplankton PrimProd\", \"Pinnipeds\", \"Intertidal inv.\", \"Export\", \"Epi. zoobenthos\", \"Herring\", \"Inf. zoobenthos\", \"Hatch. salmon fry\", \"Wild salmon fry\", \"Respiration\", \"Demersal fish\", \"Sea otters\", \"Small pelagics\", \"Res. mammals\", \"Trans. mammals\", \"Mesozooplankton\", \"Birds\", \"Macrozooplankton\", \"\\u2717 Detritus\", \"Salmon\", \"Macroalgae PrimProd\", \"Phytoplankton PrimProd\", \"Pinnipeds\", \"Intertidal inv.\", \"Export\", \"Epi. zoobenthos\", \"Herring\", \"Inf. zoobenthos\", \"Hatch. salmon fry\", \"Wild salmon fry\", \"Respiration\", \"Demersal fish\", \"Sea otters\", \"Small pelagics\", \"Res. mammals\", \"Trans. mammals\", \"Mesozooplankton\", \"Birds\", \"Macrozooplankton\", \"\\u2717 Detritus\", \"Salmon\", \"Macroalgae PrimProd\", \"Phytoplankton PrimProd\", \"Pinnipeds\", \"Intertidal inv.\", \"Export\", \"Epi. zoobenthos\", \"Herring\", \"Inf. zoobenthos\", \"Hatch. salmon fry\", \"Wild salmon fry\", \"Respiration\", \"Demersal fish\", \"Sea otters\", \"Small pelagics\", \"Res. mammals\", \"Trans. mammals\", \"Mesozooplankton\", \"Birds\", \"Macrozooplankton\", \"\\u2717 Detritus\", \"Salmon\", \"Macroalgae PrimProd\", \"Phytoplankton PrimProd\", \"Pinnipeds\", \"Intertidal inv.\", \"Export\", \"Epi. zoobenthos\", \"Herring\", \"Inf. zoobenthos\", \"Hatch. salmon fry\", \"Wild salmon fry\", \"Respiration\", \"Demersal fish\", \"Sea otters\", \"Small pelagics\", \"Res. mammals\", \"Trans. mammals\", \"Mesozooplankton\", \"Birds\", \"Macrozooplankton\", \"\\u2717 Detritus\", \"Salmon\", \"Macroalgae PrimProd\", \"Phytoplankton PrimProd\", \"Pinnipeds\", \"Intertidal inv.\", \"Export\", \"Epi. zoobenthos\", \"Herring\", \"Inf. zoobenthos\", \"Hatch. salmon fry\", \"Wild salmon fry\", \"Respiration\", \"Demersal fish\", \"Sea otters\", \"Small pelagics\", \"Res. mammals\", \"Trans. mammals\", \"Mesozooplankton\", \"Birds\", \"Macrozooplankton\", \"\\u2717 Detritus\", \"Salmon\", \"Macroalgae PrimProd\", \"Phytoplankton PrimProd\", \"Pinnipeds\", \"Intertidal inv.\", \"Export\", \"Epi. zoobenthos\", \"Herring\", \"Inf. zoobenthos\", \"Hatch. salmon fry\", \"Wild salmon fry\", \"Respiration\", \"Demersal fish\", \"Sea otters\", \"Small pelagics\", \"Res. mammals\", \"Trans. mammals\", \"Mesozooplankton\", \"Birds\", \"Macrozooplankton\", \"\\u2717 Detritus\", \"Salmon\", \"Macroalgae PrimProd\", \"Phytoplankton PrimProd\", \"Pinnipeds\", \"Intertidal inv.\", \"Export\", \"Epi. zoobenthos\", \"Herring\", \"Inf. zoobenthos\", \"Hatch. salmon fry\", \"Wild salmon fry\", \"Respiration\", \"Demersal fish\", \"Sea otters\", \"Small pelagics\", \"Res. mammals\", \"Trans. mammals\", \"Mesozooplankton\", \"Birds\", \"Macrozooplankton\", \"\\u2717 Detritus\", \"Salmon\", \"Macroalgae PrimProd\", \"Phytoplankton PrimProd\", \"Pinnipeds\", \"Intertidal inv.\", \"Export\", \"Epi. zoobenthos\", \"Herring\", \"Inf. zoobenthos\", \"Hatch. salmon fry\", \"Wild salmon fry\", \"Respiration\", \"Demersal fish\", \"Sea otters\", \"Small pelagics\", \"Res. mammals\", \"Trans. mammals\", \"Mesozooplankton\", \"Birds\", \"Macrozooplankton\", \"\\u2717 Detritus\", \"Salmon\", \"Macroalgae PrimProd\", \"Phytoplankton PrimProd\", \"Pinnipeds\", \"Intertidal inv.\", \"Export\", \"Epi. zoobenthos\", \"Herring\", \"Inf. zoobenthos\", \"Hatch. salmon fry\", \"Wild salmon fry\", \"Respiration\", \"Demersal fish\", \"Sea otters\", \"Small pelagics\", \"Res. mammals\", \"Trans. mammals\", \"Mesozooplankton\", \"Birds\", \"Macrozooplankton\", \"\\u2717 Detritus\", \"Salmon\", \"Macroalgae PrimProd\", \"Phytoplankton PrimProd\", \"Pinnipeds\", \"Intertidal inv.\", \"Export\", \"Epi. zoobenthos\", \"Herring\", \"Inf. zoobenthos\", \"Hatch. salmon fry\", \"Wild salmon fry\", \"Respiration\", \"Demersal fish\", \"Sea otters\", \"Small pelagics\", \"Res. mammals\", \"Trans. mammals\", \"Mesozooplankton\", \"Birds\", \"Macrozooplankton\", \"\\u2717 Detritus\", \"Salmon\", \"Macroalgae PrimProd\", \"Phytoplankton PrimProd\", \"Pinnipeds\", \"Intertidal inv.\", \"Export\", \"Epi. zoobenthos\", \"Herring\", \"Inf. zoobenthos\", \"Hatch. salmon fry\", \"Wild salmon fry\", \"Respiration\", \"Demersal fish\", \"Sea otters\", \"Small pelagics\", \"Res. mammals\", \"Trans. mammals\", \"Mesozooplankton\", \"Birds\", \"Macrozooplankton\", \"\\u2717 Detritus\", \"Salmon\", \"Macroalgae PrimProd\", \"Phytoplankton PrimProd\", \"Pinnipeds\", \"Intertidal inv.\", \"Export\", \"Epi. zoobenthos\", \"Herring\", \"Inf. zoobenthos\", \"Hatch. salmon fry\", \"Wild salmon fry\", \"Respiration\", \"Demersal fish\", \"Sea otters\", \"Small pelagics\", \"Res. mammals\", \"Trans. mammals\", \"Mesozooplankton\", \"Birds\", \"Macrozooplankton\", \"\\u2717 Detritus\", \"Salmon\", \"Macroalgae PrimProd\", \"Phytoplankton PrimProd\", \"Pinnipeds\", \"Intertidal inv.\", \"Export\", \"Epi. zoobenthos\", \"Herring\", \"Inf. zoobenthos\", \"Hatch. salmon fry\", \"Wild salmon fry\", \"Respiration\", \"Demersal fish\", \"Sea otters\", \"Small pelagics\", \"Res. mammals\", \"Trans. mammals\", \"Mesozooplankton\", \"Birds\", \"Macrozooplankton\", \"\\u2717 Detritus\", \"Salmon\", \"Macroalgae PrimProd\", \"Phytoplankton PrimProd\", \"Pinnipeds\", \"Intertidal inv.\", \"Export\", \"Epi. zoobenthos\", \"Herring\", \"Inf. zoobenthos\", \"Hatch. salmon fry\", \"Wild salmon fry\", \"Respiration\", \"Demersal fish\", \"Sea otters\", \"Small pelagics\", \"Res. mammals\", \"Trans. mammals\", \"Mesozooplankton\", \"Birds\", \"Macrozooplankton\", \"\\u2717 Detritus\", \"Salmon\", \"Macroalgae PrimProd\", \"Phytoplankton PrimProd\", \"Pinnipeds\", \"Intertidal inv.\", \"Export\", \"Epi. zoobenthos\", \"Herring\", \"Inf. zoobenthos\", \"Hatch. salmon fry\", \"Wild salmon fry\", \"Respiration\", \"Demersal fish\", \"Sea otters\", \"Small pelagics\", \"Res. mammals\", \"Trans. mammals\", \"Mesozooplankton\", \"Birds\", \"Macrozooplankton\", \"\\u2717 Detritus\", \"Salmon\", \"Macroalgae PrimProd\", \"Phytoplankton PrimProd\", \"Pinnipeds\", \"Intertidal inv.\", \"Export\", \"Epi. zoobenthos\", \"Herring\", \"Inf. zoobenthos\", \"Hatch. salmon fry\", \"Wild salmon fry\", \"Respiration\", \"Demersal fish\", \"Sea otters\", \"Small pelagics\", \"Res. mammals\", \"Trans. mammals\", \"Mesozooplankton\", \"Birds\", \"Macrozooplankton\", \"\\u2717 Detritus\", \"Salmon\", \"Macroalgae PrimProd\", \"Phytoplankton PrimProd\", \"Pinnipeds\", \"Intertidal inv.\", \"Export\", \"Epi. zoobenthos\", \"Herring\", \"Inf. zoobenthos\", \"Hatch. salmon fry\", \"Wild salmon fry\", \"Respiration\", \"Demersal fish\", \"Sea otters\", \"Small pelagics\", \"Res. mammals\", \"Trans. mammals\", \"Mesozooplankton\", \"Birds\", \"Macrozooplankton\", \"\\u2717 Detritus\", \"Salmon\", \"Macroalgae PrimProd\", \"Phytoplankton PrimProd\", \"Pinnipeds\", \"Intertidal inv.\", \"Export\", \"Epi. zoobenthos\", \"Herring\", \"Inf. zoobenthos\", \"Hatch. salmon fry\", \"Wild salmon fry\", \"Respiration\", \"Demersal fish\", \"Sea otters\", \"Small pelagics\", \"Res. mammals\", \"Trans. mammals\", \"Mesozooplankton\", \"Birds\", \"Macrozooplankton\", \"\\u2717 Detritus\", \"Salmon\", \"Macroalgae PrimProd\", \"Phytoplankton PrimProd\", \"Pinnipeds\", \"Intertidal inv.\", \"Export\", \"Epi. zoobenthos\", \"Herring\", \"Inf. zoobenthos\", \"Hatch. salmon fry\", \"Wild salmon fry\", \"Respiration\", \"Demersal fish\", \"Sea otters\", \"Small pelagics\", \"Res. mammals\", \"Trans. mammals\", \"Mesozooplankton\", \"Birds\", \"Macrozooplankton\"], \"xgap\": 0.2, \"y\": [\"Salmon\", \"Salmon\", \"Salmon\", \"Salmon\", \"Salmon\", \"Salmon\", \"Salmon\", \"Salmon\", \"Salmon\", \"Salmon\", \"Salmon\", \"Salmon\", \"Salmon\", \"Salmon\", \"Salmon\", \"Salmon\", \"Salmon\", \"Salmon\", \"Salmon\", \"Salmon\", \"Salmon\", \"Macroalgae PrimProd\", \"Macroalgae PrimProd\", \"Macroalgae PrimProd\", \"Macroalgae PrimProd\", \"Macroalgae PrimProd\", \"Macroalgae PrimProd\", \"Macroalgae PrimProd\", \"Macroalgae PrimProd\", \"Macroalgae PrimProd\", \"Macroalgae PrimProd\", \"Macroalgae PrimProd\", \"Macroalgae PrimProd\", \"Macroalgae PrimProd\", \"Macroalgae PrimProd\", \"Macroalgae PrimProd\", \"Macroalgae PrimProd\", \"Macroalgae PrimProd\", \"Macroalgae PrimProd\", \"Macroalgae PrimProd\", \"Macroalgae PrimProd\", \"Macroalgae PrimProd\", \"\\u2717 Detritus\", \"\\u2717 Detritus\", \"\\u2717 Detritus\", \"\\u2717 Detritus\", \"\\u2717 Detritus\", \"\\u2717 Detritus\", \"\\u2717 Detritus\", \"\\u2717 Detritus\", \"\\u2717 Detritus\", \"\\u2717 Detritus\", \"\\u2717 Detritus\", \"\\u2717 Detritus\", \"\\u2717 Detritus\", \"\\u2717 Detritus\", \"\\u2717 Detritus\", \"\\u2717 Detritus\", \"\\u2717 Detritus\", \"\\u2717 Detritus\", \"\\u2717 Detritus\", \"\\u2717 Detritus\", \"\\u2717 Detritus\", \"Phytoplankton PrimProd\", \"Phytoplankton PrimProd\", \"Phytoplankton PrimProd\", \"Phytoplankton PrimProd\", \"Phytoplankton PrimProd\", \"Phytoplankton PrimProd\", \"Phytoplankton PrimProd\", \"Phytoplankton PrimProd\", \"Phytoplankton PrimProd\", \"Phytoplankton PrimProd\", \"Phytoplankton PrimProd\", \"Phytoplankton PrimProd\", \"Phytoplankton PrimProd\", \"Phytoplankton PrimProd\", \"Phytoplankton PrimProd\", \"Phytoplankton PrimProd\", \"Phytoplankton PrimProd\", \"Phytoplankton PrimProd\", \"Phytoplankton PrimProd\", \"Phytoplankton PrimProd\", \"Phytoplankton PrimProd\", \"Pinnipeds\", \"Pinnipeds\", \"Pinnipeds\", \"Pinnipeds\", \"Pinnipeds\", \"Pinnipeds\", \"Pinnipeds\", \"Pinnipeds\", \"Pinnipeds\", \"Pinnipeds\", \"Pinnipeds\", \"Pinnipeds\", \"Pinnipeds\", \"Pinnipeds\", \"Pinnipeds\", \"Pinnipeds\", \"Pinnipeds\", \"Pinnipeds\", \"Pinnipeds\", \"Pinnipeds\", \"Pinnipeds\", \"Intertidal inv.\", \"Intertidal inv.\", \"Intertidal inv.\", \"Intertidal inv.\", \"Intertidal inv.\", \"Intertidal inv.\", \"Intertidal inv.\", \"Intertidal inv.\", \"Intertidal inv.\", \"Intertidal inv.\", \"Intertidal inv.\", \"Intertidal inv.\", \"Intertidal inv.\", \"Intertidal inv.\", \"Intertidal inv.\", \"Intertidal inv.\", \"Intertidal inv.\", \"Intertidal inv.\", \"Intertidal inv.\", \"Intertidal inv.\", \"Intertidal inv.\", \"Epi. zoobenthos\", \"Epi. zoobenthos\", \"Epi. zoobenthos\", \"Epi. zoobenthos\", \"Epi. zoobenthos\", \"Epi. zoobenthos\", \"Epi. zoobenthos\", \"Epi. zoobenthos\", \"Epi. zoobenthos\", \"Epi. zoobenthos\", \"Epi. zoobenthos\", \"Epi. zoobenthos\", \"Epi. zoobenthos\", \"Epi. zoobenthos\", \"Epi. zoobenthos\", \"Epi. zoobenthos\", \"Epi. zoobenthos\", \"Epi. zoobenthos\", \"Epi. zoobenthos\", \"Epi. zoobenthos\", \"Epi. zoobenthos\", \"Herring\", \"Herring\", \"Herring\", \"Herring\", \"Herring\", \"Herring\", \"Herring\", \"Herring\", \"Herring\", \"Herring\", \"Herring\", \"Herring\", \"Herring\", \"Herring\", \"Herring\", \"Herring\", \"Herring\", \"Herring\", \"Herring\", \"Herring\", \"Herring\", \"Inf. zoobenthos\", \"Inf. zoobenthos\", \"Inf. zoobenthos\", \"Inf. zoobenthos\", \"Inf. zoobenthos\", \"Inf. zoobenthos\", \"Inf. zoobenthos\", \"Inf. zoobenthos\", \"Inf. zoobenthos\", \"Inf. zoobenthos\", \"Inf. zoobenthos\", \"Inf. zoobenthos\", \"Inf. zoobenthos\", \"Inf. zoobenthos\", \"Inf. zoobenthos\", \"Inf. zoobenthos\", \"Inf. zoobenthos\", \"Inf. zoobenthos\", \"Inf. zoobenthos\", \"Inf. zoobenthos\", \"Inf. zoobenthos\", \"Hatch. salmon fry\", \"Hatch. salmon fry\", \"Hatch. salmon fry\", \"Hatch. salmon fry\", \"Hatch. salmon fry\", \"Hatch. salmon fry\", \"Hatch. salmon fry\", \"Hatch. salmon fry\", \"Hatch. salmon fry\", \"Hatch. salmon fry\", \"Hatch. salmon fry\", \"Hatch. salmon fry\", \"Hatch. salmon fry\", \"Hatch. salmon fry\", \"Hatch. salmon fry\", \"Hatch. salmon fry\", \"Hatch. salmon fry\", \"Hatch. salmon fry\", \"Hatch. salmon fry\", \"Hatch. salmon fry\", \"Hatch. salmon fry\", \"Wild salmon fry\", \"Wild salmon fry\", \"Wild salmon fry\", \"Wild salmon fry\", \"Wild salmon fry\", \"Wild salmon fry\", \"Wild salmon fry\", \"Wild salmon fry\", \"Wild salmon fry\", \"Wild salmon fry\", \"Wild salmon fry\", \"Wild salmon fry\", \"Wild salmon fry\", \"Wild salmon fry\", \"Wild salmon fry\", \"Wild salmon fry\", \"Wild salmon fry\", \"Wild salmon fry\", \"Wild salmon fry\", \"Wild salmon fry\", \"Wild salmon fry\", \"Demersal fish\", \"Demersal fish\", \"Demersal fish\", \"Demersal fish\", \"Demersal fish\", \"Demersal fish\", \"Demersal fish\", \"Demersal fish\", \"Demersal fish\", \"Demersal fish\", \"Demersal fish\", \"Demersal fish\", \"Demersal fish\", \"Demersal fish\", \"Demersal fish\", \"Demersal fish\", \"Demersal fish\", \"Demersal fish\", \"Demersal fish\", \"Demersal fish\", \"Demersal fish\", \"Sea otters\", \"Sea otters\", \"Sea otters\", \"Sea otters\", \"Sea otters\", \"Sea otters\", \"Sea otters\", \"Sea otters\", \"Sea otters\", \"Sea otters\", \"Sea otters\", \"Sea otters\", \"Sea otters\", \"Sea otters\", \"Sea otters\", \"Sea otters\", \"Sea otters\", \"Sea otters\", \"Sea otters\", \"Sea otters\", \"Sea otters\", \"Small pelagics\", \"Small pelagics\", \"Small pelagics\", \"Small pelagics\", \"Small pelagics\", \"Small pelagics\", \"Small pelagics\", \"Small pelagics\", \"Small pelagics\", \"Small pelagics\", \"Small pelagics\", \"Small pelagics\", \"Small pelagics\", \"Small pelagics\", \"Small pelagics\", \"Small pelagics\", \"Small pelagics\", \"Small pelagics\", \"Small pelagics\", \"Small pelagics\", \"Small pelagics\", \"Res. mammals\", \"Res. mammals\", \"Res. mammals\", \"Res. mammals\", \"Res. mammals\", \"Res. mammals\", \"Res. mammals\", \"Res. mammals\", \"Res. mammals\", \"Res. mammals\", \"Res. mammals\", \"Res. mammals\", \"Res. mammals\", \"Res. mammals\", \"Res. mammals\", \"Res. mammals\", \"Res. mammals\", \"Res. mammals\", \"Res. mammals\", \"Res. mammals\", \"Res. mammals\", \"Trans. mammals\", \"Trans. mammals\", \"Trans. mammals\", \"Trans. mammals\", \"Trans. mammals\", \"Trans. mammals\", \"Trans. mammals\", \"Trans. mammals\", \"Trans. mammals\", \"Trans. mammals\", \"Trans. mammals\", \"Trans. mammals\", \"Trans. mammals\", \"Trans. mammals\", \"Trans. mammals\", \"Trans. mammals\", \"Trans. mammals\", \"Trans. mammals\", \"Trans. mammals\", \"Trans. mammals\", \"Trans. mammals\", \"Import\", \"Import\", \"Import\", \"Import\", \"Import\", \"Import\", \"Import\", \"Import\", \"Import\", \"Import\", \"Import\", \"Import\", \"Import\", \"Import\", \"Import\", \"Import\", \"Import\", \"Import\", \"Import\", \"Import\", \"Import\", \"Mesozooplankton\", \"Mesozooplankton\", \"Mesozooplankton\", \"Mesozooplankton\", \"Mesozooplankton\", \"Mesozooplankton\", \"Mesozooplankton\", \"Mesozooplankton\", \"Mesozooplankton\", \"Mesozooplankton\", \"Mesozooplankton\", \"Mesozooplankton\", \"Mesozooplankton\", \"Mesozooplankton\", \"Mesozooplankton\", \"Mesozooplankton\", \"Mesozooplankton\", \"Mesozooplankton\", \"Mesozooplankton\", \"Mesozooplankton\", \"Mesozooplankton\", \"Birds\", \"Birds\", \"Birds\", \"Birds\", \"Birds\", \"Birds\", \"Birds\", \"Birds\", \"Birds\", \"Birds\", \"Birds\", \"Birds\", \"Birds\", \"Birds\", \"Birds\", \"Birds\", \"Birds\", \"Birds\", \"Birds\", \"Birds\", \"Birds\", \"Macrozooplankton\", \"Macrozooplankton\", \"Macrozooplankton\", \"Macrozooplankton\", \"Macrozooplankton\", \"Macrozooplankton\", \"Macrozooplankton\", \"Macrozooplankton\", \"Macrozooplankton\", \"Macrozooplankton\", \"Macrozooplankton\", \"Macrozooplankton\", \"Macrozooplankton\", \"Macrozooplankton\", \"Macrozooplankton\", \"Macrozooplankton\", \"Macrozooplankton\", \"Macrozooplankton\", \"Macrozooplankton\", \"Macrozooplankton\", \"Macrozooplankton\"], \"ygap\": 0.2, \"z\": [4.177150517259426, 4.177150517259426, 4.177150517259426, 4.177150517259426, 4.177150517259426, 4.177150517259426, 4.177150517259426, 4.177150517259426, 4.177150517259426, 4.177150517259426, 4.177150517259426, 4.177150517259426, 4.177150517259426, 4.177150517259426, 4.177150517259426, 4.177150517259426, 4.177150517259426, 4.177150517259426, 4.177150517259426, 4.177150517259426, 4.177150517259426, 1.0, 1.0, 1.0, 1.0, 1.0, 1.0, 1.0, 1.0, 1.0, 1.0, 1.0, 1.0, 1.0, 1.0, 1.0, 1.0, 1.0, 1.0, 1.0, 1.0, 1.0, 1.0, 1.0, 1.0, 1.0, 1.0, 1.0, 1.0, 1.0, 1.0, 1.0, 1.0, 1.0, 1.0, 1.0, 1.0, 1.0, 1.0, 1.0, 1.0, 1.0, 1.0, 1.0, 1.0, 1.0, 1.0, 1.0, 1.0, 1.0, 1.0, 1.0, 1.0, 1.0, 1.0, 1.0, 1.0, 1.0, 1.0, 1.0, 1.0, 1.0, 1.0, 1.0, 4.326418821947057, 4.326418821947057, 4.326418821947057, 4.326418821947057, 4.326418821947057, 4.326418821947057, 4.326418821947057, 4.326418821947057, 4.326418821947057, 4.326418821947057, 4.326418821947057, 4.326418821947057, 4.326418821947057, 4.326418821947057, 4.326418821947057, 4.326418821947057, 4.326418821947057, 4.326418821947057, 4.326418821947057, 4.326418821947057, 4.326418821947057, 2.26, 2.26, 2.26, 2.26, 2.26, 2.26, 2.26, 2.26, 2.26, 2.26, 2.26, 2.26, 2.26, 2.26, 2.26, 2.26, 2.26, 2.26, 2.26, 2.26, 2.26, 2.660000000000007, 2.660000000000007, 2.660000000000007, 2.660000000000007, 2.660000000000007, 2.660000000000007, 2.660000000000007, 2.660000000000007, 2.660000000000007, 2.660000000000007, 2.660000000000007, 2.660000000000007, 2.660000000000007, 2.660000000000007, 2.660000000000007, 2.660000000000007, 2.660000000000007, 2.660000000000007, 2.660000000000007, 2.660000000000007, 2.660000000000007, 3.3000000000000016, 3.3000000000000016, 3.3000000000000016, 3.3000000000000016, 3.3000000000000016, 3.3000000000000016, 3.3000000000000016, 3.3000000000000016, 3.3000000000000016, 3.3000000000000016, 3.3000000000000016, 3.3000000000000016, 3.3000000000000016, 3.3000000000000016, 3.3000000000000016, 3.3000000000000016, 3.3000000000000016, 3.3000000000000016, 3.3000000000000016, 3.3000000000000016, 3.3000000000000016, 2.2799999999999705, 2.2799999999999705, 2.2799999999999705, 2.2799999999999705, 2.2799999999999705, 2.2799999999999705, 2.2799999999999705, 2.2799999999999705, 2.2799999999999705, 2.2799999999999705, 2.2799999999999705, 2.2799999999999705, 2.2799999999999705, 2.2799999999999705, 2.2799999999999705, 2.2799999999999705, 2.2799999999999705, 2.2799999999999705, 2.2799999999999705, 2.2799999999999705, 2.2799999999999705, 3.1874999999999876, 3.1874999999999876, 3.1874999999999876, 3.1874999999999876, 3.1874999999999876, 3.1874999999999876, 3.1874999999999876, 3.1874999999999876, 3.1874999999999876, 3.1874999999999876, 3.1874999999999876, 3.1874999999999876, 3.1874999999999876, 3.1874999999999876, 3.1874999999999876, 3.1874999999999876, 3.1874999999999876, 3.1874999999999876, 3.1874999999999876, 3.1874999999999876, 3.1874999999999876, 3.1875000000000453, 3.1875000000000453, 3.1875000000000453, 3.1875000000000453, 3.1875000000000453, 3.1875000000000453, 3.1875000000000453, 3.1875000000000453, 3.1875000000000453, 3.1875000000000453, 3.1875000000000453, 3.1875000000000453, 3.1875000000000453, 3.1875000000000453, 3.1875000000000453, 3.1875000000000453, 3.1875000000000453, 3.1875000000000453, 3.1875000000000453, 3.1875000000000453, 3.1875000000000453, 3.502982801666579, 3.502982801666579, 3.502982801666579, 3.502982801666579, 3.502982801666579, 3.502982801666579, 3.502982801666579, 3.502982801666579, 3.502982801666579, 3.502982801666579, 3.502982801666579, 3.502982801666579, 3.502982801666579, 3.502982801666579, 3.502982801666579, 3.502982801666579, 3.502982801666579, 3.502982801666579, 3.502982801666579, 3.502982801666579, 3.502982801666579, 3.280000000000008, 3.280000000000008, 3.280000000000008, 3.280000000000008, 3.280000000000008, 3.280000000000008, 3.280000000000008, 3.280000000000008, 3.280000000000008, 3.280000000000008, 3.280000000000008, 3.280000000000008, 3.280000000000008, 3.280000000000008, 3.280000000000008, 3.280000000000008, 3.280000000000008, 3.280000000000008, 3.280000000000008, 3.280000000000008, 3.280000000000008, 3.2525300064099336, 3.2525300064099336, 3.2525300064099336, 3.2525300064099336, 3.2525300064099336, 3.2525300064099336, 3.2525300064099336, 3.2525300064099336, 3.2525300064099336, 3.2525300064099336, 3.2525300064099336, 3.2525300064099336, 3.2525300064099336, 3.2525300064099336, 3.2525300064099336, 3.2525300064099336, 3.2525300064099336, 3.2525300064099336, 3.2525300064099336, 3.2525300064099336, 3.2525300064099336, 4.35092996233815, 4.35092996233815, 4.35092996233815, 4.35092996233815, 4.35092996233815, 4.35092996233815, 4.35092996233815, 4.35092996233815, 4.35092996233815, 4.35092996233815, 4.35092996233815, 4.35092996233815, 4.35092996233815, 4.35092996233815, 4.35092996233815, 4.35092996233815, 4.35092996233815, 4.35092996233815, 4.35092996233815, 4.35092996233815, 4.35092996233815, 3.908108577373611, 3.908108577373611, 3.908108577373611, 3.908108577373611, 3.908108577373611, 3.908108577373611, 3.908108577373611, 3.908108577373611, 3.908108577373611, 3.908108577373611, 3.908108577373611, 3.908108577373611, 3.908108577373611, 3.908108577373611, 3.908108577373611, 3.908108577373611, 3.908108577373611, 3.908108577373611, 3.908108577373611, 3.908108577373611, 3.908108577373611, 0, 0, 0, 0, 0, 0, 0, 0, 0, 0, 0, 0, 0, 0, 0, 0, 0, 0, 0, 0, 0, 1.9999999999999947, 1.9999999999999947, 1.9999999999999947, 1.9999999999999947, 1.9999999999999947, 1.9999999999999947, 1.9999999999999947, 1.9999999999999947, 1.9999999999999947, 1.9999999999999947, 1.9999999999999947, 1.9999999999999947, 1.9999999999999947, 1.9999999999999947, 1.9999999999999947, 1.9999999999999947, 1.9999999999999947, 1.9999999999999947, 1.9999999999999947, 1.9999999999999947, 1.9999999999999947, 3.973726933968808, 3.973726933968808, 3.973726933968808, 3.973726933968808, 3.973726933968808, 3.973726933968808, 3.973726933968808, 3.973726933968808, 3.973726933968808, 3.973726933968808, 3.973726933968808, 3.973726933968808, 3.973726933968808, 3.973726933968808, 3.973726933968808, 3.973726933968808, 3.973726933968808, 3.973726933968808, 3.973726933968808, 3.973726933968808, 3.973726933968808, 2.7499999999999973, 2.7499999999999973, 2.7499999999999973, 2.7499999999999973, 2.7499999999999973, 2.7499999999999973, 2.7499999999999973, 2.7499999999999973, 2.7499999999999973, 2.7499999999999973, 2.7499999999999973, 2.7499999999999973, 2.7499999999999973, 2.7499999999999973, 2.7499999999999973, 2.7499999999999973, 2.7499999999999973, 2.7499999999999973, 2.7499999999999973, 2.7499999999999973, 2.7499999999999973], \"zmax\": 7.35092996233815, \"zmin\": 0}, {\"colorscale\": [[0.0, \"rgb(211, 242, 163)\"], [0.16666666666666666, \"rgb(151, 225, 150)\"], [0.3333333333333333, \"rgb(108, 192, 139)\"], [0.5, \"rgb(76, 155, 130)\"], [0.6666666666666666, \"rgb(33, 122, 121)\"], [0.8333333333333334, \"rgb(16, 89, 101)\"], [1.0, \"rgb(7, 64, 80)\"]], \"hoverongaps\": false, \"hovertemplate\": \"%{y} --> %{x}: %{z:.3f}<extra></extra>\", \"showlegend\": false, \"showscale\": true, \"type\": \"heatmap\", \"x\": [\"Inf. zoobenthos\", \"Intertidal inv.\", \"Macrozooplankton\", \"Epi. zoobenthos\", \"Wild salmon fry\", \"Hatch. salmon fry\", \"Herring\", \"Small pelagics\", \"Demersal fish\", \"Trans. mammals\", \"\\u2717 Detritus\", \"Respiration\", \"Inf. zoobenthos\", \"Epi. zoobenthos\", \"Small pelagics\", \"Sea otters\", \"Demersal fish\", \"\\u2717 Detritus\", \"Export\", \"Respiration\", \"Intertidal inv.\", \"Demersal fish\", \"Birds\", \"Pinnipeds\", \"\\u2717 Detritus\", \"Respiration\", \"Wild salmon fry\", \"Hatch. salmon fry\", \"Herring\", \"Small pelagics\", \"Demersal fish\", \"Birds\", \"Salmon\", \"Trans. mammals\", \"Res. mammals\", \"\\u2717 Detritus\", \"Respiration\", \"Epi. zoobenthos\", \"Demersal fish\", \"\\u2717 Detritus\", \"Export\", \"Respiration\", \"Demersal fish\", \"\\u2717 Detritus\", \"Respiration\", \"Demersal fish\", \"\\u2717 Detritus\", \"Respiration\", \"Demersal fish\", \"Trans. mammals\", \"Res. mammals\", \"Pinnipeds\", \"\\u2717 Detritus\", \"Export\", \"Respiration\", \"Demersal fish\", \"Birds\", \"Salmon\", \"Trans. mammals\", \"Res. mammals\", \"Pinnipeds\", \"\\u2717 Detritus\", \"Respiration\", \"Res. mammals\", \"\\u2717 Detritus\", \"Respiration\", \"Demersal fish\", \"Birds\", \"Trans. mammals\", \"Res. mammals\", \"Pinnipeds\", \"\\u2717 Detritus\", \"Export\", \"Respiration\", \"\\u2717 Detritus\", \"Respiration\", \"Trans. mammals\", \"Res. mammals\", \"Pinnipeds\", \"\\u2717 Detritus\", \"Export\", \"Respiration\", \"\\u2717 Detritus\", \"Respiration\", \"Trans. mammals\", \"\\u2717 Detritus\", \"Respiration\", \"Trans. mammals\", \"\\u2717 Detritus\", \"Respiration\", \"Mesozooplankton\", \"Intertidal inv.\", \"Macrozooplankton\", \"\\u2717 Detritus\", \"Respiration\", \"Epi. zoobenthos\", \"Birds\", \"\\u2717 Detritus\", \"Respiration\", \"Mesozooplankton\", \"Inf. zoobenthos\", \"Intertidal inv.\", \"Epi. zoobenthos\", \"Export\", \"Phytoplankton PrimProd\", \"Macroalgae PrimProd\"], \"xgap\": 0.2, \"y\": [\"Mesozooplankton\", \"Mesozooplankton\", \"Mesozooplankton\", \"Mesozooplankton\", \"Mesozooplankton\", \"Mesozooplankton\", \"Mesozooplankton\", \"Mesozooplankton\", \"Mesozooplankton\", \"Mesozooplankton\", \"Mesozooplankton\", \"Mesozooplankton\", \"Inf. zoobenthos\", \"Inf. zoobenthos\", \"Inf. zoobenthos\", \"Inf. zoobenthos\", \"Inf. zoobenthos\", \"Inf. zoobenthos\", \"Inf. zoobenthos\", \"Inf. zoobenthos\", \"Intertidal inv.\", \"Intertidal inv.\", \"Intertidal inv.\", \"Intertidal inv.\", \"Intertidal inv.\", \"Intertidal inv.\", \"Macrozooplankton\", \"Macrozooplankton\", \"Macrozooplankton\", \"Macrozooplankton\", \"Macrozooplankton\", \"Macrozooplankton\", \"Macrozooplankton\", \"Macrozooplankton\", \"Macrozooplankton\", \"Macrozooplankton\", \"Macrozooplankton\", \"Epi. zoobenthos\", \"Epi. zoobenthos\", \"Epi. zoobenthos\", \"Epi. zoobenthos\", \"Epi. zoobenthos\", \"Wild salmon fry\", \"Wild salmon fry\", \"Wild salmon fry\", \"Hatch. salmon fry\", \"Hatch. salmon fry\", \"Hatch. salmon fry\", \"Herring\", \"Herring\", \"Herring\", \"Herring\", \"Herring\", \"Herring\", \"Herring\", \"Small pelagics\", \"Small pelagics\", \"Small pelagics\", \"Small pelagics\", \"Small pelagics\", \"Small pelagics\", \"Small pelagics\", \"Small pelagics\", \"Sea otters\", \"Sea otters\", \"Sea otters\", \"Demersal fish\", \"Demersal fish\", \"Demersal fish\", \"Demersal fish\", \"Demersal fish\", \"Demersal fish\", \"Demersal fish\", \"Demersal fish\", \"Birds\", \"Birds\", \"Salmon\", \"Salmon\", \"Salmon\", \"Salmon\", \"Salmon\", \"Salmon\", \"Trans. mammals\", \"Trans. mammals\", \"Res. mammals\", \"Res. mammals\", \"Res. mammals\", \"Pinnipeds\", \"Pinnipeds\", \"Pinnipeds\", \"Phytoplankton PrimProd\", \"Phytoplankton PrimProd\", \"Phytoplankton PrimProd\", \"Phytoplankton PrimProd\", \"Phytoplankton PrimProd\", \"Macroalgae PrimProd\", \"Macroalgae PrimProd\", \"Macroalgae PrimProd\", \"Macroalgae PrimProd\", \"\\u2717 Detritus\", \"\\u2717 Detritus\", \"\\u2717 Detritus\", \"\\u2717 Detritus\", \"\\u2717 Detritus\", \"Import\", \"Import\"], \"ygap\": 0.2, \"z\": [0.29, 0.36, 0.75, 0.1, 0.7499999999999999, 0.75, 0.6000000000000001, 0.6, 0.09999999999999999, 0.13700000000000004, 0.31890747557332527, 0.38310611765582886, 0.01, 0.5, 0.10099998636184988, 1.0, 0.13, 0.18877982673883673, 7.2161026095963695e-06, 0.35884346133104567, 0.1, 0.024999999999999998, 0.21600000000000003, 0.06999999999999999, 0.002886257909338208, 0.003354581571094719, 0.25, 0.25, 0.4, 0.2990000136381501, 0.265, 0.187, 0.149999976496989, 0.4590000000000001, 0.01, 0.03447829468194798, 0.05811382497361205, 0.08, 0.030000000000000002, 0.0004892108917762366, 0.00034396755772409356, 0.0006988711606447332, 0.005, 2.916899047771913e-05, 1.724778005726768e-05, 0.005, 3.902665965295591e-05, 1.0362104728412672e-05, 0.08, 0.067, 0.29600000000000004, 0.051, 0.0051037548956323845, 0.0027324975215004916, 0.0099731710108646, 0.26, 0.459, 0.8500000235030108, 0.138, 0.487, 0.362, 0.005749634235134389, 0.009956780690170145, 0.0010000000000000002, 5.612256300966142e-05, 0.00011102465629893215, 0.09999999999999999, 0.136, 0.193, 0.15000000000000002, 0.5, 0.001447237097115889, 8.899859885168855e-05, 0.002014612285489184, 7.537605612093986e-05, 0.00015485370885901664, 0.0010000000000000002, 0.056, 0.016999999999999998, 8.853223838653188e-05, 0.0033675145511449724, 2.6702543135380167e-12, 3.010187104346713e-05, 5.9708684801750026e-05, 0.0010000000000000002, 4.202470890607542e-05, 8.631058206770388e-05, 0.004000000000000001, 0.00030529123406664726, 0.0006241457559511617, 0.7999999999999999, 0.23, 0.25, 0.1367616781216545, 0.14133612495005288, 0.199, 0.002, 0.30473098553357447, 0.03153880109576232, 0.19999999999999998, 0.7, 0.31000000000000005, 0.121, 0.9934598056681692, 1.0, 1.0], \"zmax\": 1.0, \"zmin\": 2.6702543135380167e-12}],\n",
       "                        {\"autosize\": true, \"height\": 900, \"legend\": {\"orientation\": \"h\", \"x\": 1, \"xanchor\": \"right\", \"y\": 1, \"yanchor\": \"bottom\"}, \"template\": {\"data\": {\"bar\": [{\"error_x\": {\"color\": \"#2a3f5f\"}, \"error_y\": {\"color\": \"#2a3f5f\"}, \"marker\": {\"line\": {\"color\": \"#E5ECF6\", \"width\": 0.5}}, \"type\": \"bar\"}], \"barpolar\": [{\"marker\": {\"line\": {\"color\": \"#E5ECF6\", \"width\": 0.5}}, \"type\": \"barpolar\"}], \"carpet\": [{\"aaxis\": {\"endlinecolor\": \"#2a3f5f\", \"gridcolor\": \"white\", \"linecolor\": \"white\", \"minorgridcolor\": \"white\", \"startlinecolor\": \"#2a3f5f\"}, \"baxis\": {\"endlinecolor\": \"#2a3f5f\", \"gridcolor\": \"white\", \"linecolor\": \"white\", \"minorgridcolor\": \"white\", \"startlinecolor\": \"#2a3f5f\"}, \"type\": \"carpet\"}], \"choropleth\": [{\"colorbar\": {\"outlinewidth\": 0, \"ticks\": \"\"}, \"type\": \"choropleth\"}], \"contour\": [{\"colorbar\": {\"outlinewidth\": 0, \"ticks\": \"\"}, \"colorscale\": [[0.0, \"#0d0887\"], [0.1111111111111111, \"#46039f\"], [0.2222222222222222, \"#7201a8\"], [0.3333333333333333, \"#9c179e\"], [0.4444444444444444, \"#bd3786\"], [0.5555555555555556, \"#d8576b\"], [0.6666666666666666, \"#ed7953\"], [0.7777777777777778, \"#fb9f3a\"], [0.8888888888888888, \"#fdca26\"], [1.0, \"#f0f921\"]], \"type\": \"contour\"}], \"contourcarpet\": [{\"colorbar\": {\"outlinewidth\": 0, \"ticks\": \"\"}, \"type\": \"contourcarpet\"}], \"heatmap\": [{\"colorbar\": {\"outlinewidth\": 0, \"ticks\": \"\"}, \"colorscale\": [[0.0, \"#0d0887\"], [0.1111111111111111, \"#46039f\"], [0.2222222222222222, \"#7201a8\"], [0.3333333333333333, \"#9c179e\"], [0.4444444444444444, \"#bd3786\"], [0.5555555555555556, \"#d8576b\"], [0.6666666666666666, \"#ed7953\"], [0.7777777777777778, \"#fb9f3a\"], [0.8888888888888888, \"#fdca26\"], [1.0, \"#f0f921\"]], \"type\": \"heatmap\"}], \"heatmapgl\": [{\"colorbar\": {\"outlinewidth\": 0, \"ticks\": \"\"}, \"colorscale\": [[0.0, \"#0d0887\"], [0.1111111111111111, \"#46039f\"], [0.2222222222222222, \"#7201a8\"], [0.3333333333333333, \"#9c179e\"], [0.4444444444444444, \"#bd3786\"], [0.5555555555555556, \"#d8576b\"], [0.6666666666666666, \"#ed7953\"], [0.7777777777777778, \"#fb9f3a\"], [0.8888888888888888, \"#fdca26\"], [1.0, \"#f0f921\"]], \"type\": \"heatmapgl\"}], \"histogram\": [{\"marker\": {\"colorbar\": {\"outlinewidth\": 0, \"ticks\": \"\"}}, \"type\": \"histogram\"}], \"histogram2d\": [{\"colorbar\": {\"outlinewidth\": 0, \"ticks\": \"\"}, \"colorscale\": [[0.0, \"#0d0887\"], [0.1111111111111111, \"#46039f\"], [0.2222222222222222, \"#7201a8\"], [0.3333333333333333, \"#9c179e\"], [0.4444444444444444, \"#bd3786\"], [0.5555555555555556, \"#d8576b\"], [0.6666666666666666, \"#ed7953\"], [0.7777777777777778, \"#fb9f3a\"], [0.8888888888888888, \"#fdca26\"], [1.0, \"#f0f921\"]], \"type\": \"histogram2d\"}], \"histogram2dcontour\": [{\"colorbar\": {\"outlinewidth\": 0, \"ticks\": \"\"}, \"colorscale\": [[0.0, \"#0d0887\"], [0.1111111111111111, \"#46039f\"], [0.2222222222222222, \"#7201a8\"], [0.3333333333333333, \"#9c179e\"], [0.4444444444444444, \"#bd3786\"], [0.5555555555555556, \"#d8576b\"], [0.6666666666666666, \"#ed7953\"], [0.7777777777777778, \"#fb9f3a\"], [0.8888888888888888, \"#fdca26\"], [1.0, \"#f0f921\"]], \"type\": \"histogram2dcontour\"}], \"mesh3d\": [{\"colorbar\": {\"outlinewidth\": 0, \"ticks\": \"\"}, \"type\": \"mesh3d\"}], \"parcoords\": [{\"line\": {\"colorbar\": {\"outlinewidth\": 0, \"ticks\": \"\"}}, \"type\": \"parcoords\"}], \"pie\": [{\"automargin\": true, \"type\": \"pie\"}], \"scatter\": [{\"marker\": {\"colorbar\": {\"outlinewidth\": 0, \"ticks\": \"\"}}, \"type\": \"scatter\"}], \"scatter3d\": [{\"line\": {\"colorbar\": {\"outlinewidth\": 0, \"ticks\": \"\"}}, \"marker\": {\"colorbar\": {\"outlinewidth\": 0, \"ticks\": \"\"}}, \"type\": \"scatter3d\"}], \"scattercarpet\": [{\"marker\": {\"colorbar\": {\"outlinewidth\": 0, \"ticks\": \"\"}}, \"type\": \"scattercarpet\"}], \"scattergeo\": [{\"marker\": {\"colorbar\": {\"outlinewidth\": 0, \"ticks\": \"\"}}, \"type\": \"scattergeo\"}], \"scattergl\": [{\"marker\": {\"colorbar\": {\"outlinewidth\": 0, \"ticks\": \"\"}}, \"type\": \"scattergl\"}], \"scattermapbox\": [{\"marker\": {\"colorbar\": {\"outlinewidth\": 0, \"ticks\": \"\"}}, \"type\": \"scattermapbox\"}], \"scatterpolar\": [{\"marker\": {\"colorbar\": {\"outlinewidth\": 0, \"ticks\": \"\"}}, \"type\": \"scatterpolar\"}], \"scatterpolargl\": [{\"marker\": {\"colorbar\": {\"outlinewidth\": 0, \"ticks\": \"\"}}, \"type\": \"scatterpolargl\"}], \"scatterternary\": [{\"marker\": {\"colorbar\": {\"outlinewidth\": 0, \"ticks\": \"\"}}, \"type\": \"scatterternary\"}], \"surface\": [{\"colorbar\": {\"outlinewidth\": 0, \"ticks\": \"\"}, \"colorscale\": [[0.0, \"#0d0887\"], [0.1111111111111111, \"#46039f\"], [0.2222222222222222, \"#7201a8\"], [0.3333333333333333, \"#9c179e\"], [0.4444444444444444, \"#bd3786\"], [0.5555555555555556, \"#d8576b\"], [0.6666666666666666, \"#ed7953\"], [0.7777777777777778, \"#fb9f3a\"], [0.8888888888888888, \"#fdca26\"], [1.0, \"#f0f921\"]], \"type\": \"surface\"}], \"table\": [{\"cells\": {\"fill\": {\"color\": \"#EBF0F8\"}, \"line\": {\"color\": \"white\"}}, \"header\": {\"fill\": {\"color\": \"#C8D4E3\"}, \"line\": {\"color\": \"white\"}}, \"type\": \"table\"}]}, \"layout\": {\"annotationdefaults\": {\"arrowcolor\": \"#2a3f5f\", \"arrowhead\": 0, \"arrowwidth\": 1}, \"coloraxis\": {\"colorbar\": {\"outlinewidth\": 0, \"ticks\": \"\"}}, \"colorscale\": {\"diverging\": [[0, \"#8e0152\"], [0.1, \"#c51b7d\"], [0.2, \"#de77ae\"], [0.3, \"#f1b6da\"], [0.4, \"#fde0ef\"], [0.5, \"#f7f7f7\"], [0.6, \"#e6f5d0\"], [0.7, \"#b8e186\"], [0.8, \"#7fbc41\"], [0.9, \"#4d9221\"], [1, \"#276419\"]], \"sequential\": [[0.0, \"#0d0887\"], [0.1111111111111111, \"#46039f\"], [0.2222222222222222, \"#7201a8\"], [0.3333333333333333, \"#9c179e\"], [0.4444444444444444, \"#bd3786\"], [0.5555555555555556, \"#d8576b\"], [0.6666666666666666, \"#ed7953\"], [0.7777777777777778, \"#fb9f3a\"], [0.8888888888888888, \"#fdca26\"], [1.0, \"#f0f921\"]], \"sequentialminus\": [[0.0, \"#0d0887\"], [0.1111111111111111, \"#46039f\"], [0.2222222222222222, \"#7201a8\"], [0.3333333333333333, \"#9c179e\"], [0.4444444444444444, \"#bd3786\"], [0.5555555555555556, \"#d8576b\"], [0.6666666666666666, \"#ed7953\"], [0.7777777777777778, \"#fb9f3a\"], [0.8888888888888888, \"#fdca26\"], [1.0, \"#f0f921\"]]}, \"colorway\": [\"#636efa\", \"#EF553B\", \"#00cc96\", \"#ab63fa\", \"#FFA15A\", \"#19d3f3\", \"#FF6692\", \"#B6E880\", \"#FF97FF\", \"#FECB52\"], \"font\": {\"color\": \"#2a3f5f\"}, \"geo\": {\"bgcolor\": \"white\", \"lakecolor\": \"white\", \"landcolor\": \"#E5ECF6\", \"showlakes\": true, \"showland\": true, \"subunitcolor\": \"white\"}, \"hoverlabel\": {\"align\": \"left\"}, \"hovermode\": \"closest\", \"mapbox\": {\"style\": \"light\"}, \"paper_bgcolor\": \"white\", \"plot_bgcolor\": \"#E5ECF6\", \"polar\": {\"angularaxis\": {\"gridcolor\": \"white\", \"linecolor\": \"white\", \"ticks\": \"\"}, \"bgcolor\": \"#E5ECF6\", \"radialaxis\": {\"gridcolor\": \"white\", \"linecolor\": \"white\", \"ticks\": \"\"}}, \"scene\": {\"xaxis\": {\"backgroundcolor\": \"#E5ECF6\", \"gridcolor\": \"white\", \"gridwidth\": 2, \"linecolor\": \"white\", \"showbackground\": true, \"ticks\": \"\", \"zerolinecolor\": \"white\"}, \"yaxis\": {\"backgroundcolor\": \"#E5ECF6\", \"gridcolor\": \"white\", \"gridwidth\": 2, \"linecolor\": \"white\", \"showbackground\": true, \"ticks\": \"\", \"zerolinecolor\": \"white\"}, \"zaxis\": {\"backgroundcolor\": \"#E5ECF6\", \"gridcolor\": \"white\", \"gridwidth\": 2, \"linecolor\": \"white\", \"showbackground\": true, \"ticks\": \"\", \"zerolinecolor\": \"white\"}}, \"shapedefaults\": {\"line\": {\"color\": \"#2a3f5f\"}}, \"ternary\": {\"aaxis\": {\"gridcolor\": \"white\", \"linecolor\": \"white\", \"ticks\": \"\"}, \"baxis\": {\"gridcolor\": \"white\", \"linecolor\": \"white\", \"ticks\": \"\"}, \"bgcolor\": \"#E5ECF6\", \"caxis\": {\"gridcolor\": \"white\", \"linecolor\": \"white\", \"ticks\": \"\"}}, \"title\": {\"x\": 0.05}, \"xaxis\": {\"automargin\": true, \"gridcolor\": \"white\", \"linecolor\": \"white\", \"ticks\": \"\", \"title\": {\"standoff\": 15}, \"zerolinecolor\": \"white\", \"zerolinewidth\": 2}, \"yaxis\": {\"automargin\": true, \"gridcolor\": \"white\", \"linecolor\": \"white\", \"ticks\": \"\", \"title\": {\"standoff\": 15}, \"zerolinecolor\": \"white\", \"zerolinewidth\": 2}}}, \"title\": {\"text\": \"Alaska, Prince William Sound _ 2 ,   bay/fjord ,  WetWeight ,  BOX(-148.917602345144 59.8326977714434,-145.354763425498 61.3886291588734) ,  Dalsgaard J.,Pauly D.,Okey T.A.(1997). Preliminary mass-balance model of Prince William Sound, Alaska, for the pre-spill period, 1980-1989 Fisheries Centre Research Reports\"}, \"width\": 1200, \"xaxis\": {\"categoryarray\": [\"Res. mammals\", \"Pinnipeds\", \"Salmon\", \"Birds\", \"Trans. mammals\", \"Demersal fish\", \"Herring\", \"Sea otters\", \"Small pelagics\", \"Wild salmon fry\", \"Hatch. salmon fry\", \"Macrozooplankton\", \"Epi. zoobenthos\", \"Inf. zoobenthos\", \"Intertidal inv.\", \"Mesozooplankton\", \"Phytoplankton PrimProd\", \"Macroalgae PrimProd\", \"\\u2717 Detritus\", \"Export\", \"Respiration\"], \"showspikes\": true, \"spikethickness\": 0.5, \"title\": {\"text\": \"To\"}}, \"yaxis\": {\"categoryarray\": [\"Import\", \"\\u2717 Detritus\", \"Phytoplankton PrimProd\", \"Macroalgae PrimProd\", \"Mesozooplankton\", \"Intertidal inv.\", \"Inf. zoobenthos\", \"Epi. zoobenthos\", \"Macrozooplankton\", \"Hatch. salmon fry\", \"Wild salmon fry\", \"Small pelagics\", \"Sea otters\", \"Herring\", \"Demersal fish\", \"Trans. mammals\", \"Birds\", \"Salmon\", \"Pinnipeds\", \"Res. mammals\"], \"showspikes\": true, \"spikemode\": \"across\", \"spikesnap\": \"cursor\", \"spikethickness\": 0.5, \"title\": {\"text\": \"From\"}}},\n",
       "                        {\"responsive\": true}\n",
       "                    ).then(function(){\n",
       "                            \n",
       "var gd = document.getElementById('8b4d118d-a5a8-44ab-bc50-3e3e17081792');\n",
       "var x = new MutationObserver(function (mutations, observer) {{\n",
       "        var display = window.getComputedStyle(gd).display;\n",
       "        if (!display || display === 'none') {{\n",
       "            console.log([gd, 'removed!']);\n",
       "            Plotly.purge(gd);\n",
       "            observer.disconnect();\n",
       "        }}\n",
       "}});\n",
       "\n",
       "// Listen for the removal of the full notebook cells\n",
       "var notebookContainer = gd.closest('#notebook-container');\n",
       "if (notebookContainer) {{\n",
       "    x.observe(notebookContainer, {childList: true});\n",
       "}}\n",
       "\n",
       "// Listen for the clearing of the current output cell\n",
       "var outputEl = gd.closest('.output');\n",
       "if (outputEl) {{\n",
       "    x.observe(outputEl, {childList: true});\n",
       "}}\n",
       "\n",
       "                        })\n",
       "                };\n",
       "                });\n",
       "            </script>\n",
       "        </div>"
      ]
     },
     "metadata": {},
     "output_type": "display_data"
    }
   ],
   "source": [
    "fw.draw_heatmap(foodweb, normalization='diet', show_trophic_layer=True, boundary=True)"
   ]
  },
  {
   "cell_type": "markdown",
   "metadata": {},
   "source": [
    "# Visualize part of foodweb as a network:"
   ]
  },
  {
   "cell_type": "code",
   "execution_count": 19,
   "metadata": {},
   "outputs": [
    {
     "data": {
      "text/html": [
       "\n",
       "        <iframe\n",
       "            width=\"100%\"\n",
       "            height=\"800px\"\n",
       "            src=\"food_web.html\"\n",
       "            frameborder=\"0\"\n",
       "            allowfullscreen\n",
       "        ></iframe>\n",
       "        "
      ],
      "text/plain": [
       "<IPython.lib.display.IFrame at 0x11dcc81c0>"
      ]
     },
     "execution_count": 19,
     "metadata": {},
     "output_type": "execute_result"
    }
   ],
   "source": [
    "fw.draw_network_for_nodes(foodweb, ['Turtles'])"
   ]
  },
  {
   "cell_type": "code",
   "execution_count": null,
   "metadata": {},
   "outputs": [],
   "source": []
  }
 ],
 "metadata": {
  "kernelspec": {
   "display_name": "Python 3",
   "language": "python",
   "name": "python3"
  },
  "language_info": {
   "codemirror_mode": {
    "name": "ipython",
    "version": 3
   },
   "file_extension": ".py",
   "mimetype": "text/x-python",
   "name": "python",
   "nbconvert_exporter": "python",
   "pygments_lexer": "ipython3",
   "version": "3.8.5"
  }
 },
 "nbformat": 4,
 "nbformat_minor": 4
}
