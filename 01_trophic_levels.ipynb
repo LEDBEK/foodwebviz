{
 "cells": [
  {
   "cell_type": "code",
   "execution_count": 1,
   "metadata": {},
   "outputs": [],
   "source": [
    "import altair as alt\n",
    "import numpy as np\n",
    "import pandas as pd\n",
    "import seaborn as sns\n",
    "from foodwebs.foodweb import FoodWeb\n",
    "from foodwebs.foodweb_io import readFW_SCOR\n",
    "import networkx as nx\n",
    "\n",
    "import matplotlib.pyplot as pltś\n",
    "import pylab\n",
    "\n",
    "from pylab import rcParams\n",
    "rcParams['figure.figsize'] = 12, 8"
   ]
  },
  {
   "cell_type": "code",
   "execution_count": 2,
   "metadata": {},
   "outputs": [
    {
     "name": "stdout",
     "output_type": "stream",
     "text": [
      "Upper Chesapeake Bay in Summer --> 34, 28\n",
      "Albatross Bay _ 465 ,   bay/fj --> 99, 92\n",
      "USA, Mid Atlantic Bight _ 99 , --> 55, 54\n",
      "Flow network of St Marks febs2 --> 51, 40\n",
      "Table 9. Flow data for the Thu --> 33, 29\n",
      "Alaska, Prince William Sound _ --> 19, 18\n",
      "\"Mdloti Network, March 2003, i --> 46, 43\n",
      "Bothnian Bay; Sandbert, et al. --> 12, 10\n",
      "FLORIDA BAY TROPHIC EXCHANGE M --> 125, 104\n",
      "Oneida Post ZM Unbalanced      --> 76, 73\n",
      "Bay of Biscay _ 335 ,   contin --> 32, 30\n"
     ]
    }
   ],
   "source": [
    "import glob\n",
    "food_webs = [readFW_SCOR(net_path) for net_path in glob.glob('./data/*')]\n",
    "\n",
    "for web in food_webs:\n",
    "    print(f'{web.title[:30]} --> {web.n}, {web.n_living}')\n",
    "    web.nodeDF['trophic'] = round(web.nodeDF.TrophicLevel)"
   ]
  },
  {
   "cell_type": "code",
   "execution_count": 5,
   "metadata": {},
   "outputs": [],
   "source": [
    "def get_trophic_level(net, name):\n",
    "    ''' returns rounded trophic level for name '''\n",
    "    return net.nodeDF[net.nodeDF.index == name].trophic.values[0]\n",
    "\n",
    "def get_trophic_flows(net):\n",
    "    ''' \n",
    "    returns sum of all flows weights between trophic levels \n",
    "    '''\n",
    "    levels = sorted(net.nodeDF.trophic.unique())\n",
    "    trophic_flows = {(x,y): 0 for x in levels for y in levels}\n",
    "    \n",
    "    for flow in net.getFlows(True):\n",
    "        trophic_flows[(get_trophic_level(net, flow[0]), get_trophic_level(net, flow[1]))] += flow[2]\n",
    "\n",
    "    # filter out zeros\n",
    "    return [(x[0], x[1], float(\"{:.5f}\".format(y))) for x, y in trophic_flows.items() if y != 0]"
   ]
  },
  {
   "cell_type": "code",
   "execution_count": 6,
   "metadata": {},
   "outputs": [
    {
     "ename": "TypeError",
     "evalue": "unsupported operand type(s) for +=: 'int' and 'dict'",
     "output_type": "error",
     "traceback": [
      "\u001b[0;31m---------------------------------------------------------------------------\u001b[0m",
      "\u001b[0;31mTypeError\u001b[0m                                 Traceback (most recent call last)",
      "\u001b[0;32m<ipython-input-6-084d9093fabd>\u001b[0m in \u001b[0;36m<module>\u001b[0;34m\u001b[0m\n\u001b[0;32m----> 1\u001b[0;31m \u001b[0mget_trophic_flows\u001b[0m\u001b[0;34m(\u001b[0m\u001b[0mfood_webs\u001b[0m\u001b[0;34m[\u001b[0m\u001b[0;36m0\u001b[0m\u001b[0;34m]\u001b[0m\u001b[0;34m)\u001b[0m\u001b[0;34m\u001b[0m\u001b[0;34m\u001b[0m\u001b[0m\n\u001b[0m",
      "\u001b[0;32m<ipython-input-5-7008ec475af4>\u001b[0m in \u001b[0;36mget_trophic_flows\u001b[0;34m(net)\u001b[0m\n\u001b[1;32m     11\u001b[0m \u001b[0;34m\u001b[0m\u001b[0m\n\u001b[1;32m     12\u001b[0m     \u001b[0;32mfor\u001b[0m \u001b[0mflow\u001b[0m \u001b[0;32min\u001b[0m \u001b[0mnet\u001b[0m\u001b[0;34m.\u001b[0m\u001b[0mgetFlows\u001b[0m\u001b[0;34m(\u001b[0m\u001b[0;32mTrue\u001b[0m\u001b[0;34m)\u001b[0m\u001b[0;34m:\u001b[0m\u001b[0;34m\u001b[0m\u001b[0;34m\u001b[0m\u001b[0m\n\u001b[0;32m---> 13\u001b[0;31m         \u001b[0mtrophic_flows\u001b[0m\u001b[0;34m[\u001b[0m\u001b[0;34m(\u001b[0m\u001b[0mget_trophic_level\u001b[0m\u001b[0;34m(\u001b[0m\u001b[0mnet\u001b[0m\u001b[0;34m,\u001b[0m \u001b[0mflow\u001b[0m\u001b[0;34m[\u001b[0m\u001b[0;36m0\u001b[0m\u001b[0;34m]\u001b[0m\u001b[0;34m)\u001b[0m\u001b[0;34m,\u001b[0m \u001b[0mget_trophic_level\u001b[0m\u001b[0;34m(\u001b[0m\u001b[0mnet\u001b[0m\u001b[0;34m,\u001b[0m \u001b[0mflow\u001b[0m\u001b[0;34m[\u001b[0m\u001b[0;36m1\u001b[0m\u001b[0;34m]\u001b[0m\u001b[0;34m)\u001b[0m\u001b[0;34m)\u001b[0m\u001b[0;34m]\u001b[0m \u001b[0;34m+=\u001b[0m \u001b[0mflow\u001b[0m\u001b[0;34m[\u001b[0m\u001b[0;36m2\u001b[0m\u001b[0;34m]\u001b[0m\u001b[0;34m\u001b[0m\u001b[0;34m\u001b[0m\u001b[0m\n\u001b[0m\u001b[1;32m     14\u001b[0m \u001b[0;34m\u001b[0m\u001b[0m\n\u001b[1;32m     15\u001b[0m     \u001b[0;31m# filter out zeros\u001b[0m\u001b[0;34m\u001b[0m\u001b[0;34m\u001b[0m\u001b[0;34m\u001b[0m\u001b[0m\n",
      "\u001b[0;31mTypeError\u001b[0m: unsupported operand type(s) for +=: 'int' and 'dict'"
     ]
    }
   ],
   "source": [
    "get_trophic_flows(food_webs[0])"
   ]
  },
  {
   "cell_type": "markdown",
   "metadata": {},
   "source": [
    "## Heatmap"
   ]
  },
  {
   "cell_type": "code",
   "execution_count": 44,
   "metadata": {},
   "outputs": [],
   "source": [
    "from collections import defaultdict\n",
    "\n",
    "def get_trophic_flows(net):\n",
    "    graph = net.getGraph()\n",
    "\n",
    "    trophic_flows = defaultdict(float)\n",
    "    for n, n_trophic in set(graph.nodes(data='TrophicLevel')):\n",
    "        for m, m_trophic in set(graph.nodes(data='TrophicLevel')):\n",
    "            weight = graph.get_edge_data(n, m, default=0)\n",
    "            if weight != 0:\n",
    "                trophic_flows[(round(n_trophic), round(m_trophic))] += weight['weight']\n",
    "    return pd.DataFrame([(x, y, w) for (x, y), w in trophic_flows.items()], columns=['from', 'to', 'weights'])"
   ]
  },
  {
   "cell_type": "code",
   "execution_count": 45,
   "metadata": {},
   "outputs": [],
   "source": [
    "def draw_heatmap(net, log_scale=False):\n",
    "    '''\n",
    "    Draws heatmap of flows between trophic levels\n",
    "    '''\n",
    "    tf_pd = get_trophic_flows(net)\n",
    "    if log_scale:\n",
    "        tf_pd['weights'] = np.log(tf_pd.weights)\n",
    "    tf_pd = tf_pd.pivot('from', 'to', 'weights')\n",
    "    ax = sns.heatmap(tf_pd, annot=True, cmap=\"YlGnBu\")"
   ]
  },
  {
   "cell_type": "code",
   "execution_count": 46,
   "metadata": {},
   "outputs": [
    {
     "data": {
      "image/png": "[encoded data removed]",
      "text/plain": [
       "<Figure size 864x576 with 2 Axes>"
      ]
     },
     "metadata": {
      "needs_background": "light"
     },
     "output_type": "display_data"
    }
   ],
   "source": [
    "draw_heatmap(food_webs[0])  "
   ]
  },
  {
   "cell_type": "code",
   "execution_count": 41,
   "metadata": {},
   "outputs": [
    {
     "data": {
      "image/png": "[encoded data removed]",
      "text/plain": [
       "<Figure size 864x576 with 2 Axes>"
      ]
     },
     "metadata": {
      "needs_background": "light"
     },
     "output_type": "display_data"
    }
   ],
   "source": [
    "draw_heatmap(food_webs[0], log_scale=True)"
   ]
  },
  {
   "cell_type": "markdown",
   "metadata": {},
   "source": [
    "## Fows distribution"
   ]
  },
  {
   "cell_type": "code",
   "execution_count": 47,
   "metadata": {},
   "outputs": [],
   "source": [
    "def show_trophic_flows_distribution(net, normalize=False):\n",
    "    tf_pd = tf_pd = get_trophic_flows(net)\n",
    "    tf_pd['to'] = tf_pd['to'].astype(str)\n",
    "\n",
    "    return alt.Chart(tf_pd).mark_bar().encode(\n",
    "        x=alt.X('sum(weights):Q', stack='zero' if not normalize else 'normalize'),\n",
    "        y=alt.Y('from:N'),\n",
    "        color=alt.Color('to'),\n",
    "        order=alt.Order(\n",
    "          # Sort the segments of the bars by this field\n",
    "          'to',\n",
    "          sort='ascending'\n",
    "        )\n",
    "    ).properties(width=1320, height=400)"
   ]
  },
  {
   "cell_type": "code",
   "execution_count": 48,
   "metadata": {},
   "outputs": [
    {
     "data": {
      "text/html": [
       "\n",
       "<div id=\"altair-viz-86be09a3279647dbbbef5f8a9052a510\"></div>\n",
       "<script type=\"text/javascript\">\n",
       "  (function(spec, embedOpt){\n",
       "    let outputDiv = document.currentScript.previousElementSibling;\n",
       "    if (outputDiv.id !== \"altair-viz-86be09a3279647dbbbef5f8a9052a510\") {\n",
       "      outputDiv = document.getElementById(\"altair-viz-86be09a3279647dbbbef5f8a9052a510\");\n",
       "    }\n",
       "    const paths = {\n",
       "      \"vega\": \"https://cdn.jsdelivr.net/npm//vega@5?noext\",\n",
       "      \"vega-lib\": \"https://cdn.jsdelivr.net/npm//vega-lib?noext\",\n",
       "      \"vega-lite\": \"https://cdn.jsdelivr.net/npm//vega-lite@4.8.1?noext\",\n",
       "      \"vega-embed\": \"https://cdn.jsdelivr.net/npm//vega-embed@6?noext\",\n",
       "    };\n",
       "\n",
       "    function loadScript(lib) {\n",
       "      return new Promise(function(resolve, reject) {\n",
       "        var s = document.createElement('script');\n",
       "        s.src = paths[lib];\n",
       "        s.async = true;\n",
       "        s.onload = () => resolve(paths[lib]);\n",
       "        s.onerror = () => reject(`Error loading script: ${paths[lib]}`);\n",
       "        document.getElementsByTagName(\"head\")[0].appendChild(s);\n",
       "      });\n",
       "    }\n",
       "\n",
       "    function showError(err) {\n",
       "      outputDiv.innerHTML = `<div class=\"error\" style=\"color:red;\">${err}</div>`;\n",
       "      throw err;\n",
       "    }\n",
       "\n",
       "    function displayChart(vegaEmbed) {\n",
       "      vegaEmbed(outputDiv, spec, embedOpt)\n",
       "        .catch(err => showError(`Javascript Error: ${err.message}<br>This usually means there's a typo in your chart specification. See the javascript console for the full traceback.`));\n",
       "    }\n",
       "\n",
       "    if(typeof define === \"function\" && define.amd) {\n",
       "      requirejs.config({paths});\n",
       "      require([\"vega-embed\"], displayChart, err => showError(`Error loading script: ${err.message}`));\n",
       "    } else if (typeof vegaEmbed === \"function\") {\n",
       "      displayChart(vegaEmbed);\n",
       "    } else {\n",
       "      loadScript(\"vega\")\n",
       "        .then(() => loadScript(\"vega-lite\"))\n",
       "        .then(() => loadScript(\"vega-embed\"))\n",
       "        .catch(showError)\n",
       "        .then(() => displayChart(vegaEmbed));\n",
       "    }\n",
       "  })({\"config\": {\"view\": {\"continuousWidth\": 400, \"continuousHeight\": 300}}, \"data\": {\"name\": \"data-0fcd7161cc0c057d01462784f2e620b1\"}, \"mark\": \"bar\", \"encoding\": {\"color\": {\"type\": \"nominal\", \"field\": \"to\"}, \"order\": {\"type\": \"nominal\", \"field\": \"to\", \"sort\": \"ascending\"}, \"x\": {\"type\": \"quantitative\", \"aggregate\": \"sum\", \"field\": \"weights\", \"stack\": \"zero\"}, \"y\": {\"type\": \"nominal\", \"field\": \"from\"}}, \"height\": 400, \"width\": 1320, \"$schema\": \"https://vega.github.io/schema/vega-lite/v4.8.1.json\", \"datasets\": {\"data-0fcd7161cc0c057d01462784f2e620b1\": [{\"from\": 4, \"to\": \"1\", \"weights\": 680.524}, {\"from\": 2, \"to\": \"1\", \"weights\": 93527.66}, {\"from\": 2, \"to\": \"2\", \"weights\": 8432.536}, {\"from\": 1, \"to\": \"3\", \"weights\": 33623.244000000006}, {\"from\": 1, \"to\": \"2\", \"weights\": 238399.966}, {\"from\": 1, \"to\": \"1\", \"weights\": 33585.70399999999}, {\"from\": 3, \"to\": \"1\", \"weights\": 42734.552}, {\"from\": 3, \"to\": \"3\", \"weights\": 23421.912}, {\"from\": 3, \"to\": \"4\", \"weights\": 1330.412}, {\"from\": 3, \"to\": \"2\", \"weights\": 1175.76}, {\"from\": 2, \"to\": \"4\", \"weights\": 460.276}, {\"from\": 2, \"to\": \"3\", \"weights\": 35078.31199999999}]}}, {\"mode\": \"vega-lite\"});\n",
       "</script>"
      ],
      "text/plain": [
       "alt.Chart(...)"
      ]
     },
     "execution_count": 48,
     "metadata": {},
     "output_type": "execute_result"
    }
   ],
   "source": [
    "show_trophic_flows_distribution(food_webs[0])"
   ]
  },
  {
   "cell_type": "code",
   "execution_count": 49,
   "metadata": {},
   "outputs": [
    {
     "data": {
      "text/html": [
       "\n",
       "<div id=\"altair-viz-4924c30c08a94f37922e3e39be70a057\"></div>\n",
       "<script type=\"text/javascript\">\n",
       "  (function(spec, embedOpt){\n",
       "    let outputDiv = document.currentScript.previousElementSibling;\n",
       "    if (outputDiv.id !== \"altair-viz-4924c30c08a94f37922e3e39be70a057\") {\n",
       "      outputDiv = document.getElementById(\"altair-viz-4924c30c08a94f37922e3e39be70a057\");\n",
       "    }\n",
       "    const paths = {\n",
       "      \"vega\": \"https://cdn.jsdelivr.net/npm//vega@5?noext\",\n",
       "      \"vega-lib\": \"https://cdn.jsdelivr.net/npm//vega-lib?noext\",\n",
       "      \"vega-lite\": \"https://cdn.jsdelivr.net/npm//vega-lite@4.8.1?noext\",\n",
       "      \"vega-embed\": \"https://cdn.jsdelivr.net/npm//vega-embed@6?noext\",\n",
       "    };\n",
       "\n",
       "    function loadScript(lib) {\n",
       "      return new Promise(function(resolve, reject) {\n",
       "        var s = document.createElement('script');\n",
       "        s.src = paths[lib];\n",
       "        s.async = true;\n",
       "        s.onload = () => resolve(paths[lib]);\n",
       "        s.onerror = () => reject(`Error loading script: ${paths[lib]}`);\n",
       "        document.getElementsByTagName(\"head\")[0].appendChild(s);\n",
       "      });\n",
       "    }\n",
       "\n",
       "    function showError(err) {\n",
       "      outputDiv.innerHTML = `<div class=\"error\" style=\"color:red;\">${err}</div>`;\n",
       "      throw err;\n",
       "    }\n",
       "\n",
       "    function displayChart(vegaEmbed) {\n",
       "      vegaEmbed(outputDiv, spec, embedOpt)\n",
       "        .catch(err => showError(`Javascript Error: ${err.message}<br>This usually means there's a typo in your chart specification. See the javascript console for the full traceback.`));\n",
       "    }\n",
       "\n",
       "    if(typeof define === \"function\" && define.amd) {\n",
       "      requirejs.config({paths});\n",
       "      require([\"vega-embed\"], displayChart, err => showError(`Error loading script: ${err.message}`));\n",
       "    } else if (typeof vegaEmbed === \"function\") {\n",
       "      displayChart(vegaEmbed);\n",
       "    } else {\n",
       "      loadScript(\"vega\")\n",
       "        .then(() => loadScript(\"vega-lite\"))\n",
       "        .then(() => loadScript(\"vega-embed\"))\n",
       "        .catch(showError)\n",
       "        .then(() => displayChart(vegaEmbed));\n",
       "    }\n",
       "  })({\"config\": {\"view\": {\"continuousWidth\": 400, \"continuousHeight\": 300}}, \"data\": {\"name\": \"data-0fcd7161cc0c057d01462784f2e620b1\"}, \"mark\": \"bar\", \"encoding\": {\"color\": {\"type\": \"nominal\", \"field\": \"to\"}, \"order\": {\"type\": \"nominal\", \"field\": \"to\", \"sort\": \"ascending\"}, \"x\": {\"type\": \"quantitative\", \"aggregate\": \"sum\", \"field\": \"weights\", \"stack\": \"normalize\"}, \"y\": {\"type\": \"nominal\", \"field\": \"from\"}}, \"height\": 400, \"width\": 1320, \"$schema\": \"https://vega.github.io/schema/vega-lite/v4.8.1.json\", \"datasets\": {\"data-0fcd7161cc0c057d01462784f2e620b1\": [{\"from\": 4, \"to\": \"1\", \"weights\": 680.524}, {\"from\": 2, \"to\": \"1\", \"weights\": 93527.66}, {\"from\": 2, \"to\": \"2\", \"weights\": 8432.536}, {\"from\": 1, \"to\": \"3\", \"weights\": 33623.244000000006}, {\"from\": 1, \"to\": \"2\", \"weights\": 238399.966}, {\"from\": 1, \"to\": \"1\", \"weights\": 33585.70399999999}, {\"from\": 3, \"to\": \"1\", \"weights\": 42734.552}, {\"from\": 3, \"to\": \"3\", \"weights\": 23421.912}, {\"from\": 3, \"to\": \"4\", \"weights\": 1330.412}, {\"from\": 3, \"to\": \"2\", \"weights\": 1175.76}, {\"from\": 2, \"to\": \"4\", \"weights\": 460.276}, {\"from\": 2, \"to\": \"3\", \"weights\": 35078.31199999999}]}}, {\"mode\": \"vega-lite\"});\n",
       "</script>"
      ],
      "text/plain": [
       "alt.Chart(...)"
      ]
     },
     "execution_count": 49,
     "metadata": {},
     "output_type": "execute_result"
    }
   ],
   "source": [
    "show_trophic_flows_distribution(food_webs[0], normalize=True)"
   ]
  }
 ],
 "metadata": {
  "kernelspec": {
   "display_name": "Python 3",
   "language": "python",
   "name": "python3"
  },
  "language_info": {
   "codemirror_mode": {
    "name": "ipython",
    "version": 3
   },
   "file_extension": ".py",
   "mimetype": "text/x-python",
   "name": "python",
   "nbconvert_exporter": "python",
   "pygments_lexer": "ipython3",
   "version": "3.8.5"
  }
 },
 "nbformat": 4,
 "nbformat_minor": 4
}
