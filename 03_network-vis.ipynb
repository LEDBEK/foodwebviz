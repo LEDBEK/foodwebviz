{
 "cells": [
  {
   "cell_type": "code",
   "execution_count": 1,
   "metadata": {},
   "outputs": [],
   "source": [
    "import math\n",
    "import numpy as np\n",
    "import pandas as pd\n",
    "from foodwebs.foodweb import FoodWeb, NOT_ALIVE_MARK\n",
    "from foodwebs.foodweb_io import read_from_SCOR\n",
    "from foodwebs.normalization import flows_normalization\n",
    "import networkx as nx\n",
    "from pyvis.network import Network\n",
    "\n",
    "import plotly.graph_objects as go\n",
    "import plotly.express as px\n",
    "        \n",
    "import matplotlib.pyplot as plt\n",
    "import pylab\n",
    "\n",
    "from pylab import rcParams\n",
    "rcParams['figure.figsize'] = 12, 8"
   ]
  },
  {
   "cell_type": "code",
   "execution_count": 2,
   "metadata": {},
   "outputs": [
    {
     "name": "stdout",
     "output_type": "stream",
     "text": [
      "Upper Chesapeake Bay in Summer --> 34, 28\n",
      "Albatross Bay _ 465 ,   bay/fj --> 99, 92\n",
      "USA, Mid Atlantic Bight _ 99 , --> 55, 54\n",
      "Flow network of St Marks febs2 --> 51, 40\n",
      "Table 9. Flow data for the Thu --> 33, 29\n",
      "Alaska, Prince William Sound _ --> 19, 18\n",
      "\"Mdloti Network, March 2003, i --> 46, 43\n",
      "Bothnian Bay; Sandbert, et al. --> 12, 10\n",
      "FLORIDA BAY TROPHIC EXCHANGE M --> 125, 104\n",
      "Oneida Post ZM Unbalanced      --> 76, 73\n",
      "Bay of Biscay _ 335 ,   contin --> 32, 30\n"
     ]
    }
   ],
   "source": [
    "import glob\n",
    "food_webs = [read_from_SCOR(net_path) for net_path in glob.glob('./data/*')]\n",
    "\n",
    "for web in food_webs:\n",
    "    print(f'{web.title[:30]} --> {web.n}, {web.n_living}')"
   ]
  },
  {
   "cell_type": "code",
   "execution_count": 3,
   "metadata": {},
   "outputs": [
    {
     "data": {
      "text/plain": [
       "NodeView(('Dolphins', 'Dugongs', 'Crocodiles', 'Turtles', 'Sea snakes', 'Lesser frigates', 'Brown boobies', 'Crested terns', 'Common terns', 'Large pelagic piscivores', 'Medium pelagic piscivores', 'Small pelagic piscivores', 'Sawfishes', 'Large teleost benthic piscivores', 'Small benthic piscivores', 'Large elasmo benthopelagic piscivores', 'Large teleost benthopelagic piscivores', 'Small benthopelagic piscivores', 'Large benthopelagic invert feeders', 'Small benthopelagic invert feeders', 'Large elasmo benthic invert feeders', 'Large teleost benth invert feeders', 'Small benthic invert feeders', 'Polychaete feeders', 'Large pelagic planktivores', 'Small pelagic planktivores', 'Benthic herbivores', 'Scavengers', 'Estuary lg elasmo benthopelagic pisc/prawn feeders', 'Estuary lg teleost benthopelagic posc/prawn feeder', 'Estuary large benthic pisc/prawn feeders', 'Estuary large benthopelagic invert feeders', 'Estuary large benthic invert feeders (Rays)', 'Estuary polychaete feeders', 'Estuary small benthic invert feeders', 'Estuary planktivores', 'Estuary detritivores', 'Estuary benthic herbivores', 'Estuary insectivores', 'Estuary pelagic herbivores', 'Octopus', 'Squid and cuttlefishes', 'Stomatopods', 'Banana prawn juvenile', 'Banana prawn subadults', 'Banana prawn adult', 'Tiger prawn juvenile', 'Tiger prawn subadults', 'Tiger prawn adult', 'All other commercial prawns', 'Thallasinid prawns (Callianassa)', 'All other non-commercial prawns', 'Crayfish', 'The mud crab', 'Red mud crab', 'Sand crab', 'Other large crabs', 'Large gastropods', 'Holothurians', 'Spatangoids', 'Echinoids', 'Ophioroids', 'Asteriods', 'Sessile epibenthos', 'Marine bivalves', 'Estuarine bivalves', 'Marine small crustaceans', 'estuarine small crustaceans', 'Marine worms', 'Estuarine worms', 'Marine small gastropods', 'Estuarine small gastropods', 'Marine meiofauna', 'Estuarine meiofauna', 'Marine forams', 'Estuarine forams', 'Large jellies', 'Small jellies', 'Marine zooplankton', 'Estuarine zooplankton', 'Marine ichthyoplankton', 'Estuarine ichthyoplankton', 'Insects', 'Marine microbial heterotrophs', 'Estuarine microbial heterotrophs', 'Marine phytoplankton PrimProd', 'Estuarine phytoplankton PrimProd', 'Microphytobenthos PrimProd', 'Seagrass PrimProd', 'Estuarine macroalgae PrimProd', 'Marine macroalgae PrimProd', 'Mangroves PrimProd', 'Discards', 'DetachedMarine macrophytes', 'DetachedEstuarine macrophytes (estuarine)', 'EstuarineWater-column detritus', 'EstuarineSediment detritus', 'MarineWater-column detritus', 'MarineSediment detritus'))"
      ]
     },
     "execution_count": 3,
     "metadata": {},
     "output_type": "execute_result"
    }
   ],
   "source": [
    "food_webs[1].get_graph().nodes()"
   ]
  },
  {
   "cell_type": "code",
   "execution_count": 4,
   "metadata": {},
   "outputs": [
    {
     "data": {
      "text/html": [
       "\n",
       "        <iframe\n",
       "            width=\"100%\"\n",
       "            height=\"800px\"\n",
       "            src=\"nx.html\"\n",
       "            frameborder=\"0\"\n",
       "            allowfullscreen\n",
       "        ></iframe>\n",
       "        "
      ],
      "text/plain": [
       "<IPython.lib.display.IFrame at 0x11fa07880>"
      ]
     },
     "execution_count": 4,
     "metadata": {},
     "output_type": "execute_result"
    }
   ],
   "source": [
    "food_webs[1].show_network_for_nodes(['EstuarineSediment detritus'])"
   ]
  },
  {
   "cell_type": "code",
   "execution_count": null,
   "metadata": {},
   "outputs": [],
   "source": []
  }
 ],
 "metadata": {
  "kernelspec": {
   "display_name": "Python 3",
   "language": "python",
   "name": "python3"
  },
  "language_info": {
   "codemirror_mode": {
    "name": "ipython",
    "version": 3
   },
   "file_extension": ".py",
   "mimetype": "text/x-python",
   "name": "python",
   "nbconvert_exporter": "python",
   "pygments_lexer": "ipython3",
   "version": "3.8.5"
  }
 },
 "nbformat": 4,
 "nbformat_minor": 4
}
