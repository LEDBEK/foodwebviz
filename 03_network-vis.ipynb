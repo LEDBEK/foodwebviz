{
 "cells": [
  {
   "cell_type": "code",
   "execution_count": 1,
   "metadata": {},
   "outputs": [],
   "source": [
    "import math\n",
    "import numpy as np\n",
    "import pandas as pd\n",
    "import networkx as nx\n",
    "from pyvis.network import Network\n",
    "\n",
    "import plotly.graph_objects as go\n",
    "import plotly.express as px\n",
    "        \n",
    "import matplotlib.pyplot as plt\n",
    "import pylab\n",
    "\n",
    "from pylab import rcParams\n",
    "rcParams['figure.figsize'] = 12, 8\n",
    "\n",
    "import foodwebs as fw "
   ]
  },
  {
   "cell_type": "code",
   "execution_count": 2,
   "metadata": {},
   "outputs": [
    {
     "name": "stdout",
     "output_type": "stream",
     "text": [
      "Upper Chesapeake Bay in Summer --> 34, 28\n",
      "Albatross Bay _ 465 ,   bay/fj --> 99, 92\n",
      "USA, Mid Atlantic Bight _ 99 , --> 55, 54\n",
      "Flow network of St Marks febs2 --> 51, 40\n",
      "Table 9. Flow data for the Thu --> 33, 29\n",
      "Alaska, Prince William Sound _ --> 19, 18\n",
      "\"Mdloti Network, March 2003, i --> 46, 43\n",
      "Bothnian Bay; Sandbert, et al. --> 12, 10\n",
      "FLORIDA BAY TROPHIC EXCHANGE M --> 125, 104\n",
      "Oneida Post ZM Unbalanced      --> 76, 73\n",
      "Bay of Biscay _ 335 ,   contin --> 32, 30\n"
     ]
    }
   ],
   "source": [
    "import glob\n",
    "food_webs = [fw.read_from_SCOR(net_path) for net_path in glob.glob('./data/*')]\n",
    "\n",
    "for web in food_webs:\n",
    "    print(f'{web.title[:30]} --> {web.n}, {web.n_living}')"
   ]
  },
  {
   "cell_type": "code",
   "execution_count": 6,
   "metadata": {},
   "outputs": [
    {
     "data": {
      "text/html": [
       "\n",
       "        <iframe\n",
       "            width=\"100%\"\n",
       "            height=\"800px\"\n",
       "            src=\"food_web.html\"\n",
       "            frameborder=\"0\"\n",
       "            allowfullscreen\n",
       "        ></iframe>\n",
       "        "
      ],
      "text/plain": [
       "<IPython.lib.display.IFrame at 0x123059610>"
      ]
     },
     "execution_count": 6,
     "metadata": {},
     "output_type": "execute_result"
    }
   ],
   "source": [
    "fw.draw_network_for_nodes(food_webs[1], ['Red mud crab'])"
   ]
  },
  {
   "cell_type": "code",
   "execution_count": 7,
   "metadata": {},
   "outputs": [
    {
     "data": {
      "text/html": [
       "\n",
       "        <iframe\n",
       "            width=\"100%\"\n",
       "            height=\"800px\"\n",
       "            src=\"food_web.html\"\n",
       "            frameborder=\"0\"\n",
       "            allowfullscreen\n",
       "        ></iframe>\n",
       "        "
      ],
      "text/plain": [
       "<IPython.lib.display.IFrame at 0x122d3da00>"
      ]
     },
     "execution_count": 7,
     "metadata": {},
     "output_type": "execute_result"
    }
   ],
   "source": [
    "fw.draw_network_for_nodes(food_webs[1], ['Sand crab'])"
   ]
  }
 ],
 "metadata": {
  "kernelspec": {
   "display_name": "Python 3",
   "language": "python",
   "name": "python3"
  },
  "language_info": {
   "codemirror_mode": {
    "name": "ipython",
    "version": 3
   },
   "file_extension": ".py",
   "mimetype": "text/x-python",
   "name": "python",
   "nbconvert_exporter": "python",
   "pygments_lexer": "ipython3",
   "version": "3.8.5"
  }
 },
 "nbformat": 4,
 "nbformat_minor": 4
}
